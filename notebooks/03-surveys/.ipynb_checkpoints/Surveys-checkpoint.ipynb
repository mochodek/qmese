{
 "cells": [
  {
   "cell_type": "markdown",
   "metadata": {},
   "source": [
    "# Surveys data analysis\n",
    "\n",
    "In this tutorial you will learn how to analyze responses to typically met question types in surveys.\n",
    "\n",
    "Our exemplary survey is about Attitude towards programming in Java. It consists of six questions:\n",
    "\n",
    "- P1: How often do you program in Java?\n",
    "- P2: Have you ever developed an application in Java for commercial purposes?\n",
    "- P3: Do you like programming in Java?\n",
    "- P4: Which Integrated Development Environment for developing Java is the best in your opinion?\n",
    "- P5: What other programming language you have used so far in your projects?\n",
    "- P6: In how many commercial projects have you participated in as a software developer?\n"
   ]
  },
  {
   "cell_type": "markdown",
   "metadata": {},
   "source": [
    "## Load packages\n",
    "\n",
    "Let's first load / install necessary packages."
   ]
  },
  {
   "cell_type": "code",
   "execution_count": 3,
   "metadata": {},
   "outputs": [],
   "source": [
    "#install.packages(c(\"dplyr\", \"gmodels\", \"coin\", \"gdata\"), \n",
    "#                 repos='http://cran.us.r-project.org')"
   ]
  },
  {
   "cell_type": "code",
   "execution_count": 5,
   "metadata": {},
   "outputs": [],
   "source": [
    "require(gmodels)\n",
    "require(coin) \n",
    "require(gdata)\n",
    "require(dplyr)"
   ]
  },
  {
   "cell_type": "markdown",
   "metadata": {},
   "source": [
    "## Load data\n",
    "\n",
    "Let's load the results of our suvey and convert some variables' scales."
   ]
  },
  {
   "cell_type": "code",
   "execution_count": 6,
   "metadata": {},
   "outputs": [
    {
     "data": {
      "text/html": [
       "<table>\n",
       "<thead><tr><th scope=col>P1</th><th scope=col>P2</th><th scope=col>P3</th><th scope=col>P4</th><th scope=col>P5</th><th scope=col>P6</th><th scope=col>P5C</th><th scope=col>P5CSharp</th><th scope=col>P5PlusPlus</th><th scope=col>P5PHP</th><th scope=col>P5Python</th><th scope=col>P5Assembler</th></tr></thead>\n",
       "<tbody>\n",
       "\t<tr><td>Rarely          </td><td>No              </td><td>Definitely no   </td><td>Don't know      </td><td>PHP, Python     </td><td> 3              </td><td>No              </td><td>No              </td><td>No              </td><td>Yes             </td><td>Yes             </td><td>No              </td></tr>\n",
       "\t<tr><td>Seldom          </td><td>No              </td><td>No              </td><td>Eclipse         </td><td>PHP             </td><td> 5              </td><td>No              </td><td>No              </td><td>No              </td><td>Yes             </td><td>No              </td><td>No              </td></tr>\n",
       "\t<tr><td>Occasionally    </td><td>No              </td><td>No              </td><td>IntelliJ IDEA   </td><td>C, Python       </td><td> 6              </td><td>Yes             </td><td>No              </td><td>No              </td><td>No              </td><td>Yes             </td><td>No              </td></tr>\n",
       "\t<tr><td>Most of the time</td><td>Yes             </td><td>Definitely yes  </td><td>NetBeans        </td><td>C++             </td><td> 5              </td><td>No              </td><td>No              </td><td>Yes             </td><td>No              </td><td>No              </td><td>No              </td></tr>\n",
       "\t<tr><td>Most of the time</td><td>Yes             </td><td>Definitely yes  </td><td>NetBeans        </td><td>C#              </td><td> 6              </td><td>No              </td><td>Yes             </td><td>No              </td><td>No              </td><td>No              </td><td>No              </td></tr>\n",
       "\t<tr><td>Occasionally    </td><td>Yes             </td><td>Yes             </td><td>Eclipse         </td><td>C, Assembler    </td><td>12              </td><td>Yes             </td><td>No              </td><td>No              </td><td>No              </td><td>No              </td><td>Yes             </td></tr>\n",
       "</tbody>\n",
       "</table>\n"
      ],
      "text/latex": [
       "\\begin{tabular}{r|llllllllllll}\n",
       " P1 & P2 & P3 & P4 & P5 & P6 & P5C & P5CSharp & P5PlusPlus & P5PHP & P5Python & P5Assembler\\\\\n",
       "\\hline\n",
       "\t Rarely           & No               & Definitely no    & Don't know       & PHP, Python      &  3               & No               & No               & No               & Yes              & Yes              & No              \\\\\n",
       "\t Seldom           & No               & No               & Eclipse          & PHP              &  5               & No               & No               & No               & Yes              & No               & No              \\\\\n",
       "\t Occasionally     & No               & No               & IntelliJ IDEA    & C, Python        &  6               & Yes              & No               & No               & No               & Yes              & No              \\\\\n",
       "\t Most of the time & Yes              & Definitely yes   & NetBeans         & C++              &  5               & No               & No               & Yes              & No               & No               & No              \\\\\n",
       "\t Most of the time & Yes              & Definitely yes   & NetBeans         & C\\#             &  6               & No               & Yes              & No               & No               & No               & No              \\\\\n",
       "\t Occasionally     & Yes              & Yes              & Eclipse          & C, Assembler     & 12               & Yes              & No               & No               & No               & No               & Yes             \\\\\n",
       "\\end{tabular}\n"
      ],
      "text/markdown": [
       "\n",
       "| P1 | P2 | P3 | P4 | P5 | P6 | P5C | P5CSharp | P5PlusPlus | P5PHP | P5Python | P5Assembler |\n",
       "|---|---|---|---|---|---|---|---|---|---|---|---|\n",
       "| Rarely           | No               | Definitely no    | Don't know       | PHP, Python      |  3               | No               | No               | No               | Yes              | Yes              | No               |\n",
       "| Seldom           | No               | No               | Eclipse          | PHP              |  5               | No               | No               | No               | Yes              | No               | No               |\n",
       "| Occasionally     | No               | No               | IntelliJ IDEA    | C, Python        |  6               | Yes              | No               | No               | No               | Yes              | No               |\n",
       "| Most of the time | Yes              | Definitely yes   | NetBeans         | C++              |  5               | No               | No               | Yes              | No               | No               | No               |\n",
       "| Most of the time | Yes              | Definitely yes   | NetBeans         | C#               |  6               | No               | Yes              | No               | No               | No               | No               |\n",
       "| Occasionally     | Yes              | Yes              | Eclipse          | C, Assembler     | 12               | Yes              | No               | No               | No               | No               | Yes              |\n",
       "\n"
      ],
      "text/plain": [
       "  P1               P2  P3             P4            P5           P6 P5C\n",
       "1 Rarely           No  Definitely no  Don't know    PHP, Python   3 No \n",
       "2 Seldom           No  No             Eclipse       PHP           5 No \n",
       "3 Occasionally     No  No             IntelliJ IDEA C, Python     6 Yes\n",
       "4 Most of the time Yes Definitely yes NetBeans      C++           5 No \n",
       "5 Most of the time Yes Definitely yes NetBeans      C#            6 No \n",
       "6 Occasionally     Yes Yes            Eclipse       C, Assembler 12 Yes\n",
       "  P5CSharp P5PlusPlus P5PHP P5Python P5Assembler\n",
       "1 No       No         Yes   Yes      No         \n",
       "2 No       No         Yes   No       No         \n",
       "3 No       No         No    Yes      No         \n",
       "4 No       Yes        No    No       No         \n",
       "5 Yes      No         No    No       No         \n",
       "6 No       No         No    No       Yes        "
      ]
     },
     "metadata": {},
     "output_type": "display_data"
    },
    {
     "name": "stdout",
     "output_type": "stream",
     "text": [
      "'data.frame':\t91 obs. of  12 variables:\n",
      " $ P1         : Factor w/ 4 levels \"Most of the time\",..: 3 4 2 1 1 2 1 2 2 3 ...\n",
      " $ P2         : Factor w/ 2 levels \"No\",\"Yes\": 1 1 1 2 2 2 1 2 2 1 ...\n",
      " $ P3         : Factor w/ 5 levels \"Definitely no\",..: 1 4 4 2 2 5 2 4 5 1 ...\n",
      " $ P4         : Factor w/ 4 levels \"Don't know\",\"Eclipse\",..: 1 2 3 4 4 2 3 2 2 1 ...\n",
      " $ P5         : Factor w/ 13 levels \"C#\",\"C#, PHP\",..: 10 9 8 4 1 7 3 10 12 11 ...\n",
      " $ P6         : int  3 5 6 5 6 12 5 7 4 5 ...\n",
      " $ P5C        : Factor w/ 2 levels \"No\",\"Yes\": 1 1 2 1 1 2 1 1 1 1 ...\n",
      " $ P5CSharp   : Factor w/ 2 levels \"No\",\"Yes\": 1 1 1 1 2 1 2 1 2 1 ...\n",
      " $ P5PlusPlus : Factor w/ 2 levels \"No\",\"Yes\": 1 1 1 2 1 1 1 1 1 1 ...\n",
      " $ P5PHP      : Factor w/ 2 levels \"No\",\"Yes\": 2 2 1 1 1 1 2 2 2 2 ...\n",
      " $ P5Python   : Factor w/ 2 levels \"No\",\"Yes\": 2 1 2 1 1 1 1 2 2 2 ...\n",
      " $ P5Assembler: Factor w/ 2 levels \"No\",\"Yes\": 1 1 1 1 1 2 2 1 1 1 ...\n"
     ]
    }
   ],
   "source": [
    "survey_data <- read.table(\"./data.csv\", sep=\";\", header=TRUE)\n",
    "head(survey_data)\n",
    "str(survey_data)"
   ]
  },
  {
   "cell_type": "markdown",
   "metadata": {},
   "source": [
    "Let's convert P1 and P2 to ordinal variables (currently nominal)"
   ]
  },
  {
   "cell_type": "code",
   "execution_count": 7,
   "metadata": {},
   "outputs": [],
   "source": [
    "#ordinal scales\n",
    "scale_likert <- c(\"Definitely no\", \"No\", \"Hard to say\", \"Yes\", \"Definitely yes\")\n",
    "colors_likert <- c(\"#FF3300\", \"#FF704D\", \"#CCCCFF\", \"#85E085\", \"#33CC33\")\n",
    "scale_freq <- c(\"Never\", \"Rarely\", \"Seldom\", \"Occasionally\", \"Most of the time\")\n",
    "\n",
    "# convert\n",
    "survey_data$P1 <- ordered(survey_data$P1, levels=scale_freq)\n",
    "survey_data$P3 <- ordered(survey_data$P3, levels=scale_likert)"
   ]
  },
  {
   "cell_type": "markdown",
   "metadata": {},
   "source": [
    "Let's see what the structure is?"
   ]
  },
  {
   "cell_type": "code",
   "execution_count": 8,
   "metadata": {},
   "outputs": [
    {
     "name": "stdout",
     "output_type": "stream",
     "text": [
      "'data.frame':\t91 obs. of  12 variables:\n",
      " $ P1         : Ord.factor w/ 5 levels \"Never\"<\"Rarely\"<..: 2 3 4 5 5 4 5 4 4 2 ...\n",
      " $ P2         : Factor w/ 2 levels \"No\",\"Yes\": 1 1 1 2 2 2 1 2 2 1 ...\n",
      " $ P3         : Ord.factor w/ 5 levels \"Definitely no\"<..: 1 2 2 5 5 4 5 2 4 1 ...\n",
      " $ P4         : Factor w/ 4 levels \"Don't know\",\"Eclipse\",..: 1 2 3 4 4 2 3 2 2 1 ...\n",
      " $ P5         : Factor w/ 13 levels \"C#\",\"C#, PHP\",..: 10 9 8 4 1 7 3 10 12 11 ...\n",
      " $ P6         : int  3 5 6 5 6 12 5 7 4 5 ...\n",
      " $ P5C        : Factor w/ 2 levels \"No\",\"Yes\": 1 1 2 1 1 2 1 1 1 1 ...\n",
      " $ P5CSharp   : Factor w/ 2 levels \"No\",\"Yes\": 1 1 1 1 2 1 2 1 2 1 ...\n",
      " $ P5PlusPlus : Factor w/ 2 levels \"No\",\"Yes\": 1 1 1 2 1 1 1 1 1 1 ...\n",
      " $ P5PHP      : Factor w/ 2 levels \"No\",\"Yes\": 2 2 1 1 1 1 2 2 2 2 ...\n",
      " $ P5Python   : Factor w/ 2 levels \"No\",\"Yes\": 2 1 2 1 1 1 1 2 2 2 ...\n",
      " $ P5Assembler: Factor w/ 2 levels \"No\",\"Yes\": 1 1 1 1 1 2 2 1 1 1 ...\n"
     ]
    }
   ],
   "source": [
    "str(survey_data)"
   ]
  },
  {
   "cell_type": "markdown",
   "metadata": {},
   "source": [
    "Sometimes we want to discretize variables. For instance, our question P6 asks about the number of projects the person participated in. We might not be interested in particular values -  3 or 4 - does the difference really matters to us? Maybe we would like to classify respondents into some classes. That's why we may want to discretize variable."
   ]
  },
  {
   "cell_type": "code",
   "execution_count": 9,
   "metadata": {},
   "outputs": [
    {
     "data": {
      "text/html": [
       "<ol class=list-inline>\n",
       "\t<li>3</li>\n",
       "\t<li>5</li>\n",
       "\t<li>6</li>\n",
       "\t<li>5</li>\n",
       "\t<li>6</li>\n",
       "\t<li>12</li>\n",
       "\t<li>5</li>\n",
       "\t<li>7</li>\n",
       "\t<li>4</li>\n",
       "\t<li>5</li>\n",
       "\t<li>3</li>\n",
       "\t<li>5</li>\n",
       "\t<li>2</li>\n",
       "\t<li>7</li>\n",
       "\t<li>3</li>\n",
       "\t<li>10</li>\n",
       "\t<li>2</li>\n",
       "\t<li>3</li>\n",
       "\t<li>3</li>\n",
       "\t<li>10</li>\n",
       "\t<li>3</li>\n",
       "\t<li>3</li>\n",
       "\t<li>3</li>\n",
       "\t<li>3</li>\n",
       "\t<li>1</li>\n",
       "\t<li>3</li>\n",
       "\t<li>9</li>\n",
       "\t<li>3</li>\n",
       "\t<li>7</li>\n",
       "\t<li>3</li>\n",
       "\t<li>3</li>\n",
       "\t<li>3</li>\n",
       "\t<li>12</li>\n",
       "\t<li>3</li>\n",
       "\t<li>3</li>\n",
       "\t<li>4</li>\n",
       "\t<li>6</li>\n",
       "\t<li>6</li>\n",
       "\t<li>5</li>\n",
       "\t<li>6</li>\n",
       "\t<li>2</li>\n",
       "\t<li>5</li>\n",
       "\t<li>7</li>\n",
       "\t<li>2</li>\n",
       "\t<li>4</li>\n",
       "\t<li>6</li>\n",
       "\t<li>6</li>\n",
       "\t<li>8</li>\n",
       "\t<li>5</li>\n",
       "\t<li>5</li>\n",
       "\t<li>5</li>\n",
       "\t<li>5</li>\n",
       "\t<li>19</li>\n",
       "\t<li>5</li>\n",
       "\t<li>12</li>\n",
       "\t<li>7</li>\n",
       "\t<li>5</li>\n",
       "\t<li>5</li>\n",
       "\t<li>4</li>\n",
       "\t<li>14</li>\n",
       "\t<li>5</li>\n",
       "\t<li>5</li>\n",
       "\t<li>15</li>\n",
       "\t<li>5</li>\n",
       "\t<li>5</li>\n",
       "\t<li>5</li>\n",
       "\t<li>2</li>\n",
       "\t<li>5</li>\n",
       "\t<li>5</li>\n",
       "\t<li>4</li>\n",
       "\t<li>5</li>\n",
       "\t<li>6</li>\n",
       "\t<li>6</li>\n",
       "\t<li>6</li>\n",
       "\t<li>6</li>\n",
       "\t<li>6</li>\n",
       "\t<li>6</li>\n",
       "\t<li>7</li>\n",
       "\t<li>6</li>\n",
       "\t<li>6</li>\n",
       "\t<li>3</li>\n",
       "\t<li>6</li>\n",
       "\t<li>1</li>\n",
       "\t<li>6</li>\n",
       "\t<li>6</li>\n",
       "\t<li>9</li>\n",
       "\t<li>6</li>\n",
       "\t<li>6</li>\n",
       "\t<li>10</li>\n",
       "\t<li>11</li>\n",
       "\t<li>12</li>\n",
       "</ol>\n"
      ],
      "text/latex": [
       "\\begin{enumerate*}\n",
       "\\item 3\n",
       "\\item 5\n",
       "\\item 6\n",
       "\\item 5\n",
       "\\item 6\n",
       "\\item 12\n",
       "\\item 5\n",
       "\\item 7\n",
       "\\item 4\n",
       "\\item 5\n",
       "\\item 3\n",
       "\\item 5\n",
       "\\item 2\n",
       "\\item 7\n",
       "\\item 3\n",
       "\\item 10\n",
       "\\item 2\n",
       "\\item 3\n",
       "\\item 3\n",
       "\\item 10\n",
       "\\item 3\n",
       "\\item 3\n",
       "\\item 3\n",
       "\\item 3\n",
       "\\item 1\n",
       "\\item 3\n",
       "\\item 9\n",
       "\\item 3\n",
       "\\item 7\n",
       "\\item 3\n",
       "\\item 3\n",
       "\\item 3\n",
       "\\item 12\n",
       "\\item 3\n",
       "\\item 3\n",
       "\\item 4\n",
       "\\item 6\n",
       "\\item 6\n",
       "\\item 5\n",
       "\\item 6\n",
       "\\item 2\n",
       "\\item 5\n",
       "\\item 7\n",
       "\\item 2\n",
       "\\item 4\n",
       "\\item 6\n",
       "\\item 6\n",
       "\\item 8\n",
       "\\item 5\n",
       "\\item 5\n",
       "\\item 5\n",
       "\\item 5\n",
       "\\item 19\n",
       "\\item 5\n",
       "\\item 12\n",
       "\\item 7\n",
       "\\item 5\n",
       "\\item 5\n",
       "\\item 4\n",
       "\\item 14\n",
       "\\item 5\n",
       "\\item 5\n",
       "\\item 15\n",
       "\\item 5\n",
       "\\item 5\n",
       "\\item 5\n",
       "\\item 2\n",
       "\\item 5\n",
       "\\item 5\n",
       "\\item 4\n",
       "\\item 5\n",
       "\\item 6\n",
       "\\item 6\n",
       "\\item 6\n",
       "\\item 6\n",
       "\\item 6\n",
       "\\item 6\n",
       "\\item 7\n",
       "\\item 6\n",
       "\\item 6\n",
       "\\item 3\n",
       "\\item 6\n",
       "\\item 1\n",
       "\\item 6\n",
       "\\item 6\n",
       "\\item 9\n",
       "\\item 6\n",
       "\\item 6\n",
       "\\item 10\n",
       "\\item 11\n",
       "\\item 12\n",
       "\\end{enumerate*}\n"
      ],
      "text/markdown": [
       "1. 3\n",
       "2. 5\n",
       "3. 6\n",
       "4. 5\n",
       "5. 6\n",
       "6. 12\n",
       "7. 5\n",
       "8. 7\n",
       "9. 4\n",
       "10. 5\n",
       "11. 3\n",
       "12. 5\n",
       "13. 2\n",
       "14. 7\n",
       "15. 3\n",
       "16. 10\n",
       "17. 2\n",
       "18. 3\n",
       "19. 3\n",
       "20. 10\n",
       "21. 3\n",
       "22. 3\n",
       "23. 3\n",
       "24. 3\n",
       "25. 1\n",
       "26. 3\n",
       "27. 9\n",
       "28. 3\n",
       "29. 7\n",
       "30. 3\n",
       "31. 3\n",
       "32. 3\n",
       "33. 12\n",
       "34. 3\n",
       "35. 3\n",
       "36. 4\n",
       "37. 6\n",
       "38. 6\n",
       "39. 5\n",
       "40. 6\n",
       "41. 2\n",
       "42. 5\n",
       "43. 7\n",
       "44. 2\n",
       "45. 4\n",
       "46. 6\n",
       "47. 6\n",
       "48. 8\n",
       "49. 5\n",
       "50. 5\n",
       "51. 5\n",
       "52. 5\n",
       "53. 19\n",
       "54. 5\n",
       "55. 12\n",
       "56. 7\n",
       "57. 5\n",
       "58. 5\n",
       "59. 4\n",
       "60. 14\n",
       "61. 5\n",
       "62. 5\n",
       "63. 15\n",
       "64. 5\n",
       "65. 5\n",
       "66. 5\n",
       "67. 2\n",
       "68. 5\n",
       "69. 5\n",
       "70. 4\n",
       "71. 5\n",
       "72. 6\n",
       "73. 6\n",
       "74. 6\n",
       "75. 6\n",
       "76. 6\n",
       "77. 6\n",
       "78. 7\n",
       "79. 6\n",
       "80. 6\n",
       "81. 3\n",
       "82. 6\n",
       "83. 1\n",
       "84. 6\n",
       "85. 6\n",
       "86. 9\n",
       "87. 6\n",
       "88. 6\n",
       "89. 10\n",
       "90. 11\n",
       "91. 12\n",
       "\n",
       "\n"
      ],
      "text/plain": [
       " [1]  3  5  6  5  6 12  5  7  4  5  3  5  2  7  3 10  2  3  3 10  3  3  3  3  1\n",
       "[26]  3  9  3  7  3  3  3 12  3  3  4  6  6  5  6  2  5  7  2  4  6  6  8  5  5\n",
       "[51]  5  5 19  5 12  7  5  5  4 14  5  5 15  5  5  5  2  5  5  4  5  6  6  6  6\n",
       "[76]  6  6  7  6  6  3  6  1  6  6  9  6  6 10 11 12"
      ]
     },
     "metadata": {},
     "output_type": "display_data"
    }
   ],
   "source": [
    "survey_data$P6"
   ]
  },
  {
   "cell_type": "code",
   "execution_count": 96,
   "metadata": {
    "collapsed": true
   },
   "outputs": [],
   "source": [
    "?cut"
   ]
  },
  {
   "cell_type": "code",
   "execution_count": 10,
   "metadata": {},
   "outputs": [
    {
     "data": {
      "text/plain": [
       "   Min. 1st Qu.  Median    Mean 3rd Qu.    Max. \n",
       "  1.000   3.000   5.000   5.692   6.000  19.000 "
      ]
     },
     "metadata": {},
     "output_type": "display_data"
    }
   ],
   "source": [
    "summary(survey_data$P6)"
   ]
  },
  {
   "cell_type": "code",
   "execution_count": 11,
   "metadata": {},
   "outputs": [
    {
     "data": {
      "text/html": [
       "<ol class=list-inline>\n",
       "\t<li>(0.982,7]</li>\n",
       "\t<li>(0.982,7]</li>\n",
       "\t<li>(0.982,7]</li>\n",
       "\t<li>(0.982,7]</li>\n",
       "\t<li>(0.982,7]</li>\n",
       "\t<li>(7,13]</li>\n",
       "\t<li>(0.982,7]</li>\n",
       "\t<li>(0.982,7]</li>\n",
       "\t<li>(0.982,7]</li>\n",
       "\t<li>(0.982,7]</li>\n",
       "\t<li>(0.982,7]</li>\n",
       "\t<li>(0.982,7]</li>\n",
       "\t<li>(0.982,7]</li>\n",
       "\t<li>(0.982,7]</li>\n",
       "\t<li>(0.982,7]</li>\n",
       "\t<li>(7,13]</li>\n",
       "\t<li>(0.982,7]</li>\n",
       "\t<li>(0.982,7]</li>\n",
       "\t<li>(0.982,7]</li>\n",
       "\t<li>(7,13]</li>\n",
       "\t<li>(0.982,7]</li>\n",
       "\t<li>(0.982,7]</li>\n",
       "\t<li>(0.982,7]</li>\n",
       "\t<li>(0.982,7]</li>\n",
       "\t<li>(0.982,7]</li>\n",
       "\t<li>(0.982,7]</li>\n",
       "\t<li>(7,13]</li>\n",
       "\t<li>(0.982,7]</li>\n",
       "\t<li>(0.982,7]</li>\n",
       "\t<li>(0.982,7]</li>\n",
       "\t<li>(0.982,7]</li>\n",
       "\t<li>(0.982,7]</li>\n",
       "\t<li>(7,13]</li>\n",
       "\t<li>(0.982,7]</li>\n",
       "\t<li>(0.982,7]</li>\n",
       "\t<li>(0.982,7]</li>\n",
       "\t<li>(0.982,7]</li>\n",
       "\t<li>(0.982,7]</li>\n",
       "\t<li>(0.982,7]</li>\n",
       "\t<li>(0.982,7]</li>\n",
       "\t<li>(0.982,7]</li>\n",
       "\t<li>(0.982,7]</li>\n",
       "\t<li>(0.982,7]</li>\n",
       "\t<li>(0.982,7]</li>\n",
       "\t<li>(0.982,7]</li>\n",
       "\t<li>(0.982,7]</li>\n",
       "\t<li>(0.982,7]</li>\n",
       "\t<li>(7,13]</li>\n",
       "\t<li>(0.982,7]</li>\n",
       "\t<li>(0.982,7]</li>\n",
       "\t<li>(0.982,7]</li>\n",
       "\t<li>(0.982,7]</li>\n",
       "\t<li>(13,19]</li>\n",
       "\t<li>(0.982,7]</li>\n",
       "\t<li>(7,13]</li>\n",
       "\t<li>(0.982,7]</li>\n",
       "\t<li>(0.982,7]</li>\n",
       "\t<li>(0.982,7]</li>\n",
       "\t<li>(0.982,7]</li>\n",
       "\t<li>(13,19]</li>\n",
       "\t<li>(0.982,7]</li>\n",
       "\t<li>(0.982,7]</li>\n",
       "\t<li>(13,19]</li>\n",
       "\t<li>(0.982,7]</li>\n",
       "\t<li>(0.982,7]</li>\n",
       "\t<li>(0.982,7]</li>\n",
       "\t<li>(0.982,7]</li>\n",
       "\t<li>(0.982,7]</li>\n",
       "\t<li>(0.982,7]</li>\n",
       "\t<li>(0.982,7]</li>\n",
       "\t<li>(0.982,7]</li>\n",
       "\t<li>(0.982,7]</li>\n",
       "\t<li>(0.982,7]</li>\n",
       "\t<li>(0.982,7]</li>\n",
       "\t<li>(0.982,7]</li>\n",
       "\t<li>(0.982,7]</li>\n",
       "\t<li>(0.982,7]</li>\n",
       "\t<li>(0.982,7]</li>\n",
       "\t<li>(0.982,7]</li>\n",
       "\t<li>(0.982,7]</li>\n",
       "\t<li>(0.982,7]</li>\n",
       "\t<li>(0.982,7]</li>\n",
       "\t<li>(0.982,7]</li>\n",
       "\t<li>(0.982,7]</li>\n",
       "\t<li>(0.982,7]</li>\n",
       "\t<li>(7,13]</li>\n",
       "\t<li>(0.982,7]</li>\n",
       "\t<li>(0.982,7]</li>\n",
       "\t<li>(7,13]</li>\n",
       "\t<li>(7,13]</li>\n",
       "\t<li>(7,13]</li>\n",
       "</ol>\n",
       "\n",
       "<details>\n",
       "\t<summary style=display:list-item;cursor:pointer>\n",
       "\t\t<strong>Levels</strong>:\n",
       "\t</summary>\n",
       "\t<ol class=list-inline>\n",
       "\t\t<li>'(0.982,7]'</li>\n",
       "\t\t<li>'(7,13]'</li>\n",
       "\t\t<li>'(13,19]'</li>\n",
       "\t</ol>\n",
       "</details>"
      ],
      "text/latex": [
       "\\begin{enumerate*}\n",
       "\\item (0.982,7{]}\n",
       "\\item (0.982,7{]}\n",
       "\\item (0.982,7{]}\n",
       "\\item (0.982,7{]}\n",
       "\\item (0.982,7{]}\n",
       "\\item (7,13{]}\n",
       "\\item (0.982,7{]}\n",
       "\\item (0.982,7{]}\n",
       "\\item (0.982,7{]}\n",
       "\\item (0.982,7{]}\n",
       "\\item (0.982,7{]}\n",
       "\\item (0.982,7{]}\n",
       "\\item (0.982,7{]}\n",
       "\\item (0.982,7{]}\n",
       "\\item (0.982,7{]}\n",
       "\\item (7,13{]}\n",
       "\\item (0.982,7{]}\n",
       "\\item (0.982,7{]}\n",
       "\\item (0.982,7{]}\n",
       "\\item (7,13{]}\n",
       "\\item (0.982,7{]}\n",
       "\\item (0.982,7{]}\n",
       "\\item (0.982,7{]}\n",
       "\\item (0.982,7{]}\n",
       "\\item (0.982,7{]}\n",
       "\\item (0.982,7{]}\n",
       "\\item (7,13{]}\n",
       "\\item (0.982,7{]}\n",
       "\\item (0.982,7{]}\n",
       "\\item (0.982,7{]}\n",
       "\\item (0.982,7{]}\n",
       "\\item (0.982,7{]}\n",
       "\\item (7,13{]}\n",
       "\\item (0.982,7{]}\n",
       "\\item (0.982,7{]}\n",
       "\\item (0.982,7{]}\n",
       "\\item (0.982,7{]}\n",
       "\\item (0.982,7{]}\n",
       "\\item (0.982,7{]}\n",
       "\\item (0.982,7{]}\n",
       "\\item (0.982,7{]}\n",
       "\\item (0.982,7{]}\n",
       "\\item (0.982,7{]}\n",
       "\\item (0.982,7{]}\n",
       "\\item (0.982,7{]}\n",
       "\\item (0.982,7{]}\n",
       "\\item (0.982,7{]}\n",
       "\\item (7,13{]}\n",
       "\\item (0.982,7{]}\n",
       "\\item (0.982,7{]}\n",
       "\\item (0.982,7{]}\n",
       "\\item (0.982,7{]}\n",
       "\\item (13,19{]}\n",
       "\\item (0.982,7{]}\n",
       "\\item (7,13{]}\n",
       "\\item (0.982,7{]}\n",
       "\\item (0.982,7{]}\n",
       "\\item (0.982,7{]}\n",
       "\\item (0.982,7{]}\n",
       "\\item (13,19{]}\n",
       "\\item (0.982,7{]}\n",
       "\\item (0.982,7{]}\n",
       "\\item (13,19{]}\n",
       "\\item (0.982,7{]}\n",
       "\\item (0.982,7{]}\n",
       "\\item (0.982,7{]}\n",
       "\\item (0.982,7{]}\n",
       "\\item (0.982,7{]}\n",
       "\\item (0.982,7{]}\n",
       "\\item (0.982,7{]}\n",
       "\\item (0.982,7{]}\n",
       "\\item (0.982,7{]}\n",
       "\\item (0.982,7{]}\n",
       "\\item (0.982,7{]}\n",
       "\\item (0.982,7{]}\n",
       "\\item (0.982,7{]}\n",
       "\\item (0.982,7{]}\n",
       "\\item (0.982,7{]}\n",
       "\\item (0.982,7{]}\n",
       "\\item (0.982,7{]}\n",
       "\\item (0.982,7{]}\n",
       "\\item (0.982,7{]}\n",
       "\\item (0.982,7{]}\n",
       "\\item (0.982,7{]}\n",
       "\\item (0.982,7{]}\n",
       "\\item (7,13{]}\n",
       "\\item (0.982,7{]}\n",
       "\\item (0.982,7{]}\n",
       "\\item (7,13{]}\n",
       "\\item (7,13{]}\n",
       "\\item (7,13{]}\n",
       "\\end{enumerate*}\n",
       "\n",
       "\\emph{Levels}: \\begin{enumerate*}\n",
       "\\item '(0.982,7{]}'\n",
       "\\item '(7,13{]}'\n",
       "\\item '(13,19{]}'\n",
       "\\end{enumerate*}\n"
      ],
      "text/markdown": [
       "1. (0.982,7]\n",
       "2. (0.982,7]\n",
       "3. (0.982,7]\n",
       "4. (0.982,7]\n",
       "5. (0.982,7]\n",
       "6. (7,13]\n",
       "7. (0.982,7]\n",
       "8. (0.982,7]\n",
       "9. (0.982,7]\n",
       "10. (0.982,7]\n",
       "11. (0.982,7]\n",
       "12. (0.982,7]\n",
       "13. (0.982,7]\n",
       "14. (0.982,7]\n",
       "15. (0.982,7]\n",
       "16. (7,13]\n",
       "17. (0.982,7]\n",
       "18. (0.982,7]\n",
       "19. (0.982,7]\n",
       "20. (7,13]\n",
       "21. (0.982,7]\n",
       "22. (0.982,7]\n",
       "23. (0.982,7]\n",
       "24. (0.982,7]\n",
       "25. (0.982,7]\n",
       "26. (0.982,7]\n",
       "27. (7,13]\n",
       "28. (0.982,7]\n",
       "29. (0.982,7]\n",
       "30. (0.982,7]\n",
       "31. (0.982,7]\n",
       "32. (0.982,7]\n",
       "33. (7,13]\n",
       "34. (0.982,7]\n",
       "35. (0.982,7]\n",
       "36. (0.982,7]\n",
       "37. (0.982,7]\n",
       "38. (0.982,7]\n",
       "39. (0.982,7]\n",
       "40. (0.982,7]\n",
       "41. (0.982,7]\n",
       "42. (0.982,7]\n",
       "43. (0.982,7]\n",
       "44. (0.982,7]\n",
       "45. (0.982,7]\n",
       "46. (0.982,7]\n",
       "47. (0.982,7]\n",
       "48. (7,13]\n",
       "49. (0.982,7]\n",
       "50. (0.982,7]\n",
       "51. (0.982,7]\n",
       "52. (0.982,7]\n",
       "53. (13,19]\n",
       "54. (0.982,7]\n",
       "55. (7,13]\n",
       "56. (0.982,7]\n",
       "57. (0.982,7]\n",
       "58. (0.982,7]\n",
       "59. (0.982,7]\n",
       "60. (13,19]\n",
       "61. (0.982,7]\n",
       "62. (0.982,7]\n",
       "63. (13,19]\n",
       "64. (0.982,7]\n",
       "65. (0.982,7]\n",
       "66. (0.982,7]\n",
       "67. (0.982,7]\n",
       "68. (0.982,7]\n",
       "69. (0.982,7]\n",
       "70. (0.982,7]\n",
       "71. (0.982,7]\n",
       "72. (0.982,7]\n",
       "73. (0.982,7]\n",
       "74. (0.982,7]\n",
       "75. (0.982,7]\n",
       "76. (0.982,7]\n",
       "77. (0.982,7]\n",
       "78. (0.982,7]\n",
       "79. (0.982,7]\n",
       "80. (0.982,7]\n",
       "81. (0.982,7]\n",
       "82. (0.982,7]\n",
       "83. (0.982,7]\n",
       "84. (0.982,7]\n",
       "85. (0.982,7]\n",
       "86. (7,13]\n",
       "87. (0.982,7]\n",
       "88. (0.982,7]\n",
       "89. (7,13]\n",
       "90. (7,13]\n",
       "91. (7,13]\n",
       "\n",
       "\n",
       "\n",
       "**Levels**: 1. '(0.982,7]'\n",
       "2. '(7,13]'\n",
       "3. '(13,19]'\n",
       "\n",
       "\n"
      ],
      "text/plain": [
       " [1] (0.982,7] (0.982,7] (0.982,7] (0.982,7] (0.982,7] (7,13]    (0.982,7]\n",
       " [8] (0.982,7] (0.982,7] (0.982,7] (0.982,7] (0.982,7] (0.982,7] (0.982,7]\n",
       "[15] (0.982,7] (7,13]    (0.982,7] (0.982,7] (0.982,7] (7,13]    (0.982,7]\n",
       "[22] (0.982,7] (0.982,7] (0.982,7] (0.982,7] (0.982,7] (7,13]    (0.982,7]\n",
       "[29] (0.982,7] (0.982,7] (0.982,7] (0.982,7] (7,13]    (0.982,7] (0.982,7]\n",
       "[36] (0.982,7] (0.982,7] (0.982,7] (0.982,7] (0.982,7] (0.982,7] (0.982,7]\n",
       "[43] (0.982,7] (0.982,7] (0.982,7] (0.982,7] (0.982,7] (7,13]    (0.982,7]\n",
       "[50] (0.982,7] (0.982,7] (0.982,7] (13,19]   (0.982,7] (7,13]    (0.982,7]\n",
       "[57] (0.982,7] (0.982,7] (0.982,7] (13,19]   (0.982,7] (0.982,7] (13,19]  \n",
       "[64] (0.982,7] (0.982,7] (0.982,7] (0.982,7] (0.982,7] (0.982,7] (0.982,7]\n",
       "[71] (0.982,7] (0.982,7] (0.982,7] (0.982,7] (0.982,7] (0.982,7] (0.982,7]\n",
       "[78] (0.982,7] (0.982,7] (0.982,7] (0.982,7] (0.982,7] (0.982,7] (0.982,7]\n",
       "[85] (0.982,7] (7,13]    (0.982,7] (0.982,7] (7,13]    (7,13]    (7,13]   \n",
       "Levels: (0.982,7] (7,13] (13,19]"
      ]
     },
     "metadata": {},
     "output_type": "display_data"
    }
   ],
   "source": [
    "cut(survey_data$P6, br=3)"
   ]
  },
  {
   "cell_type": "code",
   "execution_count": 12,
   "metadata": {},
   "outputs": [
    {
     "data": {
      "text/html": [
       "<ol class=list-inline>\n",
       "\t<li>(0,3]</li>\n",
       "\t<li>(3,5]</li>\n",
       "\t<li>(5,Inf]</li>\n",
       "\t<li>(3,5]</li>\n",
       "\t<li>(5,Inf]</li>\n",
       "\t<li>(5,Inf]</li>\n",
       "\t<li>(3,5]</li>\n",
       "\t<li>(5,Inf]</li>\n",
       "\t<li>(3,5]</li>\n",
       "\t<li>(3,5]</li>\n",
       "\t<li>(0,3]</li>\n",
       "\t<li>(3,5]</li>\n",
       "\t<li>(0,3]</li>\n",
       "\t<li>(5,Inf]</li>\n",
       "\t<li>(0,3]</li>\n",
       "\t<li>(5,Inf]</li>\n",
       "\t<li>(0,3]</li>\n",
       "\t<li>(0,3]</li>\n",
       "\t<li>(0,3]</li>\n",
       "\t<li>(5,Inf]</li>\n",
       "\t<li>(0,3]</li>\n",
       "\t<li>(0,3]</li>\n",
       "\t<li>(0,3]</li>\n",
       "\t<li>(0,3]</li>\n",
       "\t<li>(0,3]</li>\n",
       "\t<li>(0,3]</li>\n",
       "\t<li>(5,Inf]</li>\n",
       "\t<li>(0,3]</li>\n",
       "\t<li>(5,Inf]</li>\n",
       "\t<li>(0,3]</li>\n",
       "\t<li>(0,3]</li>\n",
       "\t<li>(0,3]</li>\n",
       "\t<li>(5,Inf]</li>\n",
       "\t<li>(0,3]</li>\n",
       "\t<li>(0,3]</li>\n",
       "\t<li>(3,5]</li>\n",
       "\t<li>(5,Inf]</li>\n",
       "\t<li>(5,Inf]</li>\n",
       "\t<li>(3,5]</li>\n",
       "\t<li>(5,Inf]</li>\n",
       "\t<li>(0,3]</li>\n",
       "\t<li>(3,5]</li>\n",
       "\t<li>(5,Inf]</li>\n",
       "\t<li>(0,3]</li>\n",
       "\t<li>(3,5]</li>\n",
       "\t<li>(5,Inf]</li>\n",
       "\t<li>(5,Inf]</li>\n",
       "\t<li>(5,Inf]</li>\n",
       "\t<li>(3,5]</li>\n",
       "\t<li>(3,5]</li>\n",
       "\t<li>(3,5]</li>\n",
       "\t<li>(3,5]</li>\n",
       "\t<li>(5,Inf]</li>\n",
       "\t<li>(3,5]</li>\n",
       "\t<li>(5,Inf]</li>\n",
       "\t<li>(5,Inf]</li>\n",
       "\t<li>(3,5]</li>\n",
       "\t<li>(3,5]</li>\n",
       "\t<li>(3,5]</li>\n",
       "\t<li>(5,Inf]</li>\n",
       "\t<li>(3,5]</li>\n",
       "\t<li>(3,5]</li>\n",
       "\t<li>(5,Inf]</li>\n",
       "\t<li>(3,5]</li>\n",
       "\t<li>(3,5]</li>\n",
       "\t<li>(3,5]</li>\n",
       "\t<li>(0,3]</li>\n",
       "\t<li>(3,5]</li>\n",
       "\t<li>(3,5]</li>\n",
       "\t<li>(3,5]</li>\n",
       "\t<li>(3,5]</li>\n",
       "\t<li>(5,Inf]</li>\n",
       "\t<li>(5,Inf]</li>\n",
       "\t<li>(5,Inf]</li>\n",
       "\t<li>(5,Inf]</li>\n",
       "\t<li>(5,Inf]</li>\n",
       "\t<li>(5,Inf]</li>\n",
       "\t<li>(5,Inf]</li>\n",
       "\t<li>(5,Inf]</li>\n",
       "\t<li>(5,Inf]</li>\n",
       "\t<li>(0,3]</li>\n",
       "\t<li>(5,Inf]</li>\n",
       "\t<li>(0,3]</li>\n",
       "\t<li>(5,Inf]</li>\n",
       "\t<li>(5,Inf]</li>\n",
       "\t<li>(5,Inf]</li>\n",
       "\t<li>(5,Inf]</li>\n",
       "\t<li>(5,Inf]</li>\n",
       "\t<li>(5,Inf]</li>\n",
       "\t<li>(5,Inf]</li>\n",
       "\t<li>(5,Inf]</li>\n",
       "</ol>\n",
       "\n",
       "<details>\n",
       "\t<summary style=display:list-item;cursor:pointer>\n",
       "\t\t<strong>Levels</strong>:\n",
       "\t</summary>\n",
       "\t<ol class=list-inline>\n",
       "\t\t<li>'(0,3]'</li>\n",
       "\t\t<li>'(3,5]'</li>\n",
       "\t\t<li>'(5,Inf]'</li>\n",
       "\t</ol>\n",
       "</details>"
      ],
      "text/latex": [
       "\\begin{enumerate*}\n",
       "\\item (0,3{]}\n",
       "\\item (3,5{]}\n",
       "\\item (5,Inf{]}\n",
       "\\item (3,5{]}\n",
       "\\item (5,Inf{]}\n",
       "\\item (5,Inf{]}\n",
       "\\item (3,5{]}\n",
       "\\item (5,Inf{]}\n",
       "\\item (3,5{]}\n",
       "\\item (3,5{]}\n",
       "\\item (0,3{]}\n",
       "\\item (3,5{]}\n",
       "\\item (0,3{]}\n",
       "\\item (5,Inf{]}\n",
       "\\item (0,3{]}\n",
       "\\item (5,Inf{]}\n",
       "\\item (0,3{]}\n",
       "\\item (0,3{]}\n",
       "\\item (0,3{]}\n",
       "\\item (5,Inf{]}\n",
       "\\item (0,3{]}\n",
       "\\item (0,3{]}\n",
       "\\item (0,3{]}\n",
       "\\item (0,3{]}\n",
       "\\item (0,3{]}\n",
       "\\item (0,3{]}\n",
       "\\item (5,Inf{]}\n",
       "\\item (0,3{]}\n",
       "\\item (5,Inf{]}\n",
       "\\item (0,3{]}\n",
       "\\item (0,3{]}\n",
       "\\item (0,3{]}\n",
       "\\item (5,Inf{]}\n",
       "\\item (0,3{]}\n",
       "\\item (0,3{]}\n",
       "\\item (3,5{]}\n",
       "\\item (5,Inf{]}\n",
       "\\item (5,Inf{]}\n",
       "\\item (3,5{]}\n",
       "\\item (5,Inf{]}\n",
       "\\item (0,3{]}\n",
       "\\item (3,5{]}\n",
       "\\item (5,Inf{]}\n",
       "\\item (0,3{]}\n",
       "\\item (3,5{]}\n",
       "\\item (5,Inf{]}\n",
       "\\item (5,Inf{]}\n",
       "\\item (5,Inf{]}\n",
       "\\item (3,5{]}\n",
       "\\item (3,5{]}\n",
       "\\item (3,5{]}\n",
       "\\item (3,5{]}\n",
       "\\item (5,Inf{]}\n",
       "\\item (3,5{]}\n",
       "\\item (5,Inf{]}\n",
       "\\item (5,Inf{]}\n",
       "\\item (3,5{]}\n",
       "\\item (3,5{]}\n",
       "\\item (3,5{]}\n",
       "\\item (5,Inf{]}\n",
       "\\item (3,5{]}\n",
       "\\item (3,5{]}\n",
       "\\item (5,Inf{]}\n",
       "\\item (3,5{]}\n",
       "\\item (3,5{]}\n",
       "\\item (3,5{]}\n",
       "\\item (0,3{]}\n",
       "\\item (3,5{]}\n",
       "\\item (3,5{]}\n",
       "\\item (3,5{]}\n",
       "\\item (3,5{]}\n",
       "\\item (5,Inf{]}\n",
       "\\item (5,Inf{]}\n",
       "\\item (5,Inf{]}\n",
       "\\item (5,Inf{]}\n",
       "\\item (5,Inf{]}\n",
       "\\item (5,Inf{]}\n",
       "\\item (5,Inf{]}\n",
       "\\item (5,Inf{]}\n",
       "\\item (5,Inf{]}\n",
       "\\item (0,3{]}\n",
       "\\item (5,Inf{]}\n",
       "\\item (0,3{]}\n",
       "\\item (5,Inf{]}\n",
       "\\item (5,Inf{]}\n",
       "\\item (5,Inf{]}\n",
       "\\item (5,Inf{]}\n",
       "\\item (5,Inf{]}\n",
       "\\item (5,Inf{]}\n",
       "\\item (5,Inf{]}\n",
       "\\item (5,Inf{]}\n",
       "\\end{enumerate*}\n",
       "\n",
       "\\emph{Levels}: \\begin{enumerate*}\n",
       "\\item '(0,3{]}'\n",
       "\\item '(3,5{]}'\n",
       "\\item '(5,Inf{]}'\n",
       "\\end{enumerate*}\n"
      ],
      "text/markdown": [
       "1. (0,3]\n",
       "2. (3,5]\n",
       "3. (5,Inf]\n",
       "4. (3,5]\n",
       "5. (5,Inf]\n",
       "6. (5,Inf]\n",
       "7. (3,5]\n",
       "8. (5,Inf]\n",
       "9. (3,5]\n",
       "10. (3,5]\n",
       "11. (0,3]\n",
       "12. (3,5]\n",
       "13. (0,3]\n",
       "14. (5,Inf]\n",
       "15. (0,3]\n",
       "16. (5,Inf]\n",
       "17. (0,3]\n",
       "18. (0,3]\n",
       "19. (0,3]\n",
       "20. (5,Inf]\n",
       "21. (0,3]\n",
       "22. (0,3]\n",
       "23. (0,3]\n",
       "24. (0,3]\n",
       "25. (0,3]\n",
       "26. (0,3]\n",
       "27. (5,Inf]\n",
       "28. (0,3]\n",
       "29. (5,Inf]\n",
       "30. (0,3]\n",
       "31. (0,3]\n",
       "32. (0,3]\n",
       "33. (5,Inf]\n",
       "34. (0,3]\n",
       "35. (0,3]\n",
       "36. (3,5]\n",
       "37. (5,Inf]\n",
       "38. (5,Inf]\n",
       "39. (3,5]\n",
       "40. (5,Inf]\n",
       "41. (0,3]\n",
       "42. (3,5]\n",
       "43. (5,Inf]\n",
       "44. (0,3]\n",
       "45. (3,5]\n",
       "46. (5,Inf]\n",
       "47. (5,Inf]\n",
       "48. (5,Inf]\n",
       "49. (3,5]\n",
       "50. (3,5]\n",
       "51. (3,5]\n",
       "52. (3,5]\n",
       "53. (5,Inf]\n",
       "54. (3,5]\n",
       "55. (5,Inf]\n",
       "56. (5,Inf]\n",
       "57. (3,5]\n",
       "58. (3,5]\n",
       "59. (3,5]\n",
       "60. (5,Inf]\n",
       "61. (3,5]\n",
       "62. (3,5]\n",
       "63. (5,Inf]\n",
       "64. (3,5]\n",
       "65. (3,5]\n",
       "66. (3,5]\n",
       "67. (0,3]\n",
       "68. (3,5]\n",
       "69. (3,5]\n",
       "70. (3,5]\n",
       "71. (3,5]\n",
       "72. (5,Inf]\n",
       "73. (5,Inf]\n",
       "74. (5,Inf]\n",
       "75. (5,Inf]\n",
       "76. (5,Inf]\n",
       "77. (5,Inf]\n",
       "78. (5,Inf]\n",
       "79. (5,Inf]\n",
       "80. (5,Inf]\n",
       "81. (0,3]\n",
       "82. (5,Inf]\n",
       "83. (0,3]\n",
       "84. (5,Inf]\n",
       "85. (5,Inf]\n",
       "86. (5,Inf]\n",
       "87. (5,Inf]\n",
       "88. (5,Inf]\n",
       "89. (5,Inf]\n",
       "90. (5,Inf]\n",
       "91. (5,Inf]\n",
       "\n",
       "\n",
       "\n",
       "**Levels**: 1. '(0,3]'\n",
       "2. '(3,5]'\n",
       "3. '(5,Inf]'\n",
       "\n",
       "\n"
      ],
      "text/plain": [
       " [1] (0,3]   (3,5]   (5,Inf] (3,5]   (5,Inf] (5,Inf] (3,5]   (5,Inf] (3,5]  \n",
       "[10] (3,5]   (0,3]   (3,5]   (0,3]   (5,Inf] (0,3]   (5,Inf] (0,3]   (0,3]  \n",
       "[19] (0,3]   (5,Inf] (0,3]   (0,3]   (0,3]   (0,3]   (0,3]   (0,3]   (5,Inf]\n",
       "[28] (0,3]   (5,Inf] (0,3]   (0,3]   (0,3]   (5,Inf] (0,3]   (0,3]   (3,5]  \n",
       "[37] (5,Inf] (5,Inf] (3,5]   (5,Inf] (0,3]   (3,5]   (5,Inf] (0,3]   (3,5]  \n",
       "[46] (5,Inf] (5,Inf] (5,Inf] (3,5]   (3,5]   (3,5]   (3,5]   (5,Inf] (3,5]  \n",
       "[55] (5,Inf] (5,Inf] (3,5]   (3,5]   (3,5]   (5,Inf] (3,5]   (3,5]   (5,Inf]\n",
       "[64] (3,5]   (3,5]   (3,5]   (0,3]   (3,5]   (3,5]   (3,5]   (3,5]   (5,Inf]\n",
       "[73] (5,Inf] (5,Inf] (5,Inf] (5,Inf] (5,Inf] (5,Inf] (5,Inf] (5,Inf] (0,3]  \n",
       "[82] (5,Inf] (0,3]   (5,Inf] (5,Inf] (5,Inf] (5,Inf] (5,Inf] (5,Inf] (5,Inf]\n",
       "[91] (5,Inf]\n",
       "Levels: (0,3] (3,5] (5,Inf]"
      ]
     },
     "metadata": {},
     "output_type": "display_data"
    }
   ],
   "source": [
    "cut(survey_data$P6, br=c(0, 3, 5, Inf))"
   ]
  },
  {
   "cell_type": "markdown",
   "metadata": {},
   "source": [
    "## Generate a bar plot and pie chart for  ordinal variable"
   ]
  },
  {
   "cell_type": "code",
   "execution_count": 13,
   "metadata": {},
   "outputs": [
    {
     "data": {
      "text/plain": [
       "\n",
       " Definitely no             No    Hard to say            Yes Definitely yes \n",
       "    0.25274725     0.23076923     0.04395604     0.20879121     0.26373626 "
      ]
     },
     "metadata": {},
     "output_type": "display_data"
    }
   ],
   "source": [
    "p3_table <- table(survey_data$P3)\n",
    "p3_table <- p3_table[c(1,4,3,5,2)]\n",
    "p3_perc_table <- prop.table(p3_table)\n",
    "p3_perc_table <- p3_perc_table[c(1,5,3,2,4)]\n",
    "p3_perc_table"
   ]
  },
  {
   "cell_type": "code",
   "execution_count": 14,
   "metadata": {},
   "outputs": [],
   "source": [
    "options(repr.plot.width=5, repr.plot.height=4)"
   ]
  },
  {
   "cell_type": "code",
   "execution_count": 15,
   "metadata": {},
   "outputs": [
    {
     "data": {
      "image/png": "[encoded data removed]",
      "text/plain": [
       "plot without title"
      ]
     },
     "metadata": {},
     "output_type": "display_data"
    }
   ],
   "source": [
    "barplot(p3_perc_table, beside=T, legend=T,  cex.axis=0.5, cex.lab = 0.2,\n",
    "        args.legend=list(cex=0.6, y=0.3, horiz = TRUE, text.width = 1), col=colors_likert)"
   ]
  },
  {
   "cell_type": "code",
   "execution_count": 16,
   "metadata": {},
   "outputs": [
    {
     "data": {
      "image/png": "[encoded data removed]",
      "text/plain": [
       "plot without title"
      ]
     },
     "metadata": {},
     "output_type": "display_data"
    }
   ],
   "source": [
    "pie(p3_perc_table, col=colors_likert)"
   ]
  },
  {
   "cell_type": "code",
   "execution_count": 17,
   "metadata": {},
   "outputs": [
    {
     "data": {
      "text/plain": [
       "\n",
       " No Yes \n",
       " 37  54 "
      ]
     },
     "metadata": {},
     "output_type": "display_data"
    }
   ],
   "source": [
    "p2_table <- table(survey_data$P2)\n",
    "p2_table"
   ]
  },
  {
   "cell_type": "code",
   "execution_count": 18,
   "metadata": {},
   "outputs": [
    {
     "data": {
      "text/plain": [
       "\n",
       "       No       Yes \n",
       "0.4065934 0.5934066 "
      ]
     },
     "metadata": {},
     "output_type": "display_data"
    }
   ],
   "source": [
    "p2_table <- table(survey_data$P2)\n",
    "p2_perc_table <- prop.table(p2_table)\n",
    "p2_perc_table"
   ]
  },
  {
   "cell_type": "code",
   "execution_count": 19,
   "metadata": {},
   "outputs": [
    {
     "data": {
      "image/png": "[encoded data removed]",
      "text/plain": [
       "plot without title"
      ]
     },
     "metadata": {},
     "output_type": "display_data"
    }
   ],
   "source": [
    "barplot(p2_perc_table, beside=T, legend=T, \n",
    "        col=c(\"red\",\"green\"), \n",
    "        args.legend=list(cex=0.6, y=0.7, horiz = TRUE, text.width = 1))"
   ]
  },
  {
   "cell_type": "code",
   "execution_count": 20,
   "metadata": {},
   "outputs": [
    {
     "data": {
      "image/png": "[encoded data removed]",
      "text/plain": [
       "plot without title"
      ]
     },
     "metadata": {},
     "output_type": "display_data"
    }
   ],
   "source": [
    "pie(p2_perc_table, col=c(\"red\",\"green\"))"
   ]
  },
  {
   "cell_type": "markdown",
   "metadata": {},
   "source": [
    "## Summary and boxplot for ratio variable"
   ]
  },
  {
   "cell_type": "code",
   "execution_count": 21,
   "metadata": {},
   "outputs": [
    {
     "data": {
      "image/png": "[encoded data removed]",
      "text/plain": [
       "plot without title"
      ]
     },
     "metadata": {},
     "output_type": "display_data"
    }
   ],
   "source": [
    "boxplot(survey_data$P6, horizontal=TRUE)"
   ]
  },
  {
   "cell_type": "code",
   "execution_count": 22,
   "metadata": {},
   "outputs": [
    {
     "data": {
      "text/plain": [
       "   Min. 1st Qu.  Median    Mean 3rd Qu.    Max. \n",
       "  1.000   3.000   5.000   5.692   6.000  19.000 "
      ]
     },
     "metadata": {},
     "output_type": "display_data"
    }
   ],
   "source": [
    "summary(survey_data$P6)"
   ]
  },
  {
   "cell_type": "code",
   "execution_count": 23,
   "metadata": {},
   "outputs": [
    {
     "data": {
      "text/html": [
       "3.11873303225777"
      ],
      "text/latex": [
       "3.11873303225777"
      ],
      "text/markdown": [
       "3.11873303225777"
      ],
      "text/plain": [
       "[1] 3.118733"
      ]
     },
     "metadata": {},
     "output_type": "display_data"
    }
   ],
   "source": [
    "sd(survey_data$P6)"
   ]
  },
  {
   "cell_type": "markdown",
   "metadata": {},
   "source": [
    "## Generate a bar plot for bivariate analysis"
   ]
  },
  {
   "cell_type": "code",
   "execution_count": 24,
   "metadata": {},
   "outputs": [
    {
     "data": {
      "text/plain": [
       "     \n",
       "      Definitely no No Hard to say Yes Definitely yes\n",
       "  No             11 13           0   7              6\n",
       "  Yes            12  8           4  12             18"
      ]
     },
     "metadata": {},
     "output_type": "display_data"
    }
   ],
   "source": [
    "p2_3_table <- table(survey_data$P2, survey_data$P3)\n",
    "p2_3_table"
   ]
  },
  {
   "cell_type": "code",
   "execution_count": 25,
   "metadata": {},
   "outputs": [
    {
     "data": {
      "text/plain": [
       "     \n",
       "      Definitely no No Hard to say Yes Definitely yes\n",
       "  No             11 13           0   7              6\n",
       "  Yes            12  8           4  12             18"
      ]
     },
     "metadata": {},
     "output_type": "display_data"
    }
   ],
   "source": [
    "p2_3_table <- table(survey_data$P2, survey_data$P3)\n",
    "p2_3_table\n",
    "#p2_3_table <- p2_3_table[, c(1,4,3,5,2)]\n",
    "#p2_3_table"
   ]
  },
  {
   "cell_type": "code",
   "execution_count": 26,
   "metadata": {},
   "outputs": [
    {
     "data": {
      "image/png": "[encoded data removed]",
      "text/plain": [
       "plot without title"
      ]
     },
     "metadata": {},
     "output_type": "display_data"
    }
   ],
   "source": [
    "barplot(p2_3_table, beside=F, legend=T, col=c(\"red\",\"green\"), \n",
    "       args.legend=list(cex=0.6, y=27, horiz = TRUE, text.width = 1))"
   ]
  },
  {
   "cell_type": "code",
   "execution_count": 27,
   "metadata": {},
   "outputs": [
    {
     "data": {
      "text/plain": [
       "     \n",
       "      Don't know Eclipse IntelliJ IDEA NetBeans\n",
       "  No          10       9            11        7\n",
       "  Yes         10      17             4       23"
      ]
     },
     "metadata": {},
     "output_type": "display_data"
    }
   ],
   "source": [
    "p2_4_table <- table(survey_data$P2, survey_data$P4)\n",
    "p2_4_table"
   ]
  },
  {
   "cell_type": "code",
   "execution_count": 28,
   "metadata": {},
   "outputs": [
    {
     "data": {
      "image/png": "[encoded data removed]",
      "text/plain": [
       "plot without title"
      ]
     },
     "metadata": {},
     "output_type": "display_data"
    }
   ],
   "source": [
    "barplot(p2_4_table, beside=F, horiz=T, legend=T, col=c(\"red\",\"green\"))"
   ]
  },
  {
   "cell_type": "code",
   "execution_count": null,
   "metadata": {
    "collapsed": true
   },
   "outputs": [],
   "source": []
  },
  {
   "cell_type": "markdown",
   "metadata": {},
   "source": [
    "## Ratio vs nominal"
   ]
  },
  {
   "cell_type": "code",
   "execution_count": 29,
   "metadata": {},
   "outputs": [
    {
     "data": {
      "text/html": [
       "<table>\n",
       "<thead><tr><th scope=col>P1</th><th scope=col>P2</th><th scope=col>P3</th><th scope=col>P4</th><th scope=col>P5</th><th scope=col>P6</th><th scope=col>P5C</th><th scope=col>P5CSharp</th><th scope=col>P5PlusPlus</th><th scope=col>P5PHP</th><th scope=col>P5Python</th><th scope=col>P5Assembler</th></tr></thead>\n",
       "<tbody>\n",
       "\t<tr><td>Most of the time</td><td>Yes             </td><td>Definitely yes  </td><td>NetBeans        </td><td>C++             </td><td> 5              </td><td>No              </td><td>No              </td><td>Yes             </td><td>No              </td><td>No              </td><td>No              </td></tr>\n",
       "\t<tr><td>Most of the time</td><td>Yes             </td><td>Definitely yes  </td><td>NetBeans        </td><td>C#              </td><td> 6              </td><td>No              </td><td>Yes             </td><td>No              </td><td>No              </td><td>No              </td><td>No              </td></tr>\n",
       "\t<tr><td>Occasionally    </td><td>Yes             </td><td>Yes             </td><td>Eclipse         </td><td>C, Assembler    </td><td>12              </td><td>Yes             </td><td>No              </td><td>No              </td><td>No              </td><td>No              </td><td>Yes             </td></tr>\n",
       "\t<tr><td>Occasionally    </td><td>Yes             </td><td>No              </td><td>Eclipse         </td><td>PHP, Python     </td><td> 7              </td><td>No              </td><td>No              </td><td>No              </td><td>Yes             </td><td>Yes             </td><td>No              </td></tr>\n",
       "\t<tr><td>Occasionally    </td><td>Yes             </td><td>Yes             </td><td>Eclipse         </td><td>PHP, Python, C# </td><td> 4              </td><td>No              </td><td>Yes             </td><td>No              </td><td>Yes             </td><td>Yes             </td><td>No              </td></tr>\n",
       "\t<tr><td>Rarely          </td><td>Yes             </td><td>Definitely no   </td><td>NetBeans        </td><td>PHP             </td><td> 5              </td><td>No              </td><td>No              </td><td>No              </td><td>Yes             </td><td>No              </td><td>No              </td></tr>\n",
       "</tbody>\n",
       "</table>\n"
      ],
      "text/latex": [
       "\\begin{tabular}{r|llllllllllll}\n",
       " P1 & P2 & P3 & P4 & P5 & P6 & P5C & P5CSharp & P5PlusPlus & P5PHP & P5Python & P5Assembler\\\\\n",
       "\\hline\n",
       "\t Most of the time & Yes              & Definitely yes   & NetBeans         & C++              &  5               & No               & No               & Yes              & No               & No               & No              \\\\\n",
       "\t Most of the time  & Yes               & Definitely yes    & NetBeans          & C\\#              &  6                & No                & Yes               & No                & No                & No                & No               \\\\\n",
       "\t Occasionally     & Yes              & Yes              & Eclipse          & C, Assembler     & 12               & Yes              & No               & No               & No               & No               & Yes             \\\\\n",
       "\t Occasionally     & Yes              & No               & Eclipse          & PHP, Python      &  7               & No               & No               & No               & Yes              & Yes              & No              \\\\\n",
       "\t Occasionally      & Yes               & Yes               & Eclipse           & PHP, Python, C\\# &  4                & No                & Yes               & No                & Yes               & Yes               & No               \\\\\n",
       "\t Rarely           & Yes              & Definitely no    & NetBeans         & PHP              &  5               & No               & No               & No               & Yes              & No               & No              \\\\\n",
       "\\end{tabular}\n"
      ],
      "text/markdown": [
       "\n",
       "| P1 | P2 | P3 | P4 | P5 | P6 | P5C | P5CSharp | P5PlusPlus | P5PHP | P5Python | P5Assembler |\n",
       "|---|---|---|---|---|---|---|---|---|---|---|---|\n",
       "| Most of the time | Yes              | Definitely yes   | NetBeans         | C++              |  5               | No               | No               | Yes              | No               | No               | No               |\n",
       "| Most of the time | Yes              | Definitely yes   | NetBeans         | C#               |  6               | No               | Yes              | No               | No               | No               | No               |\n",
       "| Occasionally     | Yes              | Yes              | Eclipse          | C, Assembler     | 12               | Yes              | No               | No               | No               | No               | Yes              |\n",
       "| Occasionally     | Yes              | No               | Eclipse          | PHP, Python      |  7               | No               | No               | No               | Yes              | Yes              | No               |\n",
       "| Occasionally     | Yes              | Yes              | Eclipse          | PHP, Python, C#  |  4               | No               | Yes              | No               | Yes              | Yes              | No               |\n",
       "| Rarely           | Yes              | Definitely no    | NetBeans         | PHP              |  5               | No               | No               | No               | Yes              | No               | No               |\n",
       "\n"
      ],
      "text/plain": [
       "  P1               P2  P3             P4       P5              P6 P5C P5CSharp\n",
       "1 Most of the time Yes Definitely yes NetBeans C++              5 No  No      \n",
       "2 Most of the time Yes Definitely yes NetBeans C#               6 No  Yes     \n",
       "3 Occasionally     Yes Yes            Eclipse  C, Assembler    12 Yes No      \n",
       "4 Occasionally     Yes No             Eclipse  PHP, Python      7 No  No      \n",
       "5 Occasionally     Yes Yes            Eclipse  PHP, Python, C#  4 No  Yes     \n",
       "6 Rarely           Yes Definitely no  NetBeans PHP              5 No  No      \n",
       "  P5PlusPlus P5PHP P5Python P5Assembler\n",
       "1 Yes        No    No       No         \n",
       "2 No         No    No       No         \n",
       "3 No         No    No       Yes        \n",
       "4 No         Yes   Yes      No         \n",
       "5 No         Yes   Yes      No         \n",
       "6 No         Yes   No       No         "
      ]
     },
     "metadata": {},
     "output_type": "display_data"
    },
    {
     "data": {
      "text/html": [
       "<table>\n",
       "<thead><tr><th scope=col>P1</th><th scope=col>P2</th><th scope=col>P3</th><th scope=col>P4</th><th scope=col>P5</th><th scope=col>P6</th><th scope=col>P5C</th><th scope=col>P5CSharp</th><th scope=col>P5PlusPlus</th><th scope=col>P5PHP</th><th scope=col>P5Python</th><th scope=col>P5Assembler</th></tr></thead>\n",
       "<tbody>\n",
       "\t<tr><td>Rarely            </td><td>No                </td><td>Definitely no     </td><td>Don't know        </td><td>PHP, Python       </td><td>3                 </td><td>No                </td><td>No                </td><td>No                </td><td>Yes               </td><td>Yes               </td><td>No                </td></tr>\n",
       "\t<tr><td>Seldom            </td><td>No                </td><td>No                </td><td>Eclipse           </td><td>PHP               </td><td>5                 </td><td>No                </td><td>No                </td><td>No                </td><td>Yes               </td><td>No                </td><td>No                </td></tr>\n",
       "\t<tr><td>Occasionally      </td><td>No                </td><td>No                </td><td>IntelliJ IDEA     </td><td>C, Python         </td><td>6                 </td><td>Yes               </td><td>No                </td><td>No                </td><td>No                </td><td>Yes               </td><td>No                </td></tr>\n",
       "\t<tr><td>Most of the time  </td><td>No                </td><td>Definitely yes    </td><td>IntelliJ IDEA     </td><td>C#, PHP, Assembler</td><td>5                 </td><td>No                </td><td>Yes               </td><td>No                </td><td>Yes               </td><td>No                </td><td>Yes               </td></tr>\n",
       "\t<tr><td>Rarely            </td><td>No                </td><td>Definitely no     </td><td>Don't know        </td><td>PHP, Python, C    </td><td>5                 </td><td>No                </td><td>No                </td><td>No                </td><td>Yes               </td><td>Yes               </td><td>No                </td></tr>\n",
       "\t<tr><td>Seldom            </td><td>No                </td><td>No                </td><td>Don't know        </td><td>C#, PHP, Assembler</td><td>3                 </td><td>No                </td><td>Yes               </td><td>No                </td><td>Yes               </td><td>No                </td><td>Yes               </td></tr>\n",
       "</tbody>\n",
       "</table>\n"
      ],
      "text/latex": [
       "\\begin{tabular}{r|llllllllllll}\n",
       " P1 & P2 & P3 & P4 & P5 & P6 & P5C & P5CSharp & P5PlusPlus & P5PHP & P5Python & P5Assembler\\\\\n",
       "\\hline\n",
       "\t Rarely             & No                 & Definitely no      & Don't know         & PHP, Python        & 3                  & No                 & No                 & No                 & Yes                & Yes                & No                \\\\\n",
       "\t Seldom             & No                 & No                 & Eclipse            & PHP                & 5                  & No                 & No                 & No                 & Yes                & No                 & No                \\\\\n",
       "\t Occasionally       & No                 & No                 & IntelliJ IDEA      & C, Python          & 6                  & Yes                & No                 & No                 & No                 & Yes                & No                \\\\\n",
       "\t Most of the time     & No                   & Definitely yes       & IntelliJ IDEA        & C\\#, PHP, Assembler & 5                    & No                   & Yes                  & No                   & Yes                  & No                   & Yes                 \\\\\n",
       "\t Rarely             & No                 & Definitely no      & Don't know         & PHP, Python, C     & 5                  & No                 & No                 & No                 & Yes                & Yes                & No                \\\\\n",
       "\t Seldom               & No                   & No                   & Don't know           & C\\#, PHP, Assembler & 3                    & No                   & Yes                  & No                   & Yes                  & No                   & Yes                 \\\\\n",
       "\\end{tabular}\n"
      ],
      "text/markdown": [
       "\n",
       "| P1 | P2 | P3 | P4 | P5 | P6 | P5C | P5CSharp | P5PlusPlus | P5PHP | P5Python | P5Assembler |\n",
       "|---|---|---|---|---|---|---|---|---|---|---|---|\n",
       "| Rarely             | No                 | Definitely no      | Don't know         | PHP, Python        | 3                  | No                 | No                 | No                 | Yes                | Yes                | No                 |\n",
       "| Seldom             | No                 | No                 | Eclipse            | PHP                | 5                  | No                 | No                 | No                 | Yes                | No                 | No                 |\n",
       "| Occasionally       | No                 | No                 | IntelliJ IDEA      | C, Python          | 6                  | Yes                | No                 | No                 | No                 | Yes                | No                 |\n",
       "| Most of the time   | No                 | Definitely yes     | IntelliJ IDEA      | C#, PHP, Assembler | 5                  | No                 | Yes                | No                 | Yes                | No                 | Yes                |\n",
       "| Rarely             | No                 | Definitely no      | Don't know         | PHP, Python, C     | 5                  | No                 | No                 | No                 | Yes                | Yes                | No                 |\n",
       "| Seldom             | No                 | No                 | Don't know         | C#, PHP, Assembler | 3                  | No                 | Yes                | No                 | Yes                | No                 | Yes                |\n",
       "\n"
      ],
      "text/plain": [
       "  P1               P2 P3             P4            P5                 P6 P5C\n",
       "1 Rarely           No Definitely no  Don't know    PHP, Python        3  No \n",
       "2 Seldom           No No             Eclipse       PHP                5  No \n",
       "3 Occasionally     No No             IntelliJ IDEA C, Python          6  Yes\n",
       "4 Most of the time No Definitely yes IntelliJ IDEA C#, PHP, Assembler 5  No \n",
       "5 Rarely           No Definitely no  Don't know    PHP, Python, C     5  No \n",
       "6 Seldom           No No             Don't know    C#, PHP, Assembler 3  No \n",
       "  P5CSharp P5PlusPlus P5PHP P5Python P5Assembler\n",
       "1 No       No         Yes   Yes      No         \n",
       "2 No       No         Yes   No       No         \n",
       "3 No       No         No    Yes      No         \n",
       "4 Yes      No         Yes   No       Yes        \n",
       "5 No       No         Yes   Yes      No         \n",
       "6 Yes      No         Yes   No       Yes        "
      ]
     },
     "metadata": {},
     "output_type": "display_data"
    }
   ],
   "source": [
    "p2_yes <- survey_data %>% filter(P2 == \"Yes\")\n",
    "p2_no <- survey_data %>% filter(P2 == \"No\")\n",
    "head(p2_yes)\n",
    "head(p2_no)"
   ]
  },
  {
   "cell_type": "code",
   "execution_count": 31,
   "metadata": {},
   "outputs": [
    {
     "data": {
      "image/png": "[encoded data removed]",
      "text/plain": [
       "plot without title"
      ]
     },
     "metadata": {},
     "output_type": "display_data"
    }
   ],
   "source": [
    "boxplot(p2_yes$P6, p2_no$P6, horizontal=TRUE, names=c(\"yes\", \"no\"))"
   ]
  },
  {
   "cell_type": "code",
   "execution_count": 32,
   "metadata": {},
   "outputs": [
    {
     "data": {
      "text/html": [
       "5.7962962962963"
      ],
      "text/latex": [
       "5.7962962962963"
      ],
      "text/markdown": [
       "5.7962962962963"
      ],
      "text/plain": [
       "[1] 5.796296"
      ]
     },
     "metadata": {},
     "output_type": "display_data"
    },
    {
     "data": {
      "text/html": [
       "5"
      ],
      "text/latex": [
       "5"
      ],
      "text/markdown": [
       "5"
      ],
      "text/plain": [
       "[1] 5"
      ]
     },
     "metadata": {},
     "output_type": "display_data"
    },
    {
     "data": {
      "text/html": [
       "3.31024498682744"
      ],
      "text/latex": [
       "3.31024498682744"
      ],
      "text/markdown": [
       "3.31024498682744"
      ],
      "text/plain": [
       "[1] 3.310245"
      ]
     },
     "metadata": {},
     "output_type": "display_data"
    },
    {
     "data": {
      "text/html": [
       "5.54054054054054"
      ],
      "text/latex": [
       "5.54054054054054"
      ],
      "text/markdown": [
       "5.54054054054054"
      ],
      "text/plain": [
       "[1] 5.540541"
      ]
     },
     "metadata": {},
     "output_type": "display_data"
    },
    {
     "data": {
      "text/html": [
       "6"
      ],
      "text/latex": [
       "6"
      ],
      "text/markdown": [
       "6"
      ],
      "text/plain": [
       "[1] 6"
      ]
     },
     "metadata": {},
     "output_type": "display_data"
    },
    {
     "data": {
      "text/html": [
       "2.85379469200995"
      ],
      "text/latex": [
       "2.85379469200995"
      ],
      "text/markdown": [
       "2.85379469200995"
      ],
      "text/plain": [
       "[1] 2.853795"
      ]
     },
     "metadata": {},
     "output_type": "display_data"
    }
   ],
   "source": [
    "mean(p2_yes$P6)\n",
    "median(p2_yes$P6)\n",
    "sd(p2_yes$P6)\n",
    "mean(p2_no$P6)\n",
    "median(p2_no$P6)\n",
    "sd(p2_no$P6)"
   ]
  },
  {
   "cell_type": "markdown",
   "metadata": {},
   "source": [
    "## One-way chi-squared test"
   ]
  },
  {
   "cell_type": "code",
   "execution_count": 33,
   "metadata": {},
   "outputs": [
    {
     "data": {
      "text/plain": [
       "\n",
       " No Yes \n",
       " 37  54 "
      ]
     },
     "metadata": {},
     "output_type": "display_data"
    }
   ],
   "source": [
    "p2_table <- table(survey_data$P2)\n",
    "p2_table"
   ]
  },
  {
   "cell_type": "code",
   "execution_count": 34,
   "metadata": {},
   "outputs": [
    {
     "data": {
      "text/plain": [
       "\n",
       "\tChi-squared test for given probabilities\n",
       "\n",
       "data:  p2_table\n",
       "X-squared = 3.1758, df = 1, p-value = 0.07474\n"
      ]
     },
     "metadata": {},
     "output_type": "display_data"
    }
   ],
   "source": [
    "p2_table <- table(survey_data$P2)\n",
    "chisq.test(p2_table, correct=T)"
   ]
  },
  {
   "cell_type": "markdown",
   "metadata": {},
   "source": [
    "## Two-way chi-squared test"
   ]
  },
  {
   "cell_type": "code",
   "execution_count": 35,
   "metadata": {},
   "outputs": [
    {
     "data": {
      "text/plain": [
       "     \n",
       "      Don't know Eclipse IntelliJ IDEA NetBeans\n",
       "  No          10       9            11        7\n",
       "  Yes         10      17             4       23"
      ]
     },
     "metadata": {},
     "output_type": "display_data"
    }
   ],
   "source": [
    "p2_4_table <- table(survey_data$P2, survey_data$P4)\n",
    "p2_4_table"
   ]
  },
  {
   "cell_type": "code",
   "execution_count": 36,
   "metadata": {},
   "outputs": [
    {
     "data": {
      "text/plain": [
       "\n",
       "\tPearson's Chi-squared test\n",
       "\n",
       "data:  p2_4_table\n",
       "X-squared = 11.487, df = 3, p-value = 0.009366\n"
      ]
     },
     "metadata": {},
     "output_type": "display_data"
    }
   ],
   "source": [
    "p2_4_table <- table(survey_data$P2, survey_data$P4)\n",
    "chisq.test(p2_4_table, correct=T)"
   ]
  },
  {
   "cell_type": "markdown",
   "metadata": {},
   "source": [
    "## Cochran-Armitage test"
   ]
  },
  {
   "cell_type": "code",
   "execution_count": 37,
   "metadata": {},
   "outputs": [
    {
     "data": {
      "text/plain": [
       "\n",
       "\tAsymptotic General Independence Test\n",
       "\n",
       "data:  independent by dependent (1, 2, 3, 4, 5)\n",
       "chi-squared = 4.5097, df = 4, p-value = 0.3414\n"
      ]
     },
     "metadata": {},
     "output_type": "display_data"
    }
   ],
   "source": [
    "independent <- as.vector(survey_data$P5C)\n",
    "dependent <- as.vector(as.numeric(survey_data$P3))\n",
    "p2_3_table <- table(dependent, independent)\n",
    "ca <- independence_test(p2_3_table, teststat = \"quad\")\n",
    "ca"
   ]
  },
  {
   "cell_type": "code",
   "execution_count": 38,
   "metadata": {},
   "outputs": [],
   "source": [
    "?independence_test"
   ]
  },
  {
   "cell_type": "code",
   "execution_count": 39,
   "metadata": {},
   "outputs": [
    {
     "data": {
      "text/html": [
       "0.341393003359626"
      ],
      "text/latex": [
       "0.341393003359626"
      ],
      "text/markdown": [
       "0.341393003359626"
      ],
      "text/plain": [
       "[1] 0.341393"
      ]
     },
     "metadata": {},
     "output_type": "display_data"
    }
   ],
   "source": [
    "pvalue(ca)"
   ]
  },
  {
   "cell_type": "code",
   "execution_count": 40,
   "metadata": {},
   "outputs": [
    {
     "name": "stdout",
     "output_type": "stream",
     "text": [
      "Formal class 'QuadTypeIndependenceTest' [package \"coin\"] with 5 slots\n",
      "  ..@ distribution:Formal class 'AsymptNullDistribution' [package \"coin\"] with 11 slots\n",
      "  .. .. ..@ seed          : int NA\n",
      "  .. .. ..@ size          :function (alpha, type)  \n",
      "  .. .. ..@ pvalueinterval:function (q)  \n",
      "  .. .. ..@ midpvalue     :function (q)  \n",
      "  .. .. ..@ q             :function (p)  \n",
      "  .. .. ..@ d             :function (x)  \n",
      "  .. .. ..@ support       :function ()  \n",
      "  .. .. ..@ parameters    :List of 1\n",
      "  .. .. .. ..$ df: int 4\n",
      "  .. .. ..@ pvalue        :function (q)  \n",
      "  .. .. ..@ p             :function (q)  \n",
      "  .. .. ..@ name          : chr \"Chi-Squared Distribution\"\n",
      "  ..@ statistic   :Formal class 'QuadTypeIndependenceTestStatistic' [package \"coin\"] with 16 slots\n",
      "  .. .. ..@ covarianceplus             : num [1:5, 1:5] 0.53658 -0.00991 -0.50916 -0.02228 0.00477 ...\n",
      "  .. .. ..@ df                         : int 4\n",
      "  .. .. ..@ paired                     : logi FALSE\n",
      "  .. .. ..@ teststatistic              : num 4.51\n",
      "  .. .. ..@ standardizedlinearstatistic: Named num [1:5] 1.7129 -1.0082 0.6315 -1.2044 0.0918\n",
      "  .. .. .. ..- attr(*, \"names\")= chr [1:5] \"1:No\" \"2:No\" \"3:No\" \"4:No\" ...\n",
      "  .. .. ..@ linearstatistic            : num [1:5] 23 18 4 16 22\n",
      "  .. .. ..@ expectation                : Named num [1:5] 20.98 19.15 3.65 17.33 21.89\n",
      "  .. .. .. ..- attr(*, \"names\")= chr [1:5] \"1:No\" \"2:No\" \"3:No\" \"4:No\" ...\n",
      "  .. .. ..@ covariance                 :Formal class 'Variance' [package \"coin\"] with 1 slot\n",
      "  .. .. .. .. ..@ variance: Named num [1:5] 1.39 1.31 0.31 1.22 1.43\n",
      "  .. .. .. .. .. ..- attr(*, \"names\")= chr [1:5] \"1:No\" \"2:No\" \"3:No\" \"4:No\" ...\n",
      "  .. .. ..@ xtrans                     : num [1:10, 1:5] 1 0 0 0 0 1 0 0 0 0 ...\n",
      "  .. .. .. ..- attr(*, \"dimnames\")=List of 2\n",
      "  .. .. .. .. ..$ : chr [1:10] \"1\" \"2\" \"3\" \"4\" ...\n",
      "  .. .. .. .. ..$ : chr [1:5] \"1\" \"2\" \"3\" \"4\" ...\n",
      "  .. .. .. ..- attr(*, \"assign\")= int [1:5] 1 1 1 1 1\n",
      "  .. .. ..@ ytrans                     : num [1:10, 1] 1 1 1 1 1 0 0 0 0 0\n",
      "  .. .. .. ..- attr(*, \"dimnames\")=List of 2\n",
      "  .. .. .. .. ..$ : chr [1:10] \"1\" \"2\" \"3\" \"4\" ...\n",
      "  .. .. .. .. ..$ : chr \"No\"\n",
      "  .. .. .. ..- attr(*, \"assign\")= int 1\n",
      "  .. .. ..@ xtrafo                     :function (data, numeric_trafo = id_trafo, factor_trafo = f_trafo, ordered_trafo = of_trafo, \n",
      "    surv_trafo = logrank_trafo, var_trafo = NULL, block = NULL)  \n",
      "  .. .. ..@ ytrafo                     :function (data, numeric_trafo = id_trafo, factor_trafo = f_trafo, ordered_trafo = of_trafo, \n",
      "    surv_trafo = logrank_trafo, var_trafo = NULL, block = NULL)  \n",
      "  .. .. ..@ x                          :'data.frame':\t10 obs. of  1 variable:\n",
      "  .. .. .. ..$ dependent: Factor w/ 5 levels \"1\",\"2\",\"3\",\"4\",..: 1 2 3 4 5 1 2 3 4 5\n",
      "  .. .. ..@ y                          :'data.frame':\t10 obs. of  1 variable:\n",
      "  .. .. .. ..$ independent: Factor w/ 2 levels \"No\",\"Yes\": 1 1 1 1 1 2 2 2 2 2\n",
      "  .. .. ..@ block                      : Factor w/ 1 level \"0\": 1 1 1 1 1 1 1 1 1 1\n",
      "  .. .. ..@ weights                    : num [1:10] 23 18 4 16 22 0 3 0 3 2\n",
      "  ..@ estimates   : list()\n",
      "  ..@ method      : chr \"General Independence Test\"\n",
      "  ..@ call        : language independence_test.IndependenceProblem(object = new(\"IndependenceProblem\",      x = list(dependent = c(1L, 2L, 3L,| __truncated__ ...\n"
     ]
    }
   ],
   "source": [
    "str(ca)"
   ]
  },
  {
   "cell_type": "markdown",
   "metadata": {},
   "source": [
    "## Ratio vs nominal and wilcoxon test"
   ]
  },
  {
   "cell_type": "code",
   "execution_count": 41,
   "metadata": {},
   "outputs": [
    {
     "data": {
      "text/plain": [
       "\n",
       "\tShapiro-Wilk normality test\n",
       "\n",
       "data:  as.matrix(data.frame(yes = as.double(p6_2[, 1]), no = as.double(p6_2[,     2])))\n",
       "W = 0.8462, p-value = 2.834e-07\n"
      ]
     },
     "metadata": {},
     "output_type": "display_data"
    },
    {
     "data": {
      "text/plain": [
       "\n",
       "\tWilcoxon rank sum test with continuity correction\n",
       "\n",
       "data:  p2_yes$P6 and p2_no$P6\n",
       "W = 995, p-value = 0.9771\n",
       "alternative hypothesis: true location shift is not equal to 0\n"
      ]
     },
     "metadata": {},
     "output_type": "display_data"
    }
   ],
   "source": [
    "p2_yes <- survey_data %>% filter(P2 == \"Yes\")\n",
    "p2_no <- survey_data %>% filter(P2 == \"No\")\n",
    "p6_2 <- cbindX(data.frame(p2_yes$P6), data.frame(p2_no$P6))\n",
    "shapiro.test(as.matrix(data.frame(yes=as.double(p6_2[,1]), no=as.double(p6_2[,2]))))\n",
    "wilcox.test(p2_yes$P6, p2_no$P6, alternative=\"two.sided\", paired=FALSE)"
   ]
  },
  {
   "cell_type": "markdown",
   "metadata": {},
   "source": [
    "## Correlation Kendall's tau"
   ]
  },
  {
   "cell_type": "code",
   "execution_count": 42,
   "metadata": {},
   "outputs": [
    {
     "data": {
      "text/html": [
       "<table>\n",
       "<thead><tr><th></th><th scope=col>P3</th><th scope=col>P6</th></tr></thead>\n",
       "<tbody>\n",
       "\t<tr><th scope=row>P3</th><td>1.0000000</td><td>0.2449107</td></tr>\n",
       "\t<tr><th scope=row>P6</th><td>0.2449107</td><td>1.0000000</td></tr>\n",
       "</tbody>\n",
       "</table>\n"
      ],
      "text/latex": [
       "\\begin{tabular}{r|ll}\n",
       "  & P3 & P6\\\\\n",
       "\\hline\n",
       "\tP3 & 1.0000000 & 0.2449107\\\\\n",
       "\tP6 & 0.2449107 & 1.0000000\\\\\n",
       "\\end{tabular}\n"
      ],
      "text/markdown": [
       "\n",
       "| <!--/--> | P3 | P6 |\n",
       "|---|---|---|\n",
       "| P3 | 1.0000000 | 0.2449107 |\n",
       "| P6 | 0.2449107 | 1.0000000 |\n",
       "\n"
      ],
      "text/plain": [
       "   P3        P6       \n",
       "P3 1.0000000 0.2449107\n",
       "P6 0.2449107 1.0000000"
      ]
     },
     "metadata": {},
     "output_type": "display_data"
    },
    {
     "data": {
      "text/plain": [
       "\n",
       "\tKendall's rank correlation tau\n",
       "\n",
       "data:  p3_6_tau$P3 and p3_6_tau$P6\n",
       "z = 2.9315, p-value = 0.003373\n",
       "alternative hypothesis: true tau is not equal to 0\n",
       "sample estimates:\n",
       "      tau \n",
       "0.2449107 \n"
      ]
     },
     "metadata": {},
     "output_type": "display_data"
    }
   ],
   "source": [
    "p3_6_tau <- survey_data %>% select(P3, P6)\n",
    "p3_6_tau$P3 <- as.numeric(p3_6_tau$P3)\n",
    "cor(p3_6_tau, method=\"kendall\", use=\"pairwise\") \n",
    "cor.test(p3_6_tau$P3, p3_6_tau$P6, method=\"kendall\") "
   ]
  },
  {
   "cell_type": "markdown",
   "metadata": {},
   "source": [
    "# YOUR TASK\n",
    "\n",
    "Does the preference towards other programming languages influence how software developers like Java? P5x vs P3\n"
   ]
  },
  {
   "cell_type": "code",
   "execution_count": null,
   "metadata": {},
   "outputs": [],
   "source": []
  }
 ],
 "metadata": {
  "kernelspec": {
   "display_name": "R",
   "language": "R",
   "name": "ir"
  },
  "language_info": {
   "codemirror_mode": "r",
   "file_extension": ".r",
   "mimetype": "text/x-r-source",
   "name": "R",
   "pygments_lexer": "r",
   "version": "3.6.1"
  }
 },
 "nbformat": 4,
 "nbformat_minor": 2
}
