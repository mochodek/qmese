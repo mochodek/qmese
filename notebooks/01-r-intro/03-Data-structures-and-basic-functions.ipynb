{
 "cells": [
  {
   "cell_type": "markdown",
   "metadata": {},
   "source": [
    "# PART 03 - Data structures and basic functions\n",
    "\n",
    "In this part, you will learn:\n",
    "* About commonly-used R data structures \n",
    "* Basic, frequently-used R functions \n",
    "* About categorical variables, i.e., factors\n"
   ]
  },
  {
   "cell_type": "markdown",
   "metadata": {},
   "source": [
    "## Vectors\n",
    "\n",
    "- One dimensional \n",
    "- Same mode (numeric, character, logical) \n",
    "- Scalars = single-element vectors\n",
    "- as.vector(x)"
   ]
  },
  {
   "cell_type": "code",
   "execution_count": null,
   "metadata": {},
   "outputs": [],
   "source": [
    "c(1, 2, \"3\")"
   ]
  },
  {
   "cell_type": "code",
   "execution_count": null,
   "metadata": {},
   "outputs": [],
   "source": [
    "as.numeric(c(1, 2, \"3\"))"
   ]
  },
  {
   "cell_type": "code",
   "execution_count": null,
   "metadata": {},
   "outputs": [],
   "source": [
    "c(c(2, 3, 4), 3)"
   ]
  },
  {
   "cell_type": "code",
   "execution_count": null,
   "metadata": {},
   "outputs": [],
   "source": [
    "# create a vector using the constructor and list of values\n",
    "a <- c(1,2,3,4)\n",
    "# create a vector using the constructor and range\n",
    "a <- c(1:4)\n",
    "print(\"The whole vector\")\n",
    "a\n",
    "print(\"Take the second element\")\n",
    "a[2]\n",
    "print(\"Take elements from the second to the forth one\")\n",
    "a[2:4]\n",
    "print(\"Take the first and the third element\")\n",
    "a[c(1,3)]\n",
    "print(\"Take all the elements but the first one\")\n",
    "a[-1]\n",
    "print(\"Take all the elements but the first and the second ones\")\n",
    "a[-c(1,2)]"
   ]
  },
  {
   "cell_type": "code",
   "execution_count": null,
   "metadata": {},
   "outputs": [],
   "source": [
    "a[length(a)]"
   ]
  },
  {
   "cell_type": "markdown",
   "metadata": {},
   "source": [
    "## Matrix\n",
    "\n",
    "- Two-dimensional arrays\n",
    "- Same mode (numeric, character, logical) \n"
   ]
  },
  {
   "cell_type": "code",
   "execution_count": null,
   "metadata": {},
   "outputs": [],
   "source": [
    "a <- matrix(1:20, nrow=5, ncol=4)\n",
    "a"
   ]
  },
  {
   "cell_type": "markdown",
   "metadata": {},
   "source": [
    "You can add names to rows and columns"
   ]
  },
  {
   "cell_type": "code",
   "execution_count": null,
   "metadata": {},
   "outputs": [],
   "source": [
    "colnames(a) <- c(\"a\", \"b\", \"c\", \"d\")\n",
    "rownames(a) <- c(\"x1\", \"x2\", \"x3\", \"x4\", \"x5\")\n",
    "a"
   ]
  },
  {
   "cell_type": "code",
   "execution_count": null,
   "metadata": {},
   "outputs": [],
   "source": [
    "print(\"Take the value in the first row and the second column\")\n",
    "a[1,2]\n",
    "print(\"Take all the rows and the second column\")\n",
    "a[,2]\n",
    "print(\"Take all the rows and all the columns but the first one\")\n",
    "a[,-1]\n",
    "print(\"Take all the rows and the column with the name 'a'\")\n",
    "a[, \"a\"]"
   ]
  },
  {
   "cell_type": "code",
   "execution_count": null,
   "metadata": {},
   "outputs": [],
   "source": [
    "c(1,2,3)\n",
    "as.matrix(c(1,2,3))"
   ]
  },
  {
   "cell_type": "markdown",
   "metadata": {},
   "source": [
    "## Arrays\n",
    "\n",
    "- n-dimensional arrays\n",
    "- Same type (numeric, character, logical) "
   ]
  },
  {
   "cell_type": "code",
   "execution_count": null,
   "metadata": {},
   "outputs": [],
   "source": [
    "a <- array(1:24, dim=c(2,3,4))\n",
    "a[1,1,1]"
   ]
  },
  {
   "cell_type": "markdown",
   "metadata": {},
   "source": [
    "## Data frame\n",
    "\n",
    "- Two-dimensional arrays\n",
    "- ***Different modes in different columns***"
   ]
  },
  {
   "cell_type": "code",
   "execution_count": null,
   "metadata": {},
   "outputs": [],
   "source": [
    "a <- data.frame(a=c(1,2,3), b=c('john', 'marry', \"anna\"), c=c(T,T,F))\n",
    "a"
   ]
  },
  {
   "cell_type": "code",
   "execution_count": null,
   "metadata": {},
   "outputs": [],
   "source": [
    "# Similar to the matrix, please not another possiblity to take a column by using $\n",
    "a[1,2] \n",
    "a[2, \"b\"]\n",
    "a[,c(\"b\", \"c\")]\n",
    "a$c\n",
    "a[, \"c\"]"
   ]
  },
  {
   "cell_type": "code",
   "execution_count": null,
   "metadata": {},
   "outputs": [],
   "source": [
    "colnames(a)"
   ]
  },
  {
   "cell_type": "code",
   "execution_count": null,
   "metadata": {},
   "outputs": [],
   "source": [
    "colnames(a) <- c(\"c1\", \"c2\", \"c3\")\n",
    "a"
   ]
  },
  {
   "cell_type": "code",
   "execution_count": null,
   "metadata": {},
   "outputs": [],
   "source": [
    "row.names(a)"
   ]
  },
  {
   "cell_type": "markdown",
   "metadata": {},
   "source": [
    "## List\n",
    "\n",
    "Ordered collection of objects"
   ]
  },
  {
   "cell_type": "code",
   "execution_count": null,
   "metadata": {},
   "outputs": [],
   "source": [
    "a <- list(22, c(2, 3, 4), data.frame(a=c(1,2,3), b=c(1,2,3)))\n",
    "a"
   ]
  },
  {
   "cell_type": "code",
   "execution_count": null,
   "metadata": {},
   "outputs": [],
   "source": [
    "a[3]"
   ]
  },
  {
   "cell_type": "code",
   "execution_count": null,
   "metadata": {},
   "outputs": [],
   "source": [
    "# If you want to access an element in the list use double [[]] - this one will FAIL\n",
    "a[3][1,1]"
   ]
  },
  {
   "cell_type": "code",
   "execution_count": null,
   "metadata": {},
   "outputs": [],
   "source": [
    "# This is OK\n",
    "a[[3]][1,1]"
   ]
  },
  {
   "cell_type": "code",
   "execution_count": null,
   "metadata": {},
   "outputs": [],
   "source": [
    "a['my_key'] <- 1223\n",
    "a"
   ]
  },
  {
   "cell_type": "markdown",
   "metadata": {},
   "source": [
    "## Factors - nominal and ordinal variables"
   ]
  },
  {
   "cell_type": "code",
   "execution_count": null,
   "metadata": {},
   "outputs": [],
   "source": [
    "a <- c(\"a\", \"b\", \"c\", \"a\")\n",
    "a"
   ]
  },
  {
   "cell_type": "code",
   "execution_count": null,
   "metadata": {},
   "outputs": [],
   "source": [
    "b <- factor(a)\n",
    "b\n"
   ]
  },
  {
   "cell_type": "code",
   "execution_count": null,
   "metadata": {},
   "outputs": [],
   "source": [
    "levels(b)"
   ]
  },
  {
   "cell_type": "code",
   "execution_count": null,
   "metadata": {},
   "outputs": [],
   "source": [
    "as.numeric(b)"
   ]
  },
  {
   "cell_type": "code",
   "execution_count": null,
   "metadata": {},
   "outputs": [],
   "source": [
    "as.character(b)"
   ]
  },
  {
   "cell_type": "code",
   "execution_count": null,
   "metadata": {},
   "outputs": [],
   "source": [
    "scale <- factor(c('low', 'medium', 'low', 'high'), \n",
    "                levels=c('low', 'medium', 'high'), ordered=T)\n",
    "scale"
   ]
  },
  {
   "cell_type": "code",
   "execution_count": null,
   "metadata": {},
   "outputs": [],
   "source": [
    "\"high\" > \"medium\""
   ]
  },
  {
   "cell_type": "code",
   "execution_count": null,
   "metadata": {},
   "outputs": [],
   "source": [
    "scale[4] > scale[2]"
   ]
  },
  {
   "cell_type": "code",
   "execution_count": null,
   "metadata": {},
   "outputs": [],
   "source": [
    "a <- factor(c(\"apple\", \"apple\", \"plum\"), \n",
    "            levels=c(\"apple\", \"plum\", \"cherry\"), ordered=T)"
   ]
  },
  {
   "cell_type": "code",
   "execution_count": null,
   "metadata": {},
   "outputs": [],
   "source": [
    "levels(a)"
   ]
  },
  {
   "cell_type": "code",
   "execution_count": null,
   "metadata": {},
   "outputs": [],
   "source": [
    "a"
   ]
  },
  {
   "cell_type": "markdown",
   "metadata": {},
   "source": [
    "## Basic functions\n",
    "\n",
    "- summary (summarizes the object)\n",
    "- length (Number of elements/components)\n",
    "- dim (Dimensions of an object)\n",
    "- str (Structure of an object)\n",
    "- class (Class or type of an object)\n",
    "- names (Names of components in an object)\n",
    "- cbind (Combines objects as columns)\n",
    "- rbind (Combines objects as rows)\n",
    "- c (creates a vector)\n",
    "- head(data)\n",
    "- tail(data)"
   ]
  },
  {
   "cell_type": "code",
   "execution_count": null,
   "metadata": {},
   "outputs": [],
   "source": [
    "a <- data.frame(a=c(1,2,3), b=c('john', 'marry', \"anna\"), c=c(T,T,F))\n",
    "summary(a)"
   ]
  },
  {
   "cell_type": "code",
   "execution_count": null,
   "metadata": {},
   "outputs": [],
   "source": [
    "str(a)"
   ]
  },
  {
   "cell_type": "code",
   "execution_count": null,
   "metadata": {},
   "outputs": [],
   "source": [
    "a$b <- as.character(a$b)"
   ]
  },
  {
   "cell_type": "code",
   "execution_count": null,
   "metadata": {},
   "outputs": [],
   "source": [
    "head(a, 2)"
   ]
  },
  {
   "cell_type": "code",
   "execution_count": null,
   "metadata": {},
   "outputs": [],
   "source": [
    "tail(a, 2)"
   ]
  },
  {
   "cell_type": "markdown",
   "metadata": {},
   "source": [
    "This is how you can filter values - look at this and see if you understand how does it work."
   ]
  },
  {
   "cell_type": "code",
   "execution_count": null,
   "metadata": {},
   "outputs": [],
   "source": [
    "x <- c(1,2,3,4,NA,4, NA, 5)\n",
    "x[!is.na(x)]"
   ]
  },
  {
   "cell_type": "code",
   "execution_count": null,
   "metadata": {},
   "outputs": [],
   "source": [
    "!is.na(x)"
   ]
  },
  {
   "cell_type": "markdown",
   "metadata": {
    "collapsed": true
   },
   "source": [
    "Yes, R is able to perform vector operations."
   ]
  },
  {
   "cell_type": "code",
   "execution_count": null,
   "metadata": {},
   "outputs": [],
   "source": [
    "a <- c(1,2,3)\n",
    "b <- c(1,2,3)\n",
    "a + b\n",
    "a * b\n",
    "a * 2"
   ]
  },
  {
   "cell_type": "code",
   "execution_count": null,
   "metadata": {},
   "outputs": [],
   "source": []
  }
 ],
 "metadata": {
  "kernelspec": {
   "display_name": "R",
   "language": "R",
   "name": "ir"
  },
  "language_info": {
   "codemirror_mode": "r",
   "file_extension": ".r",
   "mimetype": "text/x-r-source",
   "name": "R",
   "pygments_lexer": "r",
   "version": "3.6.1"
  }
 },
 "nbformat": 4,
 "nbformat_minor": 2
}
