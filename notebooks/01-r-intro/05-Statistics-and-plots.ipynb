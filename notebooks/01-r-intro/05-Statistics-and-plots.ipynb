{
 "cells": [
  {
   "cell_type": "markdown",
   "metadata": {},
   "source": [
    "# PART 05 - Basic statistics and plots\n",
    "\n",
    "In this part, you will learn:\n",
    "* How to calculate basic statistics?\n",
    "* How to plot basic plots?\n"
   ]
  },
  {
   "cell_type": "code",
   "execution_count": null,
   "metadata": {},
   "outputs": [],
   "source": [
    "code_data <- read.table(\"example.csv\", header=TRUE, sep=\";\")\n",
    "require(dplyr)\n",
    "code_data"
   ]
  },
  {
   "cell_type": "markdown",
   "metadata": {},
   "source": [
    "## Basic statistics\n",
    "\n",
    "- mean, median, sd (apply on column)\n",
    "    - What’s the mean LOC,\n",
    "    - what’s the median bugs, \n",
    "    - what’s sd?\n",
    "- Summary function\n",
    "- Frequency\n",
    "    - table – n-way contingency table\n",
    "    - table(code_data)\n",
    "    - table(code_data$CodeQuality)"
   ]
  },
  {
   "cell_type": "markdown",
   "metadata": {},
   "source": [
    "### Contingency tables"
   ]
  },
  {
   "cell_type": "code",
   "execution_count": null,
   "metadata": {},
   "outputs": [],
   "source": [
    "table(code_data$Package)"
   ]
  },
  {
   "cell_type": "code",
   "execution_count": null,
   "metadata": {},
   "outputs": [],
   "source": [
    "table(code_data$Package, code_data$CodeQuality)"
   ]
  },
  {
   "cell_type": "markdown",
   "metadata": {},
   "source": [
    "### Correlations\n"
   ]
  },
  {
   "cell_type": "code",
   "execution_count": null,
   "metadata": {},
   "outputs": [],
   "source": [
    "cor(code_data[,c(\"LOC\",\"NoBugs\")], method=\"pearson\")"
   ]
  },
  {
   "cell_type": "code",
   "execution_count": null,
   "metadata": {},
   "outputs": [],
   "source": [
    "cor.test(code_data[,\"LOC\"], code_data[,\"NoBugs\"], method=\"pearson\")"
   ]
  },
  {
   "cell_type": "code",
   "execution_count": null,
   "metadata": {},
   "outputs": [],
   "source": [
    "cor(code_data[,c(\"LOC\",\"NoBugs\")], method=\"spearman\")"
   ]
  },
  {
   "cell_type": "code",
   "execution_count": null,
   "metadata": {},
   "outputs": [],
   "source": [
    "cor.test(code_data[,\"LOC\"], code_data[,\"NoBugs\"], method=\"spearman\")"
   ]
  },
  {
   "cell_type": "code",
   "execution_count": null,
   "metadata": {},
   "outputs": [],
   "source": [
    "cor(code_data[,c(\"LOC\",\"NoBugs\")], method=\"kendall\")"
   ]
  },
  {
   "cell_type": "code",
   "execution_count": null,
   "metadata": {},
   "outputs": [],
   "source": [
    "cor.test(code_data[,\"LOC\"], code_data[,\"NoBugs\"], method=\"kendall\")"
   ]
  },
  {
   "cell_type": "markdown",
   "metadata": {},
   "source": [
    "## Statistical inference testing\n",
    "\n",
    "t-test to compare mean sizes of classes between two packages"
   ]
  },
  {
   "cell_type": "code",
   "execution_count": null,
   "metadata": {},
   "outputs": [],
   "source": [
    "x <- code_data %>% filter(Package==\"pl.put.qmese\") %>% select(LOC)\n",
    "y <- code_data %>% filter(Package==\"pl.put.qmese.internal\") %>% select(LOC)\n",
    "x\n",
    "y\n"
   ]
  },
  {
   "cell_type": "code",
   "execution_count": null,
   "metadata": {},
   "outputs": [],
   "source": [
    "t.test(x,y, alternative = c(\"two.sided\"), paired = FALSE, conf.level = 0.95)"
   ]
  },
  {
   "cell_type": "markdown",
   "metadata": {},
   "source": [
    "## Basic plots"
   ]
  },
  {
   "cell_type": "markdown",
   "metadata": {},
   "source": [
    "There is a function par() that controls most of the plotting parameters."
   ]
  },
  {
   "cell_type": "code",
   "execution_count": null,
   "metadata": {},
   "outputs": [],
   "source": [
    "par()"
   ]
  },
  {
   "cell_type": "markdown",
   "metadata": {},
   "source": [
    "If you want to customize these defaults values you have override them. However, please remember to keep the old version of them and revert the changes after you plot something."
   ]
  },
  {
   "cell_type": "code",
   "execution_count": null,
   "metadata": {},
   "outputs": [],
   "source": [
    "par(\"bg\")\n",
    "\n",
    "old_par <- par(bg=\"black\")\n",
    "\n",
    "# ...  plot\n",
    "par(\"bg\")\n",
    "\n",
    "\n",
    "par(old_par)\n",
    "par(\"bg\")"
   ]
  },
  {
   "cell_type": "markdown",
   "metadata": {},
   "source": [
    "A few useful settings:"
   ]
  },
  {
   "cell_type": "code",
   "execution_count": null,
   "metadata": {},
   "outputs": [],
   "source": [
    "# margins - either mar (lines) or mai (inches).\n",
    "# mfrow - if you want to plot with subplots, e.g., \n",
    "# cex - font size"
   ]
  },
  {
   "cell_type": "markdown",
   "metadata": {},
   "source": [
    "### Bar plots"
   ]
  },
  {
   "cell_type": "code",
   "execution_count": null,
   "metadata": {
    "scrolled": true
   },
   "outputs": [],
   "source": [
    "code_quality_table <- table(code_data$CodeQuality)\n",
    "\n",
    "options(repr.plot.width=3, repr.plot.height=2)\n",
    "old_par <- par(mfrow=c(1,1), mar=c(3, 3, 2, 1), cex=0.7, omi=c(0,0,0,0), mgp=c(2, 1, 0))\n",
    "barplot(code_quality_table,\n",
    "        main=\"Quality of classes\",\n",
    "        xlab=\"Quality level\",\n",
    "        ylab=\"Frequency\",\n",
    "        col=\"#e37222\")\n",
    "par(old_par)\n"
   ]
  },
  {
   "cell_type": "code",
   "execution_count": null,
   "metadata": {},
   "outputs": [],
   "source": [
    "table(code_data$CodeQuality, code_data$Package)"
   ]
  },
  {
   "cell_type": "code",
   "execution_count": null,
   "metadata": {},
   "outputs": [],
   "source": [
    "code_quality_package <- table(code_data$CodeQuality, code_data$Package)\n",
    "\n",
    "options(repr.plot.width=5, repr.plot.height=5)\n",
    "old_par <- par(mfrow=c(1,1), mar=c(3, 3, 2, 0), cex=0.7, omi=c(0,0,0,0), mgp=c(2, 1, 0))\n",
    "barplot(code_quality_package,\n",
    "        main=\"Quality of classes in packages\",\n",
    "        xlab=\"Package\", ylab=\"Frequency\", \n",
    "        col=c(\"#e37222\", \"#162274\", \"#618e02\"),\n",
    "        legend=NULL)\n",
    "legend(x=c(2.5,3.3), y=c(4.5,5), legend=row.names(code_quality_package), \n",
    "       fill=c(\"#e37222\", \"#162274\", \"#618e02\"), \n",
    "       col=c(\"#e37222\", \"#162274\", \"#618e02\"), \n",
    "       bg=NA)\n",
    "par(old_par)\n"
   ]
  },
  {
   "cell_type": "markdown",
   "metadata": {},
   "source": [
    "### Pie plots"
   ]
  },
  {
   "cell_type": "code",
   "execution_count": null,
   "metadata": {},
   "outputs": [],
   "source": [
    "code_quality_table <- table(code_data$CodeQuality)\n",
    "\n",
    "options(repr.plot.width=4, repr.plot.height=4)\n",
    "old_par <- par(mfrow=c(1,1), mar=c(3, 3, 2, 0), cex=0.7, omi=c(0,0,0,0), mgp=c(2, 1, 0))\n",
    "pie(code_quality_table,\n",
    "        main=\"Quality of classes\", col=c(\"#e37222\", \"#162274\", \"#618e02\"))\n",
    "par(old_par)\n"
   ]
  },
  {
   "cell_type": "markdown",
   "metadata": {},
   "source": [
    "### Histograms"
   ]
  },
  {
   "cell_type": "code",
   "execution_count": null,
   "metadata": {
    "scrolled": false
   },
   "outputs": [],
   "source": [
    "options(repr.plot.width=4, repr.plot.height=3)\n",
    "old_par <- par(mfrow=c(1,1), mar=c(3, 3, 2, 0), cex=0.7, omi=c(0,0,0,0), mgp=c(2, 1, 0))\n",
    "hist(code_data$LOC, \n",
    "    main=\"Histogram of LOC of class\", \n",
    "    xlab=\"LOC\",\n",
    "    breaks=3, col=\"#e37222\")\n",
    "par(old_par)"
   ]
  },
  {
   "cell_type": "markdown",
   "metadata": {},
   "source": [
    "### Boxplots"
   ]
  },
  {
   "cell_type": "code",
   "execution_count": null,
   "metadata": {},
   "outputs": [],
   "source": [
    "options(repr.plot.width=4, repr.plot.height=3)\n",
    "old_par <- par(mfrow=c(1,1), mar=c(3, 3, 2, 0), cex=0.7, omi=c(0,0,0,0), mgp=c(2, 1, 0))\n",
    "boxplot(code_data$LOC, \n",
    "     main=\"Boxplot for LOC of class\", \n",
    "     xlab=\"LOC\", horizontal=TRUE)\n",
    "par(old_par)"
   ]
  },
  {
   "cell_type": "code",
   "execution_count": null,
   "metadata": {},
   "outputs": [],
   "source": [
    "# We can overlay the data points to the boxplot\n",
    "options(repr.plot.width=4, repr.plot.height=3)\n",
    "old_par <- par(mfrow=c(1,1), mar=c(3, 3, 2, 0), cex=0.7, omi=c(0,0,0,0), mgp=c(2, 1, 0))\n",
    "boxplot(code_data$LOC, \n",
    "     main=\"Boxplot for LOC of class\", \n",
    "     xlab=\"LOC\", horizontal=TRUE)\n",
    "stripchart(code_data$LOC, vertical = FALSE,  \n",
    "    method = \"jitter\", add = TRUE, pch = 20, col = 'black')\n",
    "par(old_par)"
   ]
  },
  {
   "cell_type": "code",
   "execution_count": null,
   "metadata": {},
   "outputs": [],
   "source": [
    "loc_a <- (code_data %>% filter(Package==\"pl.put.qmese\"))$LOC\n",
    "loc_b <- (code_data %>% filter(Package==\"pl.put.qmese.data\"))$LOC\n",
    "loc_c <- (code_data %>% filter(Package==\"pl.put.qmese.internal\"))$LOC\n",
    "\n",
    "options(repr.plot.width=5, repr.plot.height=3)\n",
    "old_par <- par(mfrow=c(1,1), mar=c(3, 10, 2, 0), cex=0.7, omi=c(0,0,0,0), mgp=c(2, 1, 0))\n",
    "boxplot(loc_a, loc_b, loc_c, \n",
    "     main=\"Boxplot for LOC of class\", \n",
    "     xlab=\"LOC\", horizontal=TRUE,\n",
    "     names=c(\"pl.put.qmese\", \"pl.put.qmese.data\", \"pl.put.qmese.internal\"),\n",
    "    las=2)\n",
    "par(old_par)"
   ]
  },
  {
   "cell_type": "markdown",
   "metadata": {},
   "source": [
    "### Scatter plots"
   ]
  },
  {
   "cell_type": "code",
   "execution_count": null,
   "metadata": {},
   "outputs": [],
   "source": [
    "options(repr.plot.width=4, repr.plot.height=4)\n",
    "old_par <- par(mfrow=c(1,1), mar=c(3, 3, 2, 0), cex=0.7, omi=c(0,0,0,0), mgp=c(2, 1, 0))\n",
    "plot(code_data$LOC, code_data$NoBugs, \n",
    "     main=\"Histogram of LOC of class\", \n",
    "     xlab=\"LOC\", ylab=\"Bugs\")\n",
    "par(old_par)"
   ]
  },
  {
   "cell_type": "markdown",
   "metadata": {},
   "source": [
    "### Saving to a file\n",
    "\n",
    "If you want to save a plot to a file, the best option is to use a PDF device to generate the plot. Here is an example."
   ]
  },
  {
   "cell_type": "code",
   "execution_count": null,
   "metadata": {},
   "outputs": [],
   "source": [
    "pdf(\"./boxplot.pdf\", width=4, height=3) # KEY LINE 1\n",
    "\n",
    "old_par <- par(mfrow=c(1,1), mar=c(3, 1, 2, 1), cex=0.7, omi=c(0,0,0,0), mgp=c(2, 1, 0))\n",
    "boxplot(code_data$LOC, \n",
    "     main=\"Boxplot for LOC of class\", \n",
    "     xlab=\"LOC\", horizontal=TRUE)\n",
    "par(old_par)\n",
    "\n",
    "dev.off() # KEY LINE 2"
   ]
  },
  {
   "cell_type": "markdown",
   "metadata": {},
   "source": [
    "### What's next?"
   ]
  },
  {
   "cell_type": "markdown",
   "metadata": {},
   "source": [
    "If you want to learn how to draw beautiful plots in R, I would recommend you to read about ggplot2. At the beginning the approach to plotting it offers my look weird, but it is really powerful."
   ]
  }
 ],
 "metadata": {
  "kernelspec": {
   "display_name": "R",
   "language": "R",
   "name": "ir"
  },
  "language_info": {
   "codemirror_mode": "r",
   "file_extension": ".r",
   "mimetype": "text/x-r-source",
   "name": "R",
   "pygments_lexer": "r",
   "version": "3.6.1"
  },
  "toc": {
   "base_numbering": 1,
   "nav_menu": {},
   "number_sections": true,
   "sideBar": true,
   "skip_h1_title": true,
   "title_cell": "Table of Contents",
   "title_sidebar": "Contents",
   "toc_cell": false,
   "toc_position": {},
   "toc_section_display": true,
   "toc_window_display": false
  },
  "varInspector": {
   "cols": {
    "lenName": 16,
    "lenType": 16,
    "lenVar": 40
   },
   "kernels_config": {
    "python": {
     "delete_cmd_postfix": "",
     "delete_cmd_prefix": "del ",
     "library": "var_list.py",
     "varRefreshCmd": "print(var_dic_list())"
    },
    "r": {
     "delete_cmd_postfix": ") ",
     "delete_cmd_prefix": "rm(",
     "library": "var_list.r",
     "varRefreshCmd": "cat(var_dic_list()) "
    }
   },
   "types_to_exclude": [
    "module",
    "function",
    "builtin_function_or_method",
    "instance",
    "_Feature"
   ],
   "window_display": false
  }
 },
 "nbformat": 4,
 "nbformat_minor": 2
}
