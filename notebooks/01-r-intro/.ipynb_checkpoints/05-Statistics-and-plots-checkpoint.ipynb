{
 "cells": [
  {
   "attachments": {},
   "cell_type": "markdown",
   "metadata": {},
   "source": [
    "# PART 05 - Basic statistics and plots\n",
    "\n",
    "In this part, you will learn:\n",
    "* How to calculate basic statistics?\n",
    "* How to plot basic plots?\n"
   ]
  },
  {
   "cell_type": "code",
   "execution_count": 1,
   "metadata": {},
   "outputs": [
    {
     "name": "stderr",
     "output_type": "stream",
     "text": [
      "Loading required package: dplyr\n",
      "\n",
      "Attaching package: ‘dplyr’\n",
      "\n",
      "The following objects are masked from ‘package:stats’:\n",
      "\n",
      "    filter, lag\n",
      "\n",
      "The following objects are masked from ‘package:base’:\n",
      "\n",
      "    intersect, setdiff, setequal, union\n",
      "\n"
     ]
    },
    {
     "data": {
      "text/html": [
       "<table>\n",
       "<thead><tr><th scope=col>Package</th><th scope=col>Class</th><th scope=col>LOC</th><th scope=col>CodeQuality</th><th scope=col>NoBugs</th></tr></thead>\n",
       "<tbody>\n",
       "\t<tr><td>pl.put.qmese         </td><td>Handler              </td><td> 23                  </td><td>medium               </td><td>3                    </td></tr>\n",
       "\t<tr><td>pl.put.qmese         </td><td>Exception            </td><td> 10                  </td><td>medium               </td><td>2                    </td></tr>\n",
       "\t<tr><td>pl.put.qmese         </td><td>Plugin               </td><td>124                  </td><td>high                 </td><td>5                    </td></tr>\n",
       "\t<tr><td>pl.put.qmese.internal</td><td>Input                </td><td>224                  </td><td>low                  </td><td>8                    </td></tr>\n",
       "\t<tr><td>pl.put.qmese         </td><td>Info                 </td><td>111                  </td><td>high                 </td><td>5                    </td></tr>\n",
       "\t<tr><td>pl.put.qmese         </td><td>Log                  </td><td> 23                  </td><td>medium               </td><td>3                    </td></tr>\n",
       "\t<tr><td>pl.put.qmese.internal</td><td>Error                </td><td> 10                  </td><td>low                  </td><td>1                    </td></tr>\n",
       "\t<tr><td>pl.put.qmese.data    </td><td>Experiment           </td><td>125                  </td><td>high                 </td><td>5                    </td></tr>\n",
       "\t<tr><td>pl.put.qmese.data    </td><td>CaseStudy            </td><td>150                  </td><td>low                  </td><td>6                    </td></tr>\n",
       "\t<tr><td>pl.put.qmese.data    </td><td>Survey               </td><td>111                  </td><td>high                 </td><td>5                    </td></tr>\n",
       "</tbody>\n",
       "</table>\n"
      ],
      "text/latex": [
       "\\begin{tabular}{r|lllll}\n",
       " Package & Class & LOC & CodeQuality & NoBugs\\\\\n",
       "\\hline\n",
       "\t pl.put.qmese          & Handler               &  23                   & medium                & 3                    \\\\\n",
       "\t pl.put.qmese          & Exception             &  10                   & medium                & 2                    \\\\\n",
       "\t pl.put.qmese          & Plugin                & 124                   & high                  & 5                    \\\\\n",
       "\t pl.put.qmese.internal & Input                 & 224                   & low                   & 8                    \\\\\n",
       "\t pl.put.qmese          & Info                  & 111                   & high                  & 5                    \\\\\n",
       "\t pl.put.qmese          & Log                   &  23                   & medium                & 3                    \\\\\n",
       "\t pl.put.qmese.internal & Error                 &  10                   & low                   & 1                    \\\\\n",
       "\t pl.put.qmese.data     & Experiment            & 125                   & high                  & 5                    \\\\\n",
       "\t pl.put.qmese.data     & CaseStudy             & 150                   & low                   & 6                    \\\\\n",
       "\t pl.put.qmese.data     & Survey                & 111                   & high                  & 5                    \\\\\n",
       "\\end{tabular}\n"
      ],
      "text/markdown": [
       "\n",
       "| Package | Class | LOC | CodeQuality | NoBugs |\n",
       "|---|---|---|---|---|\n",
       "| pl.put.qmese          | Handler               |  23                   | medium                | 3                     |\n",
       "| pl.put.qmese          | Exception             |  10                   | medium                | 2                     |\n",
       "| pl.put.qmese          | Plugin                | 124                   | high                  | 5                     |\n",
       "| pl.put.qmese.internal | Input                 | 224                   | low                   | 8                     |\n",
       "| pl.put.qmese          | Info                  | 111                   | high                  | 5                     |\n",
       "| pl.put.qmese          | Log                   |  23                   | medium                | 3                     |\n",
       "| pl.put.qmese.internal | Error                 |  10                   | low                   | 1                     |\n",
       "| pl.put.qmese.data     | Experiment            | 125                   | high                  | 5                     |\n",
       "| pl.put.qmese.data     | CaseStudy             | 150                   | low                   | 6                     |\n",
       "| pl.put.qmese.data     | Survey                | 111                   | high                  | 5                     |\n",
       "\n"
      ],
      "text/plain": [
       "   Package               Class      LOC CodeQuality NoBugs\n",
       "1  pl.put.qmese          Handler     23 medium      3     \n",
       "2  pl.put.qmese          Exception   10 medium      2     \n",
       "3  pl.put.qmese          Plugin     124 high        5     \n",
       "4  pl.put.qmese.internal Input      224 low         8     \n",
       "5  pl.put.qmese          Info       111 high        5     \n",
       "6  pl.put.qmese          Log         23 medium      3     \n",
       "7  pl.put.qmese.internal Error       10 low         1     \n",
       "8  pl.put.qmese.data     Experiment 125 high        5     \n",
       "9  pl.put.qmese.data     CaseStudy  150 low         6     \n",
       "10 pl.put.qmese.data     Survey     111 high        5     "
      ]
     },
     "metadata": {},
     "output_type": "display_data"
    }
   ],
   "source": [
    "code_data <- read.table(\"example.csv\", header=TRUE, sep=\";\")\n",
    "require(dplyr)\n",
    "code_data"
   ]
  },
  {
   "cell_type": "markdown",
   "metadata": {},
   "source": [
    "## Basic statistics\n",
    "\n",
    "- mean, median, sd (apply on column)\n",
    "    - What’s the mean LOC,\n",
    "    - what’s the median bugs, \n",
    "    - what’s sd?\n",
    "- Summary function\n",
    "- Frequency\n",
    "    - table – n-way contingency table\n",
    "    - table(code_data)\n",
    "    - table(code_data$CodeQuality)"
   ]
  },
  {
   "cell_type": "markdown",
   "metadata": {},
   "source": [
    "### Contingency tables"
   ]
  },
  {
   "cell_type": "code",
   "execution_count": 4,
   "metadata": {},
   "outputs": [
    {
     "data": {
      "text/plain": [
       "\n",
       "         pl.put.qmese     pl.put.qmese.data pl.put.qmese.internal \n",
       "                    5                     3                     2 "
      ]
     },
     "metadata": {},
     "output_type": "display_data"
    }
   ],
   "source": [
    "table(code_data$Package)"
   ]
  },
  {
   "cell_type": "code",
   "execution_count": 5,
   "metadata": {},
   "outputs": [
    {
     "data": {
      "text/plain": [
       "                       \n",
       "                        high low medium\n",
       "  pl.put.qmese             2   0      3\n",
       "  pl.put.qmese.data        2   1      0\n",
       "  pl.put.qmese.internal    0   2      0"
      ]
     },
     "metadata": {},
     "output_type": "display_data"
    }
   ],
   "source": [
    "table(code_data$Package, code_data$CodeQuality)"
   ]
  },
  {
   "cell_type": "markdown",
   "metadata": {},
   "source": [
    "### Correlations\n"
   ]
  },
  {
   "cell_type": "code",
   "execution_count": 12,
   "metadata": {},
   "outputs": [
    {
     "data": {
      "text/html": [
       "<table>\n",
       "<thead><tr><th></th><th scope=col>LOC</th><th scope=col>NoBugs</th></tr></thead>\n",
       "<tbody>\n",
       "\t<tr><th scope=row>LOC</th><td>1.0000000</td><td>0.9740679</td></tr>\n",
       "\t<tr><th scope=row>NoBugs</th><td>0.9740679</td><td>1.0000000</td></tr>\n",
       "</tbody>\n",
       "</table>\n"
      ],
      "text/latex": [
       "\\begin{tabular}{r|ll}\n",
       "  & LOC & NoBugs\\\\\n",
       "\\hline\n",
       "\tLOC & 1.0000000 & 0.9740679\\\\\n",
       "\tNoBugs & 0.9740679 & 1.0000000\\\\\n",
       "\\end{tabular}\n"
      ],
      "text/markdown": [
       "\n",
       "| <!--/--> | LOC | NoBugs |\n",
       "|---|---|---|\n",
       "| LOC | 1.0000000 | 0.9740679 |\n",
       "| NoBugs | 0.9740679 | 1.0000000 |\n",
       "\n"
      ],
      "text/plain": [
       "       LOC       NoBugs   \n",
       "LOC    1.0000000 0.9740679\n",
       "NoBugs 0.9740679 1.0000000"
      ]
     },
     "metadata": {},
     "output_type": "display_data"
    }
   ],
   "source": [
    "cor(code_data[,c(\"LOC\",\"NoBugs\")], method=\"pearson\")"
   ]
  },
  {
   "cell_type": "code",
   "execution_count": 15,
   "metadata": {},
   "outputs": [
    {
     "data": {
      "text/plain": [
       "\n",
       "\tPearson's product-moment correlation\n",
       "\n",
       "data:  code_data[, \"LOC\"] and code_data[, \"NoBugs\"]\n",
       "t = 12.177, df = 8, p-value = 1.918e-06\n",
       "alternative hypothesis: true correlation is not equal to 0\n",
       "95 percent confidence interval:\n",
       " 0.8907176 0.9940466\n",
       "sample estimates:\n",
       "      cor \n",
       "0.9740679 \n"
      ]
     },
     "metadata": {},
     "output_type": "display_data"
    }
   ],
   "source": [
    "cor.test(code_data[,\"LOC\"], code_data[,\"NoBugs\"], method=\"pearson\")"
   ]
  },
  {
   "cell_type": "code",
   "execution_count": 16,
   "metadata": {},
   "outputs": [
    {
     "data": {
      "text/html": [
       "<table>\n",
       "<thead><tr><th></th><th scope=col>LOC</th><th scope=col>NoBugs</th></tr></thead>\n",
       "<tbody>\n",
       "\t<tr><th scope=row>LOC</th><td>1.0000000</td><td>0.9686649</td></tr>\n",
       "\t<tr><th scope=row>NoBugs</th><td>0.9686649</td><td>1.0000000</td></tr>\n",
       "</tbody>\n",
       "</table>\n"
      ],
      "text/latex": [
       "\\begin{tabular}{r|ll}\n",
       "  & LOC & NoBugs\\\\\n",
       "\\hline\n",
       "\tLOC & 1.0000000 & 0.9686649\\\\\n",
       "\tNoBugs & 0.9686649 & 1.0000000\\\\\n",
       "\\end{tabular}\n"
      ],
      "text/markdown": [
       "\n",
       "| <!--/--> | LOC | NoBugs |\n",
       "|---|---|---|\n",
       "| LOC | 1.0000000 | 0.9686649 |\n",
       "| NoBugs | 0.9686649 | 1.0000000 |\n",
       "\n"
      ],
      "text/plain": [
       "       LOC       NoBugs   \n",
       "LOC    1.0000000 0.9686649\n",
       "NoBugs 0.9686649 1.0000000"
      ]
     },
     "metadata": {},
     "output_type": "display_data"
    }
   ],
   "source": [
    "cor(code_data[,c(\"LOC\",\"NoBugs\")], method=\"spearman\")"
   ]
  },
  {
   "cell_type": "code",
   "execution_count": 17,
   "metadata": {},
   "outputs": [
    {
     "name": "stderr",
     "output_type": "stream",
     "text": [
      "Warning message in cor.test.default(code_data[, \"LOC\"], code_data[, \"NoBugs\"], method = \"spearman\"):\n",
      "“Cannot compute exact p-value with ties”"
     ]
    },
    {
     "data": {
      "text/plain": [
       "\n",
       "\tSpearman's rank correlation rho\n",
       "\n",
       "data:  code_data[, \"LOC\"] and code_data[, \"NoBugs\"]\n",
       "S = 5.1703, p-value = 4.061e-06\n",
       "alternative hypothesis: true rho is not equal to 0\n",
       "sample estimates:\n",
       "      rho \n",
       "0.9686649 \n"
      ]
     },
     "metadata": {},
     "output_type": "display_data"
    }
   ],
   "source": [
    "cor.test(code_data[,\"LOC\"], code_data[,\"NoBugs\"], method=\"spearman\")"
   ]
  },
  {
   "cell_type": "code",
   "execution_count": 18,
   "metadata": {},
   "outputs": [
    {
     "data": {
      "text/html": [
       "<table>\n",
       "<thead><tr><th></th><th scope=col>LOC</th><th scope=col>NoBugs</th></tr></thead>\n",
       "<tbody>\n",
       "\t<tr><th scope=row>LOC</th><td>1.0000000</td><td>0.9261584</td></tr>\n",
       "\t<tr><th scope=row>NoBugs</th><td>0.9261584</td><td>1.0000000</td></tr>\n",
       "</tbody>\n",
       "</table>\n"
      ],
      "text/latex": [
       "\\begin{tabular}{r|ll}\n",
       "  & LOC & NoBugs\\\\\n",
       "\\hline\n",
       "\tLOC & 1.0000000 & 0.9261584\\\\\n",
       "\tNoBugs & 0.9261584 & 1.0000000\\\\\n",
       "\\end{tabular}\n"
      ],
      "text/markdown": [
       "\n",
       "| <!--/--> | LOC | NoBugs |\n",
       "|---|---|---|\n",
       "| LOC | 1.0000000 | 0.9261584 |\n",
       "| NoBugs | 0.9261584 | 1.0000000 |\n",
       "\n"
      ],
      "text/plain": [
       "       LOC       NoBugs   \n",
       "LOC    1.0000000 0.9261584\n",
       "NoBugs 0.9261584 1.0000000"
      ]
     },
     "metadata": {},
     "output_type": "display_data"
    }
   ],
   "source": [
    "cor(code_data[,c(\"LOC\",\"NoBugs\")], method=\"kendall\")"
   ]
  },
  {
   "cell_type": "code",
   "execution_count": 19,
   "metadata": {},
   "outputs": [
    {
     "name": "stderr",
     "output_type": "stream",
     "text": [
      "Warning message in cor.test.default(code_data[, \"LOC\"], code_data[, \"NoBugs\"], method = \"kendall\"):\n",
      "“Cannot compute exact p-value with ties”"
     ]
    },
    {
     "data": {
      "text/plain": [
       "\n",
       "\tKendall's rank correlation tau\n",
       "\n",
       "data:  code_data[, \"LOC\"] and code_data[, \"NoBugs\"]\n",
       "z = 3.4838, p-value = 0.0004944\n",
       "alternative hypothesis: true tau is not equal to 0\n",
       "sample estimates:\n",
       "      tau \n",
       "0.9261584 \n"
      ]
     },
     "metadata": {},
     "output_type": "display_data"
    }
   ],
   "source": [
    "cor.test(code_data[,\"LOC\"], code_data[,\"NoBugs\"], method=\"kendall\")"
   ]
  },
  {
   "cell_type": "markdown",
   "metadata": {},
   "source": [
    "## Statistical inference testing\n",
    "\n",
    "t-test to compare mean sizes of classes between two packages"
   ]
  },
  {
   "cell_type": "code",
   "execution_count": 20,
   "metadata": {},
   "outputs": [
    {
     "data": {
      "text/html": [
       "<table>\n",
       "<thead><tr><th scope=col>LOC</th></tr></thead>\n",
       "<tbody>\n",
       "\t<tr><td> 23</td></tr>\n",
       "\t<tr><td> 10</td></tr>\n",
       "\t<tr><td>124</td></tr>\n",
       "\t<tr><td>111</td></tr>\n",
       "\t<tr><td> 23</td></tr>\n",
       "</tbody>\n",
       "</table>\n"
      ],
      "text/latex": [
       "\\begin{tabular}{r|l}\n",
       " LOC\\\\\n",
       "\\hline\n",
       "\t  23\\\\\n",
       "\t  10\\\\\n",
       "\t 124\\\\\n",
       "\t 111\\\\\n",
       "\t  23\\\\\n",
       "\\end{tabular}\n"
      ],
      "text/markdown": [
       "\n",
       "| LOC |\n",
       "|---|\n",
       "|  23 |\n",
       "|  10 |\n",
       "| 124 |\n",
       "| 111 |\n",
       "|  23 |\n",
       "\n"
      ],
      "text/plain": [
       "  LOC\n",
       "1  23\n",
       "2  10\n",
       "3 124\n",
       "4 111\n",
       "5  23"
      ]
     },
     "metadata": {},
     "output_type": "display_data"
    },
    {
     "data": {
      "text/html": [
       "<table>\n",
       "<thead><tr><th scope=col>LOC</th></tr></thead>\n",
       "<tbody>\n",
       "\t<tr><td>224</td></tr>\n",
       "\t<tr><td> 10</td></tr>\n",
       "</tbody>\n",
       "</table>\n"
      ],
      "text/latex": [
       "\\begin{tabular}{r|l}\n",
       " LOC\\\\\n",
       "\\hline\n",
       "\t 224\\\\\n",
       "\t  10\\\\\n",
       "\\end{tabular}\n"
      ],
      "text/markdown": [
       "\n",
       "| LOC |\n",
       "|---|\n",
       "| 224 |\n",
       "|  10 |\n",
       "\n"
      ],
      "text/plain": [
       "  LOC\n",
       "1 224\n",
       "2  10"
      ]
     },
     "metadata": {},
     "output_type": "display_data"
    }
   ],
   "source": [
    "x <- code_data %>% filter(Package==\"pl.put.qmese\") %>% select(LOC)\n",
    "y <- code_data %>% filter(Package==\"pl.put.qmese.internal\") %>% select(LOC)\n",
    "x\n",
    "y\n"
   ]
  },
  {
   "cell_type": "code",
   "execution_count": 21,
   "metadata": {},
   "outputs": [
    {
     "data": {
      "text/plain": [
       "\n",
       "\tWelch Two Sample t-test\n",
       "\n",
       "data:  x and y\n",
       "t = -0.53577, df = 1.1061, p-value = 0.6798\n",
       "alternative hypothesis: true difference in means is not equal to 0\n",
       "95 percent confidence interval:\n",
       " -1173.806  1056.206\n",
       "sample estimates:\n",
       "mean of x mean of y \n",
       "     58.2     117.0 \n"
      ]
     },
     "metadata": {},
     "output_type": "display_data"
    }
   ],
   "source": [
    "t.test(x,y, alternative = c(\"two.sided\"), paired = FALSE, conf.level = 0.95)"
   ]
  },
  {
   "cell_type": "markdown",
   "metadata": {},
   "source": [
    "## Basic plots"
   ]
  },
  {
   "cell_type": "markdown",
   "metadata": {},
   "source": [
    "There is a function par() that controls most of the plotting parameters."
   ]
  },
  {
   "cell_type": "code",
   "execution_count": 31,
   "metadata": {},
   "outputs": [
    {
     "data": {
      "text/html": [
       "<dl>\n",
       "\t<dt>$xlog</dt>\n",
       "\t\t<dd>FALSE</dd>\n",
       "\t<dt>$ylog</dt>\n",
       "\t\t<dd>FALSE</dd>\n",
       "\t<dt>$adj</dt>\n",
       "\t\t<dd>0.5</dd>\n",
       "\t<dt>$ann</dt>\n",
       "\t\t<dd>TRUE</dd>\n",
       "\t<dt>$ask</dt>\n",
       "\t\t<dd>FALSE</dd>\n",
       "\t<dt>$bg</dt>\n",
       "\t\t<dd>'white'</dd>\n",
       "\t<dt>$bty</dt>\n",
       "\t\t<dd>'o'</dd>\n",
       "\t<dt>$cex</dt>\n",
       "\t\t<dd>1</dd>\n",
       "\t<dt>$cex.axis</dt>\n",
       "\t\t<dd>1</dd>\n",
       "\t<dt>$cex.lab</dt>\n",
       "\t\t<dd>1</dd>\n",
       "\t<dt>$cex.main</dt>\n",
       "\t\t<dd>1.2</dd>\n",
       "\t<dt>$cex.sub</dt>\n",
       "\t\t<dd>1</dd>\n",
       "\t<dt>$cin</dt>\n",
       "\t\t<dd><ol class=list-inline>\n",
       "\t<li>0.15</li>\n",
       "\t<li>0.2</li>\n",
       "</ol>\n",
       "</dd>\n",
       "\t<dt>$col</dt>\n",
       "\t\t<dd>'black'</dd>\n",
       "\t<dt>$col.axis</dt>\n",
       "\t\t<dd>'black'</dd>\n",
       "\t<dt>$col.lab</dt>\n",
       "\t\t<dd>'black'</dd>\n",
       "\t<dt>$col.main</dt>\n",
       "\t\t<dd>'black'</dd>\n",
       "\t<dt>$col.sub</dt>\n",
       "\t\t<dd>'black'</dd>\n",
       "\t<dt>$cra</dt>\n",
       "\t\t<dd><ol class=list-inline>\n",
       "\t<li>10.8</li>\n",
       "\t<li>14.4</li>\n",
       "</ol>\n",
       "</dd>\n",
       "\t<dt>$crt</dt>\n",
       "\t\t<dd>0</dd>\n",
       "\t<dt>$csi</dt>\n",
       "\t\t<dd>0.2</dd>\n",
       "\t<dt>$cxy</dt>\n",
       "\t\t<dd><ol class=list-inline>\n",
       "\t<li>0.0276412776412776</li>\n",
       "\t<li>0.0414364640883978</li>\n",
       "</ol>\n",
       "</dd>\n",
       "\t<dt>$din</dt>\n",
       "\t\t<dd><ol class=list-inline>\n",
       "\t<li>6.66666666666667</li>\n",
       "\t<li>6.66666666666667</li>\n",
       "</ol>\n",
       "</dd>\n",
       "\t<dt>$err</dt>\n",
       "\t\t<dd>0</dd>\n",
       "\t<dt>$family</dt>\n",
       "\t\t<dd>''</dd>\n",
       "\t<dt>$fg</dt>\n",
       "\t\t<dd>'black'</dd>\n",
       "\t<dt>$fig</dt>\n",
       "\t\t<dd><ol class=list-inline>\n",
       "\t<li>0</li>\n",
       "\t<li>1</li>\n",
       "\t<li>0</li>\n",
       "\t<li>1</li>\n",
       "</ol>\n",
       "</dd>\n",
       "\t<dt>$fin</dt>\n",
       "\t\t<dd><ol class=list-inline>\n",
       "\t<li>6.66666666666667</li>\n",
       "\t<li>6.66666666666667</li>\n",
       "</ol>\n",
       "</dd>\n",
       "\t<dt>$font</dt>\n",
       "\t\t<dd>1</dd>\n",
       "\t<dt>$font.axis</dt>\n",
       "\t\t<dd>1</dd>\n",
       "\t<dt>$font.lab</dt>\n",
       "\t\t<dd>1</dd>\n",
       "\t<dt>$font.main</dt>\n",
       "\t\t<dd>2</dd>\n",
       "\t<dt>$font.sub</dt>\n",
       "\t\t<dd>1</dd>\n",
       "\t<dt>$lab</dt>\n",
       "\t\t<dd><ol class=list-inline>\n",
       "\t<li>5</li>\n",
       "\t<li>5</li>\n",
       "\t<li>7</li>\n",
       "</ol>\n",
       "</dd>\n",
       "\t<dt>$las</dt>\n",
       "\t\t<dd>0</dd>\n",
       "\t<dt>$lend</dt>\n",
       "\t\t<dd>'round'</dd>\n",
       "\t<dt>$lheight</dt>\n",
       "\t\t<dd>1</dd>\n",
       "\t<dt>$ljoin</dt>\n",
       "\t\t<dd>'round'</dd>\n",
       "\t<dt>$lmitre</dt>\n",
       "\t\t<dd>10</dd>\n",
       "\t<dt>$lty</dt>\n",
       "\t\t<dd>'solid'</dd>\n",
       "\t<dt>$lwd</dt>\n",
       "\t\t<dd>1</dd>\n",
       "\t<dt>$mai</dt>\n",
       "\t\t<dd><ol class=list-inline>\n",
       "\t<li>1.02</li>\n",
       "\t<li>0.82</li>\n",
       "\t<li>0.82</li>\n",
       "\t<li>0.42</li>\n",
       "</ol>\n",
       "</dd>\n",
       "\t<dt>$mar</dt>\n",
       "\t\t<dd><ol class=list-inline>\n",
       "\t<li>5.1</li>\n",
       "\t<li>4.1</li>\n",
       "\t<li>4.1</li>\n",
       "\t<li>2.1</li>\n",
       "</ol>\n",
       "</dd>\n",
       "\t<dt>$mex</dt>\n",
       "\t\t<dd>1</dd>\n",
       "\t<dt>$mfcol</dt>\n",
       "\t\t<dd><ol class=list-inline>\n",
       "\t<li>1</li>\n",
       "\t<li>1</li>\n",
       "</ol>\n",
       "</dd>\n",
       "\t<dt>$mfg</dt>\n",
       "\t\t<dd><ol class=list-inline>\n",
       "\t<li>1</li>\n",
       "\t<li>1</li>\n",
       "\t<li>1</li>\n",
       "\t<li>1</li>\n",
       "</ol>\n",
       "</dd>\n",
       "\t<dt>$mfrow</dt>\n",
       "\t\t<dd><ol class=list-inline>\n",
       "\t<li>1</li>\n",
       "\t<li>1</li>\n",
       "</ol>\n",
       "</dd>\n",
       "\t<dt>$mgp</dt>\n",
       "\t\t<dd><ol class=list-inline>\n",
       "\t<li>3</li>\n",
       "\t<li>1</li>\n",
       "\t<li>0</li>\n",
       "</ol>\n",
       "</dd>\n",
       "\t<dt>$mkh</dt>\n",
       "\t\t<dd>0.001</dd>\n",
       "\t<dt>$new</dt>\n",
       "\t\t<dd>FALSE</dd>\n",
       "\t<dt>$oma</dt>\n",
       "\t\t<dd><ol class=list-inline>\n",
       "\t<li>0</li>\n",
       "\t<li>0</li>\n",
       "\t<li>0</li>\n",
       "\t<li>0</li>\n",
       "</ol>\n",
       "</dd>\n",
       "\t<dt>$omd</dt>\n",
       "\t\t<dd><ol class=list-inline>\n",
       "\t<li>0</li>\n",
       "\t<li>1</li>\n",
       "\t<li>0</li>\n",
       "\t<li>1</li>\n",
       "</ol>\n",
       "</dd>\n",
       "\t<dt>$omi</dt>\n",
       "\t\t<dd><ol class=list-inline>\n",
       "\t<li>0</li>\n",
       "\t<li>0</li>\n",
       "\t<li>0</li>\n",
       "\t<li>0</li>\n",
       "</ol>\n",
       "</dd>\n",
       "\t<dt>$page</dt>\n",
       "\t\t<dd>TRUE</dd>\n",
       "\t<dt>$pch</dt>\n",
       "\t\t<dd>1</dd>\n",
       "\t<dt>$pin</dt>\n",
       "\t\t<dd><ol class=list-inline>\n",
       "\t<li>5.42666666666667</li>\n",
       "\t<li>4.82666666666667</li>\n",
       "</ol>\n",
       "</dd>\n",
       "\t<dt>$plt</dt>\n",
       "\t\t<dd><ol class=list-inline>\n",
       "\t<li>0.123</li>\n",
       "\t<li>0.937</li>\n",
       "\t<li>0.153</li>\n",
       "\t<li>0.877</li>\n",
       "</ol>\n",
       "</dd>\n",
       "\t<dt>$ps</dt>\n",
       "\t\t<dd>12</dd>\n",
       "\t<dt>$pty</dt>\n",
       "\t\t<dd>'m'</dd>\n",
       "\t<dt>$smo</dt>\n",
       "\t\t<dd>1</dd>\n",
       "\t<dt>$srt</dt>\n",
       "\t\t<dd>0</dd>\n",
       "\t<dt>$tck</dt>\n",
       "\t\t<dd>&lt;NA&gt;</dd>\n",
       "\t<dt>$tcl</dt>\n",
       "\t\t<dd>-0.5</dd>\n",
       "\t<dt>$usr</dt>\n",
       "\t\t<dd><ol class=list-inline>\n",
       "\t<li>0</li>\n",
       "\t<li>1</li>\n",
       "\t<li>0</li>\n",
       "\t<li>1</li>\n",
       "</ol>\n",
       "</dd>\n",
       "\t<dt>$xaxp</dt>\n",
       "\t\t<dd><ol class=list-inline>\n",
       "\t<li>0</li>\n",
       "\t<li>1</li>\n",
       "\t<li>5</li>\n",
       "</ol>\n",
       "</dd>\n",
       "\t<dt>$xaxs</dt>\n",
       "\t\t<dd>'r'</dd>\n",
       "\t<dt>$xaxt</dt>\n",
       "\t\t<dd>'s'</dd>\n",
       "\t<dt>$xpd</dt>\n",
       "\t\t<dd>FALSE</dd>\n",
       "\t<dt>$yaxp</dt>\n",
       "\t\t<dd><ol class=list-inline>\n",
       "\t<li>0</li>\n",
       "\t<li>1</li>\n",
       "\t<li>5</li>\n",
       "</ol>\n",
       "</dd>\n",
       "\t<dt>$yaxs</dt>\n",
       "\t\t<dd>'r'</dd>\n",
       "\t<dt>$yaxt</dt>\n",
       "\t\t<dd>'s'</dd>\n",
       "\t<dt>$ylbias</dt>\n",
       "\t\t<dd>0.2</dd>\n",
       "</dl>\n"
      ],
      "text/latex": [
       "\\begin{description}\n",
       "\\item[\\$xlog] FALSE\n",
       "\\item[\\$ylog] FALSE\n",
       "\\item[\\$adj] 0.5\n",
       "\\item[\\$ann] TRUE\n",
       "\\item[\\$ask] FALSE\n",
       "\\item[\\$bg] 'white'\n",
       "\\item[\\$bty] 'o'\n",
       "\\item[\\$cex] 1\n",
       "\\item[\\$cex.axis] 1\n",
       "\\item[\\$cex.lab] 1\n",
       "\\item[\\$cex.main] 1.2\n",
       "\\item[\\$cex.sub] 1\n",
       "\\item[\\$cin] \\begin{enumerate*}\n",
       "\\item 0.15\n",
       "\\item 0.2\n",
       "\\end{enumerate*}\n",
       "\n",
       "\\item[\\$col] 'black'\n",
       "\\item[\\$col.axis] 'black'\n",
       "\\item[\\$col.lab] 'black'\n",
       "\\item[\\$col.main] 'black'\n",
       "\\item[\\$col.sub] 'black'\n",
       "\\item[\\$cra] \\begin{enumerate*}\n",
       "\\item 10.8\n",
       "\\item 14.4\n",
       "\\end{enumerate*}\n",
       "\n",
       "\\item[\\$crt] 0\n",
       "\\item[\\$csi] 0.2\n",
       "\\item[\\$cxy] \\begin{enumerate*}\n",
       "\\item 0.0276412776412776\n",
       "\\item 0.0414364640883978\n",
       "\\end{enumerate*}\n",
       "\n",
       "\\item[\\$din] \\begin{enumerate*}\n",
       "\\item 6.66666666666667\n",
       "\\item 6.66666666666667\n",
       "\\end{enumerate*}\n",
       "\n",
       "\\item[\\$err] 0\n",
       "\\item[\\$family] ''\n",
       "\\item[\\$fg] 'black'\n",
       "\\item[\\$fig] \\begin{enumerate*}\n",
       "\\item 0\n",
       "\\item 1\n",
       "\\item 0\n",
       "\\item 1\n",
       "\\end{enumerate*}\n",
       "\n",
       "\\item[\\$fin] \\begin{enumerate*}\n",
       "\\item 6.66666666666667\n",
       "\\item 6.66666666666667\n",
       "\\end{enumerate*}\n",
       "\n",
       "\\item[\\$font] 1\n",
       "\\item[\\$font.axis] 1\n",
       "\\item[\\$font.lab] 1\n",
       "\\item[\\$font.main] 2\n",
       "\\item[\\$font.sub] 1\n",
       "\\item[\\$lab] \\begin{enumerate*}\n",
       "\\item 5\n",
       "\\item 5\n",
       "\\item 7\n",
       "\\end{enumerate*}\n",
       "\n",
       "\\item[\\$las] 0\n",
       "\\item[\\$lend] 'round'\n",
       "\\item[\\$lheight] 1\n",
       "\\item[\\$ljoin] 'round'\n",
       "\\item[\\$lmitre] 10\n",
       "\\item[\\$lty] 'solid'\n",
       "\\item[\\$lwd] 1\n",
       "\\item[\\$mai] \\begin{enumerate*}\n",
       "\\item 1.02\n",
       "\\item 0.82\n",
       "\\item 0.82\n",
       "\\item 0.42\n",
       "\\end{enumerate*}\n",
       "\n",
       "\\item[\\$mar] \\begin{enumerate*}\n",
       "\\item 5.1\n",
       "\\item 4.1\n",
       "\\item 4.1\n",
       "\\item 2.1\n",
       "\\end{enumerate*}\n",
       "\n",
       "\\item[\\$mex] 1\n",
       "\\item[\\$mfcol] \\begin{enumerate*}\n",
       "\\item 1\n",
       "\\item 1\n",
       "\\end{enumerate*}\n",
       "\n",
       "\\item[\\$mfg] \\begin{enumerate*}\n",
       "\\item 1\n",
       "\\item 1\n",
       "\\item 1\n",
       "\\item 1\n",
       "\\end{enumerate*}\n",
       "\n",
       "\\item[\\$mfrow] \\begin{enumerate*}\n",
       "\\item 1\n",
       "\\item 1\n",
       "\\end{enumerate*}\n",
       "\n",
       "\\item[\\$mgp] \\begin{enumerate*}\n",
       "\\item 3\n",
       "\\item 1\n",
       "\\item 0\n",
       "\\end{enumerate*}\n",
       "\n",
       "\\item[\\$mkh] 0.001\n",
       "\\item[\\$new] FALSE\n",
       "\\item[\\$oma] \\begin{enumerate*}\n",
       "\\item 0\n",
       "\\item 0\n",
       "\\item 0\n",
       "\\item 0\n",
       "\\end{enumerate*}\n",
       "\n",
       "\\item[\\$omd] \\begin{enumerate*}\n",
       "\\item 0\n",
       "\\item 1\n",
       "\\item 0\n",
       "\\item 1\n",
       "\\end{enumerate*}\n",
       "\n",
       "\\item[\\$omi] \\begin{enumerate*}\n",
       "\\item 0\n",
       "\\item 0\n",
       "\\item 0\n",
       "\\item 0\n",
       "\\end{enumerate*}\n",
       "\n",
       "\\item[\\$page] TRUE\n",
       "\\item[\\$pch] 1\n",
       "\\item[\\$pin] \\begin{enumerate*}\n",
       "\\item 5.42666666666667\n",
       "\\item 4.82666666666667\n",
       "\\end{enumerate*}\n",
       "\n",
       "\\item[\\$plt] \\begin{enumerate*}\n",
       "\\item 0.123\n",
       "\\item 0.937\n",
       "\\item 0.153\n",
       "\\item 0.877\n",
       "\\end{enumerate*}\n",
       "\n",
       "\\item[\\$ps] 12\n",
       "\\item[\\$pty] 'm'\n",
       "\\item[\\$smo] 1\n",
       "\\item[\\$srt] 0\n",
       "\\item[\\$tck] <NA>\n",
       "\\item[\\$tcl] -0.5\n",
       "\\item[\\$usr] \\begin{enumerate*}\n",
       "\\item 0\n",
       "\\item 1\n",
       "\\item 0\n",
       "\\item 1\n",
       "\\end{enumerate*}\n",
       "\n",
       "\\item[\\$xaxp] \\begin{enumerate*}\n",
       "\\item 0\n",
       "\\item 1\n",
       "\\item 5\n",
       "\\end{enumerate*}\n",
       "\n",
       "\\item[\\$xaxs] 'r'\n",
       "\\item[\\$xaxt] 's'\n",
       "\\item[\\$xpd] FALSE\n",
       "\\item[\\$yaxp] \\begin{enumerate*}\n",
       "\\item 0\n",
       "\\item 1\n",
       "\\item 5\n",
       "\\end{enumerate*}\n",
       "\n",
       "\\item[\\$yaxs] 'r'\n",
       "\\item[\\$yaxt] 's'\n",
       "\\item[\\$ylbias] 0.2\n",
       "\\end{description}\n"
      ],
      "text/markdown": [
       "$xlog\n",
       ":   FALSE\n",
       "$ylog\n",
       ":   FALSE\n",
       "$adj\n",
       ":   0.5\n",
       "$ann\n",
       ":   TRUE\n",
       "$ask\n",
       ":   FALSE\n",
       "$bg\n",
       ":   'white'\n",
       "$bty\n",
       ":   'o'\n",
       "$cex\n",
       ":   1\n",
       "$cex.axis\n",
       ":   1\n",
       "$cex.lab\n",
       ":   1\n",
       "$cex.main\n",
       ":   1.2\n",
       "$cex.sub\n",
       ":   1\n",
       "$cin\n",
       ":   1. 0.15\n",
       "2. 0.2\n",
       "\n",
       "\n",
       "\n",
       "$col\n",
       ":   'black'\n",
       "$col.axis\n",
       ":   'black'\n",
       "$col.lab\n",
       ":   'black'\n",
       "$col.main\n",
       ":   'black'\n",
       "$col.sub\n",
       ":   'black'\n",
       "$cra\n",
       ":   1. 10.8\n",
       "2. 14.4\n",
       "\n",
       "\n",
       "\n",
       "$crt\n",
       ":   0\n",
       "$csi\n",
       ":   0.2\n",
       "$cxy\n",
       ":   1. 0.0276412776412776\n",
       "2. 0.0414364640883978\n",
       "\n",
       "\n",
       "\n",
       "$din\n",
       ":   1. 6.66666666666667\n",
       "2. 6.66666666666667\n",
       "\n",
       "\n",
       "\n",
       "$err\n",
       ":   0\n",
       "$family\n",
       ":   ''\n",
       "$fg\n",
       ":   'black'\n",
       "$fig\n",
       ":   1. 0\n",
       "2. 1\n",
       "3. 0\n",
       "4. 1\n",
       "\n",
       "\n",
       "\n",
       "$fin\n",
       ":   1. 6.66666666666667\n",
       "2. 6.66666666666667\n",
       "\n",
       "\n",
       "\n",
       "$font\n",
       ":   1\n",
       "$font.axis\n",
       ":   1\n",
       "$font.lab\n",
       ":   1\n",
       "$font.main\n",
       ":   2\n",
       "$font.sub\n",
       ":   1\n",
       "$lab\n",
       ":   1. 5\n",
       "2. 5\n",
       "3. 7\n",
       "\n",
       "\n",
       "\n",
       "$las\n",
       ":   0\n",
       "$lend\n",
       ":   'round'\n",
       "$lheight\n",
       ":   1\n",
       "$ljoin\n",
       ":   'round'\n",
       "$lmitre\n",
       ":   10\n",
       "$lty\n",
       ":   'solid'\n",
       "$lwd\n",
       ":   1\n",
       "$mai\n",
       ":   1. 1.02\n",
       "2. 0.82\n",
       "3. 0.82\n",
       "4. 0.42\n",
       "\n",
       "\n",
       "\n",
       "$mar\n",
       ":   1. 5.1\n",
       "2. 4.1\n",
       "3. 4.1\n",
       "4. 2.1\n",
       "\n",
       "\n",
       "\n",
       "$mex\n",
       ":   1\n",
       "$mfcol\n",
       ":   1. 1\n",
       "2. 1\n",
       "\n",
       "\n",
       "\n",
       "$mfg\n",
       ":   1. 1\n",
       "2. 1\n",
       "3. 1\n",
       "4. 1\n",
       "\n",
       "\n",
       "\n",
       "$mfrow\n",
       ":   1. 1\n",
       "2. 1\n",
       "\n",
       "\n",
       "\n",
       "$mgp\n",
       ":   1. 3\n",
       "2. 1\n",
       "3. 0\n",
       "\n",
       "\n",
       "\n",
       "$mkh\n",
       ":   0.001\n",
       "$new\n",
       ":   FALSE\n",
       "$oma\n",
       ":   1. 0\n",
       "2. 0\n",
       "3. 0\n",
       "4. 0\n",
       "\n",
       "\n",
       "\n",
       "$omd\n",
       ":   1. 0\n",
       "2. 1\n",
       "3. 0\n",
       "4. 1\n",
       "\n",
       "\n",
       "\n",
       "$omi\n",
       ":   1. 0\n",
       "2. 0\n",
       "3. 0\n",
       "4. 0\n",
       "\n",
       "\n",
       "\n",
       "$page\n",
       ":   TRUE\n",
       "$pch\n",
       ":   1\n",
       "$pin\n",
       ":   1. 5.42666666666667\n",
       "2. 4.82666666666667\n",
       "\n",
       "\n",
       "\n",
       "$plt\n",
       ":   1. 0.123\n",
       "2. 0.937\n",
       "3. 0.153\n",
       "4. 0.877\n",
       "\n",
       "\n",
       "\n",
       "$ps\n",
       ":   12\n",
       "$pty\n",
       ":   'm'\n",
       "$smo\n",
       ":   1\n",
       "$srt\n",
       ":   0\n",
       "$tck\n",
       ":   &lt;NA&gt;\n",
       "$tcl\n",
       ":   -0.5\n",
       "$usr\n",
       ":   1. 0\n",
       "2. 1\n",
       "3. 0\n",
       "4. 1\n",
       "\n",
       "\n",
       "\n",
       "$xaxp\n",
       ":   1. 0\n",
       "2. 1\n",
       "3. 5\n",
       "\n",
       "\n",
       "\n",
       "$xaxs\n",
       ":   'r'\n",
       "$xaxt\n",
       ":   's'\n",
       "$xpd\n",
       ":   FALSE\n",
       "$yaxp\n",
       ":   1. 0\n",
       "2. 1\n",
       "3. 5\n",
       "\n",
       "\n",
       "\n",
       "$yaxs\n",
       ":   'r'\n",
       "$yaxt\n",
       ":   's'\n",
       "$ylbias\n",
       ":   0.2\n",
       "\n",
       "\n"
      ],
      "text/plain": [
       "$xlog\n",
       "[1] FALSE\n",
       "\n",
       "$ylog\n",
       "[1] FALSE\n",
       "\n",
       "$adj\n",
       "[1] 0.5\n",
       "\n",
       "$ann\n",
       "[1] TRUE\n",
       "\n",
       "$ask\n",
       "[1] FALSE\n",
       "\n",
       "$bg\n",
       "[1] \"white\"\n",
       "\n",
       "$bty\n",
       "[1] \"o\"\n",
       "\n",
       "$cex\n",
       "[1] 1\n",
       "\n",
       "$cex.axis\n",
       "[1] 1\n",
       "\n",
       "$cex.lab\n",
       "[1] 1\n",
       "\n",
       "$cex.main\n",
       "[1] 1.2\n",
       "\n",
       "$cex.sub\n",
       "[1] 1\n",
       "\n",
       "$cin\n",
       "[1] 0.15 0.20\n",
       "\n",
       "$col\n",
       "[1] \"black\"\n",
       "\n",
       "$col.axis\n",
       "[1] \"black\"\n",
       "\n",
       "$col.lab\n",
       "[1] \"black\"\n",
       "\n",
       "$col.main\n",
       "[1] \"black\"\n",
       "\n",
       "$col.sub\n",
       "[1] \"black\"\n",
       "\n",
       "$cra\n",
       "[1] 10.8 14.4\n",
       "\n",
       "$crt\n",
       "[1] 0\n",
       "\n",
       "$csi\n",
       "[1] 0.2\n",
       "\n",
       "$cxy\n",
       "[1] 0.02764128 0.04143646\n",
       "\n",
       "$din\n",
       "[1] 6.666667 6.666667\n",
       "\n",
       "$err\n",
       "[1] 0\n",
       "\n",
       "$family\n",
       "[1] \"\"\n",
       "\n",
       "$fg\n",
       "[1] \"black\"\n",
       "\n",
       "$fig\n",
       "[1] 0 1 0 1\n",
       "\n",
       "$fin\n",
       "[1] 6.666667 6.666667\n",
       "\n",
       "$font\n",
       "[1] 1\n",
       "\n",
       "$font.axis\n",
       "[1] 1\n",
       "\n",
       "$font.lab\n",
       "[1] 1\n",
       "\n",
       "$font.main\n",
       "[1] 2\n",
       "\n",
       "$font.sub\n",
       "[1] 1\n",
       "\n",
       "$lab\n",
       "[1] 5 5 7\n",
       "\n",
       "$las\n",
       "[1] 0\n",
       "\n",
       "$lend\n",
       "[1] \"round\"\n",
       "\n",
       "$lheight\n",
       "[1] 1\n",
       "\n",
       "$ljoin\n",
       "[1] \"round\"\n",
       "\n",
       "$lmitre\n",
       "[1] 10\n",
       "\n",
       "$lty\n",
       "[1] \"solid\"\n",
       "\n",
       "$lwd\n",
       "[1] 1\n",
       "\n",
       "$mai\n",
       "[1] 1.02 0.82 0.82 0.42\n",
       "\n",
       "$mar\n",
       "[1] 5.1 4.1 4.1 2.1\n",
       "\n",
       "$mex\n",
       "[1] 1\n",
       "\n",
       "$mfcol\n",
       "[1] 1 1\n",
       "\n",
       "$mfg\n",
       "[1] 1 1 1 1\n",
       "\n",
       "$mfrow\n",
       "[1] 1 1\n",
       "\n",
       "$mgp\n",
       "[1] 3 1 0\n",
       "\n",
       "$mkh\n",
       "[1] 0.001\n",
       "\n",
       "$new\n",
       "[1] FALSE\n",
       "\n",
       "$oma\n",
       "[1] 0 0 0 0\n",
       "\n",
       "$omd\n",
       "[1] 0 1 0 1\n",
       "\n",
       "$omi\n",
       "[1] 0 0 0 0\n",
       "\n",
       "$page\n",
       "[1] TRUE\n",
       "\n",
       "$pch\n",
       "[1] 1\n",
       "\n",
       "$pin\n",
       "[1] 5.426667 4.826667\n",
       "\n",
       "$plt\n",
       "[1] 0.123 0.937 0.153 0.877\n",
       "\n",
       "$ps\n",
       "[1] 12\n",
       "\n",
       "$pty\n",
       "[1] \"m\"\n",
       "\n",
       "$smo\n",
       "[1] 1\n",
       "\n",
       "$srt\n",
       "[1] 0\n",
       "\n",
       "$tck\n",
       "[1] NA\n",
       "\n",
       "$tcl\n",
       "[1] -0.5\n",
       "\n",
       "$usr\n",
       "[1] 0 1 0 1\n",
       "\n",
       "$xaxp\n",
       "[1] 0 1 5\n",
       "\n",
       "$xaxs\n",
       "[1] \"r\"\n",
       "\n",
       "$xaxt\n",
       "[1] \"s\"\n",
       "\n",
       "$xpd\n",
       "[1] FALSE\n",
       "\n",
       "$yaxp\n",
       "[1] 0 1 5\n",
       "\n",
       "$yaxs\n",
       "[1] \"r\"\n",
       "\n",
       "$yaxt\n",
       "[1] \"s\"\n",
       "\n",
       "$ylbias\n",
       "[1] 0.2\n"
      ]
     },
     "metadata": {},
     "output_type": "display_data"
    }
   ],
   "source": [
    "par()"
   ]
  },
  {
   "cell_type": "markdown",
   "metadata": {},
   "source": [
    "If you want to customize these defaults values you have override them. However, please remember to keep the old version of them and revert the changes after you plot something."
   ]
  },
  {
   "cell_type": "code",
   "execution_count": 36,
   "metadata": {},
   "outputs": [
    {
     "data": {
      "text/html": [
       "'white'"
      ],
      "text/latex": [
       "'white'"
      ],
      "text/markdown": [
       "'white'"
      ],
      "text/plain": [
       "[1] \"white\""
      ]
     },
     "metadata": {},
     "output_type": "display_data"
    },
    {
     "data": {
      "text/html": [
       "'black'"
      ],
      "text/latex": [
       "'black'"
      ],
      "text/markdown": [
       "'black'"
      ],
      "text/plain": [
       "[1] \"black\""
      ]
     },
     "metadata": {},
     "output_type": "display_data"
    },
    {
     "data": {
      "text/html": [
       "'white'"
      ],
      "text/latex": [
       "'white'"
      ],
      "text/markdown": [
       "'white'"
      ],
      "text/plain": [
       "[1] \"white\""
      ]
     },
     "metadata": {},
     "output_type": "display_data"
    }
   ],
   "source": [
    "par(\"bg\")\n",
    "\n",
    "old_par <- par(bg=\"black\")\n",
    "\n",
    "# ...  plot\n",
    "par(\"bg\")\n",
    "\n",
    "\n",
    "par(old_par)\n",
    "par(\"bg\")"
   ]
  },
  {
   "cell_type": "markdown",
   "metadata": {},
   "source": [
    "A few useful settings:"
   ]
  },
  {
   "cell_type": "code",
   "execution_count": null,
   "metadata": {},
   "outputs": [],
   "source": [
    "# margins - either mar (inches) or mai (lines).\n",
    "# mfrow - if you want to plot with subplots, e.g., \n",
    "# cex - font size"
   ]
  },
  {
   "cell_type": "markdown",
   "metadata": {},
   "source": [
    "### Bar plots"
   ]
  },
  {
   "cell_type": "code",
   "execution_count": 39,
   "metadata": {
    "scrolled": true
   },
   "outputs": [
    {
     "data": {
      "image/png": "[encoded data removed]",
      "text/plain": [
       "Plot with title “Quality of classes”"
      ]
     },
     "metadata": {},
     "output_type": "display_data"
    }
   ],
   "source": [
    "code_quality_table <- table(code_data$CodeQuality)\n",
    "\n",
    "old_par <- par(mfrow=c(1,1), mai=c(1, 1, 1, 1))\n",
    "barplot(code_quality_table,\n",
    "        main=\"Quality of classes\",\n",
    "        xlab=\"Quality level\",\n",
    "        ylab=\"Frequency\")\n",
    "par(old_par)\n"
   ]
  },
  {
   "cell_type": "code",
   "execution_count": 23,
   "metadata": {},
   "outputs": [
    {
     "data": {
      "image/png": "[encoded data removed]",
      "text/plain": [
       "Plot with title “Quality of classes in packages”"
      ]
     },
     "metadata": {},
     "output_type": "display_data"
    }
   ],
   "source": [
    "code_quality_package <- table(code_data$CodeQuality, code_data$Package)\n",
    "\n",
    "barplot(code_quality_package,\n",
    "        main=\"Quality of classes in packages\",\n",
    "        xlab=\"Package\", ylab=\"Frequency\", \n",
    "        col=c(\"red\", \"yellow\",\"green\"),\n",
    "        legend=rownames(code_quality_package))\n"
   ]
  },
  {
   "cell_type": "markdown",
   "metadata": {},
   "source": [
    "### Pie plots"
   ]
  },
  {
   "cell_type": "code",
   "execution_count": 24,
   "metadata": {},
   "outputs": [
    {
     "data": {
      "image/png": "[encoded data removed]",
      "text/plain": [
       "Plot with title “Quality of classes”"
      ]
     },
     "metadata": {},
     "output_type": "display_data"
    }
   ],
   "source": [
    "code_quality_table <- table(code_data$CodeQuality)\n",
    "pie(code_quality_table,\n",
    "        main=\"Quality of classes\")\n"
   ]
  },
  {
   "cell_type": "markdown",
   "metadata": {},
   "source": [
    "### Histograms"
   ]
  },
  {
   "cell_type": "code",
   "execution_count": 30,
   "metadata": {
    "scrolled": false
   },
   "outputs": [
    {
     "data": {
      "image/png": "[encoded data removed]",
      "text/plain": [
       "Plot with title “Histogram of LOC of class”"
      ]
     },
     "metadata": {},
     "output_type": "display_data"
    }
   ],
   "source": [
    "hist(code_data$LOC, \n",
    "    main=\"Histogram of LOC of class\", \n",
    "    xlab=\"LOC\",\n",
    "    breaks=3, col=\"red\")\n"
   ]
  },
  {
   "cell_type": "markdown",
   "metadata": {},
   "source": [
    "### Boxplots"
   ]
  },
  {
   "cell_type": "code",
   "execution_count": 26,
   "metadata": {},
   "outputs": [
    {
     "data": {
      "image/png": "[encoded data removed]",
      "text/plain": [
       "Plot with title “Boxplot of LOC of class”"
      ]
     },
     "metadata": {},
     "output_type": "display_data"
    }
   ],
   "source": [
    "boxplot(code_data$LOC, \n",
    "     main=\"Boxplot of LOC of class\", \n",
    "     xlab=\"LOC\", horizontal=TRUE)\n"
   ]
  },
  {
   "cell_type": "markdown",
   "metadata": {},
   "source": [
    "### Scatter plots"
   ]
  },
  {
   "cell_type": "code",
   "execution_count": 27,
   "metadata": {},
   "outputs": [
    {
     "data": {
      "image/png": "[encoded data removed]",
      "text/plain": [
       "Plot with title “Histogram of LOC of class”"
      ]
     },
     "metadata": {},
     "output_type": "display_data"
    }
   ],
   "source": [
    "plot(code_data$LOC, code_data$NoBugs, \n",
    "     main=\"Histogram of LOC of class\", \n",
    "     xlab=\"LOC\", ylab=\"Bugs\")\n"
   ]
  }
 ],
 "metadata": {
  "kernelspec": {
   "display_name": "R",
   "language": "R",
   "name": "ir"
  },
  "language_info": {
   "codemirror_mode": "r",
   "file_extension": ".r",
   "mimetype": "text/x-r-source",
   "name": "R",
   "pygments_lexer": "r",
   "version": "3.6.1"
  },
  "toc": {
   "base_numbering": 1,
   "nav_menu": {},
   "number_sections": true,
   "sideBar": true,
   "skip_h1_title": true,
   "title_cell": "Table of Contents",
   "title_sidebar": "Contents",
   "toc_cell": false,
   "toc_position": {},
   "toc_section_display": true,
   "toc_window_display": false
  },
  "varInspector": {
   "cols": {
    "lenName": 16,
    "lenType": 16,
    "lenVar": 40
   },
   "kernels_config": {
    "python": {
     "delete_cmd_postfix": "",
     "delete_cmd_prefix": "del ",
     "library": "var_list.py",
     "varRefreshCmd": "print(var_dic_list())"
    },
    "r": {
     "delete_cmd_postfix": ") ",
     "delete_cmd_prefix": "rm(",
     "library": "var_list.r",
     "varRefreshCmd": "cat(var_dic_list()) "
    }
   },
   "types_to_exclude": [
    "module",
    "function",
    "builtin_function_or_method",
    "instance",
    "_Feature"
   ],
   "window_display": false
  }
 },
 "nbformat": 4,
 "nbformat_minor": 2
}
