{
 "cells": [
  {
   "cell_type": "markdown",
   "metadata": {},
   "source": [
    "# PART 05 - Basic statistics and plots\n",
    "\n",
    "In this part, you will learn:\n",
    "* How to calculate basic statistics?\n",
    "* How to plot basic plots?\n"
   ]
  },
  {
   "cell_type": "code",
   "execution_count": 1,
   "metadata": {},
   "outputs": [
    {
     "name": "stderr",
     "output_type": "stream",
     "text": [
      "Loading required package: dplyr\n",
      "\n",
      "Attaching package: ‘dplyr’\n",
      "\n",
      "The following objects are masked from ‘package:stats’:\n",
      "\n",
      "    filter, lag\n",
      "\n",
      "The following objects are masked from ‘package:base’:\n",
      "\n",
      "    intersect, setdiff, setequal, union\n",
      "\n"
     ]
    },
    {
     "data": {
      "text/html": [
       "<table>\n",
       "<thead><tr><th scope=col>Package</th><th scope=col>Class</th><th scope=col>LOC</th><th scope=col>CodeQuality</th><th scope=col>NoBugs</th></tr></thead>\n",
       "<tbody>\n",
       "\t<tr><td>pl.put.qmese         </td><td>Handler              </td><td> 23                  </td><td>medium               </td><td>3                    </td></tr>\n",
       "\t<tr><td>pl.put.qmese         </td><td>Exception            </td><td> 10                  </td><td>medium               </td><td>2                    </td></tr>\n",
       "\t<tr><td>pl.put.qmese         </td><td>Plugin               </td><td>124                  </td><td>high                 </td><td>5                    </td></tr>\n",
       "\t<tr><td>pl.put.qmese.internal</td><td>Input                </td><td>224                  </td><td>low                  </td><td>8                    </td></tr>\n",
       "\t<tr><td>pl.put.qmese         </td><td>Info                 </td><td>111                  </td><td>high                 </td><td>5                    </td></tr>\n",
       "\t<tr><td>pl.put.qmese         </td><td>Log                  </td><td> 23                  </td><td>medium               </td><td>3                    </td></tr>\n",
       "\t<tr><td>pl.put.qmese.internal</td><td>Error                </td><td> 10                  </td><td>low                  </td><td>1                    </td></tr>\n",
       "\t<tr><td>pl.put.qmese.data    </td><td>Experiment           </td><td>125                  </td><td>high                 </td><td>5                    </td></tr>\n",
       "\t<tr><td>pl.put.qmese.data    </td><td>CaseStudy            </td><td>150                  </td><td>low                  </td><td>6                    </td></tr>\n",
       "\t<tr><td>pl.put.qmese.data    </td><td>Survey               </td><td>111                  </td><td>high                 </td><td>5                    </td></tr>\n",
       "</tbody>\n",
       "</table>\n"
      ],
      "text/latex": [
       "\\begin{tabular}{r|lllll}\n",
       " Package & Class & LOC & CodeQuality & NoBugs\\\\\n",
       "\\hline\n",
       "\t pl.put.qmese          & Handler               &  23                   & medium                & 3                    \\\\\n",
       "\t pl.put.qmese          & Exception             &  10                   & medium                & 2                    \\\\\n",
       "\t pl.put.qmese          & Plugin                & 124                   & high                  & 5                    \\\\\n",
       "\t pl.put.qmese.internal & Input                 & 224                   & low                   & 8                    \\\\\n",
       "\t pl.put.qmese          & Info                  & 111                   & high                  & 5                    \\\\\n",
       "\t pl.put.qmese          & Log                   &  23                   & medium                & 3                    \\\\\n",
       "\t pl.put.qmese.internal & Error                 &  10                   & low                   & 1                    \\\\\n",
       "\t pl.put.qmese.data     & Experiment            & 125                   & high                  & 5                    \\\\\n",
       "\t pl.put.qmese.data     & CaseStudy             & 150                   & low                   & 6                    \\\\\n",
       "\t pl.put.qmese.data     & Survey                & 111                   & high                  & 5                    \\\\\n",
       "\\end{tabular}\n"
      ],
      "text/markdown": [
       "\n",
       "| Package | Class | LOC | CodeQuality | NoBugs |\n",
       "|---|---|---|---|---|\n",
       "| pl.put.qmese          | Handler               |  23                   | medium                | 3                     |\n",
       "| pl.put.qmese          | Exception             |  10                   | medium                | 2                     |\n",
       "| pl.put.qmese          | Plugin                | 124                   | high                  | 5                     |\n",
       "| pl.put.qmese.internal | Input                 | 224                   | low                   | 8                     |\n",
       "| pl.put.qmese          | Info                  | 111                   | high                  | 5                     |\n",
       "| pl.put.qmese          | Log                   |  23                   | medium                | 3                     |\n",
       "| pl.put.qmese.internal | Error                 |  10                   | low                   | 1                     |\n",
       "| pl.put.qmese.data     | Experiment            | 125                   | high                  | 5                     |\n",
       "| pl.put.qmese.data     | CaseStudy             | 150                   | low                   | 6                     |\n",
       "| pl.put.qmese.data     | Survey                | 111                   | high                  | 5                     |\n",
       "\n"
      ],
      "text/plain": [
       "   Package               Class      LOC CodeQuality NoBugs\n",
       "1  pl.put.qmese          Handler     23 medium      3     \n",
       "2  pl.put.qmese          Exception   10 medium      2     \n",
       "3  pl.put.qmese          Plugin     124 high        5     \n",
       "4  pl.put.qmese.internal Input      224 low         8     \n",
       "5  pl.put.qmese          Info       111 high        5     \n",
       "6  pl.put.qmese          Log         23 medium      3     \n",
       "7  pl.put.qmese.internal Error       10 low         1     \n",
       "8  pl.put.qmese.data     Experiment 125 high        5     \n",
       "9  pl.put.qmese.data     CaseStudy  150 low         6     \n",
       "10 pl.put.qmese.data     Survey     111 high        5     "
      ]
     },
     "metadata": {},
     "output_type": "display_data"
    }
   ],
   "source": [
    "code_data <- read.table(\"example.csv\", header=TRUE, sep=\";\")\n",
    "require(dplyr)\n",
    "code_data"
   ]
  },
  {
   "cell_type": "markdown",
   "metadata": {},
   "source": [
    "## Basic statistics\n",
    "\n",
    "- mean, median, sd (apply on column)\n",
    "    - What’s the mean LOC,\n",
    "    - what’s the median bugs, \n",
    "    - what’s sd?\n",
    "- Summary function\n",
    "- Frequency\n",
    "    - table – n-way contingency table\n",
    "    - table(code_data)\n",
    "    - table(code_data$CodeQuality)"
   ]
  },
  {
   "cell_type": "markdown",
   "metadata": {},
   "source": [
    "### Contingency tables"
   ]
  },
  {
   "cell_type": "code",
   "execution_count": null,
   "metadata": {},
   "outputs": [],
   "source": [
    "table(code_data$Package)"
   ]
  },
  {
   "cell_type": "code",
   "execution_count": null,
   "metadata": {},
   "outputs": [],
   "source": [
    "table(code_data$Package, code_data$CodeQuality)"
   ]
  },
  {
   "cell_type": "markdown",
   "metadata": {},
   "source": [
    "### Correlations\n"
   ]
  },
  {
   "cell_type": "code",
   "execution_count": null,
   "metadata": {},
   "outputs": [],
   "source": [
    "cor(code_data[,c(\"LOC\",\"NoBugs\")], method=\"pearson\")"
   ]
  },
  {
   "cell_type": "code",
   "execution_count": null,
   "metadata": {},
   "outputs": [],
   "source": [
    "cor.test(code_data[,\"LOC\"], code_data[,\"NoBugs\"], method=\"pearson\")"
   ]
  },
  {
   "cell_type": "code",
   "execution_count": null,
   "metadata": {},
   "outputs": [],
   "source": [
    "cor(code_data[,c(\"LOC\",\"NoBugs\")], method=\"spearman\")"
   ]
  },
  {
   "cell_type": "code",
   "execution_count": null,
   "metadata": {},
   "outputs": [],
   "source": [
    "cor.test(code_data[,\"LOC\"], code_data[,\"NoBugs\"], method=\"spearman\")"
   ]
  },
  {
   "cell_type": "code",
   "execution_count": null,
   "metadata": {},
   "outputs": [],
   "source": [
    "cor(code_data[,c(\"LOC\",\"NoBugs\")], method=\"kendall\")"
   ]
  },
  {
   "cell_type": "code",
   "execution_count": null,
   "metadata": {},
   "outputs": [],
   "source": [
    "cor.test(code_data[,\"LOC\"], code_data[,\"NoBugs\"], method=\"kendall\")"
   ]
  },
  {
   "cell_type": "markdown",
   "metadata": {},
   "source": [
    "## Statistical inference testing\n",
    "\n",
    "t-test to compare mean sizes of classes between two packages"
   ]
  },
  {
   "cell_type": "code",
   "execution_count": null,
   "metadata": {},
   "outputs": [],
   "source": [
    "x <- code_data %>% filter(Package==\"pl.put.qmese\") %>% select(LOC)\n",
    "y <- code_data %>% filter(Package==\"pl.put.qmese.internal\") %>% select(LOC)\n",
    "x\n",
    "y\n"
   ]
  },
  {
   "cell_type": "code",
   "execution_count": null,
   "metadata": {},
   "outputs": [],
   "source": [
    "t.test(x,y, alternative = c(\"two.sided\"), paired = FALSE, conf.level = 0.95)"
   ]
  },
  {
   "cell_type": "markdown",
   "metadata": {},
   "source": [
    "## Basic plots"
   ]
  },
  {
   "cell_type": "markdown",
   "metadata": {},
   "source": [
    "There is a function par() that controls most of the plotting parameters."
   ]
  },
  {
   "cell_type": "code",
   "execution_count": null,
   "metadata": {},
   "outputs": [],
   "source": [
    "par()"
   ]
  },
  {
   "cell_type": "markdown",
   "metadata": {},
   "source": [
    "If you want to customize these defaults values you have override them. However, please remember to keep the old version of them and revert the changes after you plot something."
   ]
  },
  {
   "cell_type": "code",
   "execution_count": null,
   "metadata": {},
   "outputs": [],
   "source": [
    "par(\"bg\")\n",
    "\n",
    "old_par <- par(bg=\"black\")\n",
    "\n",
    "# ...  plot\n",
    "par(\"bg\")\n",
    "\n",
    "\n",
    "par(old_par)\n",
    "par(\"bg\")"
   ]
  },
  {
   "cell_type": "markdown",
   "metadata": {},
   "source": [
    "A few useful settings:"
   ]
  },
  {
   "cell_type": "code",
   "execution_count": null,
   "metadata": {},
   "outputs": [],
   "source": [
    "# margins - either mar (lines) or mai (inches).\n",
    "# mfrow - if you want to plot with subplots, e.g., \n",
    "# cex - font size"
   ]
  },
  {
   "cell_type": "markdown",
   "metadata": {},
   "source": [
    "### Bar plots"
   ]
  },
  {
   "cell_type": "code",
   "execution_count": 14,
   "metadata": {
    "scrolled": true
   },
   "outputs": [
    {
     "data": {
      "image/png": "[encoded data removed]",
      "text/plain": [
       "Plot with title “Quality of classes”"
      ]
     },
     "metadata": {},
     "output_type": "display_data"
    }
   ],
   "source": [
    "code_quality_table <- table(code_data$CodeQuality)\n",
    "\n",
    "options(repr.plot.width=3, repr.plot.height=2)\n",
    "old_par <- par(mfrow=c(1,1), mar=c(3, 3, 2, 1), cex=0.7, omi=c(0,0,0,0), mgp=c(2, 1, 0))\n",
    "barplot(code_quality_table,\n",
    "        main=\"Quality of classes\",\n",
    "        xlab=\"Quality level\",\n",
    "        ylab=\"Frequency\",\n",
    "        col=\"#e37222\")\n",
    "par(old_par)\n"
   ]
  },
  {
   "cell_type": "code",
   "execution_count": null,
   "metadata": {},
   "outputs": [],
   "source": [
    "table(code_data$CodeQuality, code_data$Package)"
   ]
  },
  {
   "cell_type": "code",
   "execution_count": 22,
   "metadata": {},
   "outputs": [
    {
     "data": {
      "image/png": "[encoded data removed]",
      "text/plain": [
       "Plot with title “Quality of classes in packages”"
      ]
     },
     "metadata": {},
     "output_type": "display_data"
    }
   ],
   "source": [
    "code_quality_package <- table(code_data$CodeQuality, code_data$Package)\n",
    "\n",
    "options(repr.plot.width=5, repr.plot.height=5)\n",
    "old_par <- par(mfrow=c(1,1), mar=c(3, 3, 2, 0), cex=0.7, omi=c(0,0,0,0), mgp=c(2, 1, 0))\n",
    "barplot(code_quality_package,\n",
    "        main=\"Quality of classes in packages\",\n",
    "        xlab=\"Package\", ylab=\"Frequency\", \n",
    "        col=c(\"#e37222\", \"#162274\", \"#618e02\"),\n",
    "        legend=NULL)\n",
    "legend(x=c(2.5,3.3), y=c(4.5,5), legend=row.names(code_quality_package), \n",
    "       fill=c(\"#e37222\", \"#162274\", \"#618e02\"), \n",
    "       col=c(\"#e37222\", \"#162274\", \"#618e02\"), \n",
    "       bg=NA)\n",
    "par(old_par)\n"
   ]
  },
  {
   "cell_type": "markdown",
   "metadata": {},
   "source": [
    "### Pie plots"
   ]
  },
  {
   "cell_type": "code",
   "execution_count": 23,
   "metadata": {},
   "outputs": [
    {
     "data": {
      "image/png": "[encoded data removed]",
      "text/plain": [
       "Plot with title “Quality of classes”"
      ]
     },
     "metadata": {},
     "output_type": "display_data"
    }
   ],
   "source": [
    "code_quality_table <- table(code_data$CodeQuality)\n",
    "\n",
    "options(repr.plot.width=4, repr.plot.height=4)\n",
    "old_par <- par(mfrow=c(1,1), mar=c(3, 3, 2, 0), cex=0.7, omi=c(0,0,0,0), mgp=c(2, 1, 0))\n",
    "pie(code_quality_table,\n",
    "        main=\"Quality of classes\", col=c(\"#e37222\", \"#162274\", \"#618e02\"))\n",
    "par(old_par)\n"
   ]
  },
  {
   "cell_type": "markdown",
   "metadata": {},
   "source": [
    "### Histograms"
   ]
  },
  {
   "cell_type": "code",
   "execution_count": 24,
   "metadata": {
    "scrolled": false
   },
   "outputs": [
    {
     "data": {
      "image/png": "[encoded data removed]",
      "text/plain": [
       "Plot with title “Histogram of LOC of class”"
      ]
     },
     "metadata": {},
     "output_type": "display_data"
    }
   ],
   "source": [
    "options(repr.plot.width=4, repr.plot.height=3)\n",
    "old_par <- par(mfrow=c(1,1), mar=c(3, 3, 2, 0), cex=0.7, omi=c(0,0,0,0), mgp=c(2, 1, 0))\n",
    "hist(code_data$LOC, \n",
    "    main=\"Histogram of LOC of class\", \n",
    "    xlab=\"LOC\",\n",
    "    breaks=3, col=\"#e37222\")\n",
    "par(old_par)"
   ]
  },
  {
   "cell_type": "markdown",
   "metadata": {},
   "source": [
    "### Boxplots"
   ]
  },
  {
   "cell_type": "code",
   "execution_count": null,
   "metadata": {},
   "outputs": [],
   "source": [
    "options(repr.plot.width=4, repr.plot.height=3)\n",
    "old_par <- par(mfrow=c(1,1), mar=c(3, 3, 2, 0), cex=0.7, omi=c(0,0,0,0), mgp=c(2, 1, 0))\n",
    "boxplot(code_data$LOC, \n",
    "     main=\"Boxplot for LOC of class\", \n",
    "     xlab=\"LOC\", horizontal=TRUE)\n",
    "par(old_par)"
   ]
  },
  {
   "cell_type": "code",
   "execution_count": 13,
   "metadata": {},
   "outputs": [
    {
     "data": {
      "image/png": "[encoded data removed]",
      "text/plain": [
       "Plot with title “Boxplot of LOC of class”"
      ]
     },
     "metadata": {},
     "output_type": "display_data"
    }
   ],
   "source": [
    "loc_a <- (code_data %>% filter(Package==\"pl.put.qmese\"))$LOC\n",
    "loc_b <- (code_data %>% filter(Package==\"pl.put.qmese.data\"))$LOC\n",
    "loc_c <- (code_data %>% filter(Package==\"pl.put.qmese.internal\"))$LOC\n",
    "\n",
    "options(repr.plot.width=5, repr.plot.height=3)\n",
    "old_par <- par(mfrow=c(1,1), mar=c(3, 10, 2, 0), cex=0.7, omi=c(0,0,0,0), mgp=c(2, 1, 0))\n",
    "boxplot(loc_a, loc_b, loc_c, \n",
    "     main=\"Boxplot for LOC of class\", \n",
    "     xlab=\"LOC\", horizontal=TRUE,\n",
    "     names=c(\"pl.put.qmese\", \"pl.put.qmese.data\", \"pl.put.qmese.internal\"),\n",
    "    las=2)\n",
    "par(old_par)"
   ]
  },
  {
   "cell_type": "markdown",
   "metadata": {},
   "source": [
    "### Scatter plots"
   ]
  },
  {
   "cell_type": "code",
   "execution_count": 25,
   "metadata": {},
   "outputs": [
    {
     "data": {
      "image/png": "[encoded data removed]",
      "text/plain": [
       "Plot with title “Histogram of LOC of class”"
      ]
     },
     "metadata": {},
     "output_type": "display_data"
    }
   ],
   "source": [
    "options(repr.plot.width=4, repr.plot.height=4)\n",
    "old_par <- par(mfrow=c(1,1), mar=c(3, 3, 2, 0), cex=0.7, omi=c(0,0,0,0), mgp=c(2, 1, 0))\n",
    "plot(code_data$LOC, code_data$NoBugs, \n",
    "     main=\"Histogram of LOC of class\", \n",
    "     xlab=\"LOC\", ylab=\"Bugs\")\n",
    "par(old_par)"
   ]
  },
  {
   "cell_type": "markdown",
   "metadata": {},
   "source": [
    "### Saving to a file\n",
    "\n",
    "If you want to save a plot to a file, the best option is to use a PDF device to generate the plot. Here is an example."
   ]
  },
  {
   "cell_type": "code",
   "execution_count": 28,
   "metadata": {},
   "outputs": [
    {
     "data": {
      "text/html": [
       "<strong>png:</strong> 2"
      ],
      "text/latex": [
       "\\textbf{png:} 2"
      ],
      "text/markdown": [
       "**png:** 2"
      ],
      "text/plain": [
       "png \n",
       "  2 "
      ]
     },
     "metadata": {},
     "output_type": "display_data"
    }
   ],
   "source": [
    "pdf(\"./boxplot.pdf\", width=4, height=3) # KEY LINE 1\n",
    "\n",
    "old_par <- par(mfrow=c(1,1), mar=c(3, 1, 2, 1), cex=0.7, omi=c(0,0,0,0), mgp=c(2, 1, 0))\n",
    "boxplot(code_data$LOC, \n",
    "     main=\"Boxplot for LOC of class\", \n",
    "     xlab=\"LOC\", horizontal=TRUE)\n",
    "par(old_par)\n",
    "\n",
    "dev.off() # KEY LINE 2"
   ]
  },
  {
   "cell_type": "markdown",
   "metadata": {},
   "source": [
    "### What's next?"
   ]
  },
  {
   "cell_type": "markdown",
   "metadata": {},
   "source": [
    "If you want to learn how to draw beautiful plots in R, I would recommend you to read about ggplot2. At the beginning the approach to plotting it offers my look weird, but it is really powerful."
   ]
  }
 ],
 "metadata": {
  "kernelspec": {
   "display_name": "R",
   "language": "R",
   "name": "ir"
  },
  "language_info": {
   "codemirror_mode": "r",
   "file_extension": ".r",
   "mimetype": "text/x-r-source",
   "name": "R",
   "pygments_lexer": "r",
   "version": "3.6.1"
  },
  "toc": {
   "base_numbering": 1,
   "nav_menu": {},
   "number_sections": true,
   "sideBar": true,
   "skip_h1_title": true,
   "title_cell": "Table of Contents",
   "title_sidebar": "Contents",
   "toc_cell": false,
   "toc_position": {},
   "toc_section_display": true,
   "toc_window_display": false
  },
  "varInspector": {
   "cols": {
    "lenName": 16,
    "lenType": 16,
    "lenVar": 40
   },
   "kernels_config": {
    "python": {
     "delete_cmd_postfix": "",
     "delete_cmd_prefix": "del ",
     "library": "var_list.py",
     "varRefreshCmd": "print(var_dic_list())"
    },
    "r": {
     "delete_cmd_postfix": ") ",
     "delete_cmd_prefix": "rm(",
     "library": "var_list.r",
     "varRefreshCmd": "cat(var_dic_list()) "
    }
   },
   "types_to_exclude": [
    "module",
    "function",
    "builtin_function_or_method",
    "instance",
    "_Feature"
   ],
   "window_display": false
  }
 },
 "nbformat": 4,
 "nbformat_minor": 2
}
