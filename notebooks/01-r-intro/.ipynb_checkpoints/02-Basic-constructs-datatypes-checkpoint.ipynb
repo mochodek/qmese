{
 "cells": [
  {
   "attachments": {},
   "cell_type": "markdown",
   "metadata": {},
   "source": [
    "# Basic language constructs and data types\n",
    "\n",
    "In this part, you will learn:\n",
    "* Basic language constructs\n",
    "* Basic data types\n"
   ]
  },
  {
   "cell_type": "markdown",
   "metadata": {},
   "source": [
    "## Basic data types\n",
    "\n",
    "***Object** – anything that can be assigned to a variable\n",
    "- mode – how it is stored?\n",
    "- class – how to handle it?"
   ]
  },
  {
   "cell_type": "code",
   "execution_count": 3,
   "metadata": {},
   "outputs": [
    {
     "name": "stdout",
     "output_type": "stream",
     "text": [
      "[1] \"numeric\"\n",
      "[1] \"numeric\"\n"
     ]
    }
   ],
   "source": [
    "a <- 222\n",
    "print(mode(a))\n",
    "print(class(a))"
   ]
  },
  {
   "cell_type": "code",
   "execution_count": 4,
   "metadata": {},
   "outputs": [
    {
     "name": "stdout",
     "output_type": "stream",
     "text": [
      "[1] \"character\"\n",
      "[1] \"character\"\n"
     ]
    }
   ],
   "source": [
    "b <- \"Hello world\"\n",
    "print(mode(b))\n",
    "print(class(b))"
   ]
  },
  {
   "cell_type": "code",
   "execution_count": 5,
   "metadata": {},
   "outputs": [
    {
     "name": "stdout",
     "output_type": "stream",
     "text": [
      "[1] \"numeric\"\n",
      "[1] \"integer\"\n"
     ]
    }
   ],
   "source": [
    "z <- 2L\n",
    "print(mode(z))\n",
    "print(class(z))"
   ]
  },
  {
   "cell_type": "markdown",
   "metadata": {},
   "source": [
    "- Logical\n",
    "    - TRUE and FALSE (alias T and F)\n",
    "- Numeric\n",
    "    - 10.2, 5, 12\n",
    "    - is.numeric(x)\n",
    "    - as.numeric(x)\n",
    "- Integer\n",
    "    - 2L, 12L\n",
    "    - is.integer(x)\n",
    "    - as.integer(x)\n",
    "- Character\n",
    "    - ‘c’, “Poznan”, ‘22.2’\n",
    "    - is.character(x)\n",
    "    - as.character(x)"
   ]
  },
  {
   "cell_type": "code",
   "execution_count": 6,
   "metadata": {},
   "outputs": [
    {
     "data": {
      "text/html": [
       "222"
      ],
      "text/latex": [
       "222"
      ],
      "text/markdown": [
       "222"
      ],
      "text/plain": [
       "[1] 222"
      ]
     },
     "metadata": {},
     "output_type": "display_data"
    }
   ],
   "source": [
    "as.numeric(\"222\")"
   ]
  },
  {
   "cell_type": "markdown",
   "metadata": {},
   "source": [
    "- NULL \n",
    "    - is.null(x)\n",
    "- NaN (Not a number)\n",
    "    - is.nan(x), \n",
    "- Inf and –Inf\n",
    "    - is.finite(x), is.infinite(x)\n",
    "- NA – missing value\n",
    "    - is.na(x)"
   ]
  },
  {
   "cell_type": "code",
   "execution_count": 7,
   "metadata": {},
   "outputs": [
    {
     "data": {
      "text/html": [
       "NaN"
      ],
      "text/latex": [
       "NaN"
      ],
      "text/markdown": [
       "NaN"
      ],
      "text/plain": [
       "[1] NaN"
      ]
     },
     "metadata": {},
     "output_type": "display_data"
    }
   ],
   "source": [
    "0*Inf"
   ]
  },
  {
   "cell_type": "markdown",
   "metadata": {},
   "source": [
    "## Basic language constructs"
   ]
  },
  {
   "cell_type": "markdown",
   "metadata": {},
   "source": [
    "Assignment"
   ]
  },
  {
   "cell_type": "code",
   "execution_count": 10,
   "metadata": {
    "scrolled": true
   },
   "outputs": [
    {
     "name": "stdout",
     "output_type": "stream",
     "text": [
      "[1] 20\n",
      "[1] 20\n"
     ]
    }
   ],
   "source": [
    "A <- 1\n",
    "\n",
    "my_func <- function(){\n",
    "    A <<- 20 # global assignment\n",
    "}\n",
    "my_func()\n",
    "print(A)\n",
    "\n",
    "my_func <- function(){\n",
    "    A <- 10 # local assignment\n",
    "}\n",
    "my_func()\n",
    "print(A)"
   ]
  },
  {
   "cell_type": "markdown",
   "metadata": {},
   "source": [
    "Comments"
   ]
  },
  {
   "cell_type": "code",
   "execution_count": null,
   "metadata": {
    "collapsed": true
   },
   "outputs": [],
   "source": [
    "# here is a comment"
   ]
  },
  {
   "cell_type": "markdown",
   "metadata": {},
   "source": [
    "Arithmetic operators:\n",
    "\n",
    "- \\+ x\n",
    "- \\- x\n",
    "- x + y\n",
    "- x – y\n",
    "- x * y\n",
    "- x / y\n",
    "- x ^ y\n",
    "- x %% y\n",
    "- x %/% y\n"
   ]
  },
  {
   "cell_type": "code",
   "execution_count": 12,
   "metadata": {},
   "outputs": [
    {
     "data": {
      "text/html": [
       "1"
      ],
      "text/latex": [
       "1"
      ],
      "text/markdown": [
       "1"
      ],
      "text/plain": [
       "[1] 1"
      ]
     },
     "metadata": {},
     "output_type": "display_data"
    }
   ],
   "source": [
    "5 %% 2"
   ]
  },
  {
   "cell_type": "code",
   "execution_count": 13,
   "metadata": {},
   "outputs": [
    {
     "data": {
      "text/html": [
       "2"
      ],
      "text/latex": [
       "2"
      ],
      "text/markdown": [
       "2"
      ],
      "text/plain": [
       "[1] 2"
      ]
     },
     "metadata": {},
     "output_type": "display_data"
    }
   ],
   "source": [
    "5 %/% 2"
   ]
  },
  {
   "cell_type": "markdown",
   "metadata": {},
   "source": [
    "For\n",
    "\n",
    "for ( name in expr_1) expr_2\n",
    "\n",
    "for ( i in 1:10) print(i)\n",
    "\n",
    "while (condition) expr\n",
    "\n",
    "if (condition_1){ expr } else if (condition_2) {…} else\n"
   ]
  },
  {
   "cell_type": "code",
   "execution_count": 1,
   "metadata": {},
   "outputs": [
    {
     "name": "stdout",
     "output_type": "stream",
     "text": [
      "[1] \"a\"\n",
      "[1] \"b\"\n",
      "[1] \"c\"\n"
     ]
    }
   ],
   "source": [
    "for (i in c(\"a\", \"b\", \"c\")){\n",
    "    print(i)\n",
    "}"
   ]
  },
  {
   "cell_type": "code",
   "execution_count": 2,
   "metadata": {},
   "outputs": [
    {
     "name": "stdout",
     "output_type": "stream",
     "text": [
      "[1] 1\n",
      "[1] 2\n",
      "[1] 3\n",
      "[1] 4\n"
     ]
    }
   ],
   "source": [
    "for (i in 1:4){\n",
    "    print(i)\n",
    "}"
   ]
  },
  {
   "cell_type": "code",
   "execution_count": 11,
   "metadata": {},
   "outputs": [
    {
     "name": "stdout",
     "output_type": "stream",
     "text": [
      "[1] 10\n",
      "[1] 10\n",
      "[1] 10\n",
      "[1] 10\n",
      "[1] 10\n",
      "[1] 10\n",
      "[1] 10\n",
      "[1] 10\n",
      "[1] 10\n"
     ]
    }
   ],
   "source": [
    "a <- 10\n",
    "b <- 1\n",
    "while (a > b){\n",
    "    print(a)\n",
    "    b <- b +1\n",
    "}"
   ]
  },
  {
   "cell_type": "code",
   "execution_count": 12,
   "metadata": {},
   "outputs": [
    {
     "name": "stdout",
     "output_type": "stream",
     "text": [
      "[1] TRUE\n"
     ]
    }
   ],
   "source": [
    "a <- TRUE\n",
    "if (a){\n",
    "    print(a)\n",
    "}else if (!a){\n",
    "    print(a)\n",
    "}"
   ]
  },
  {
   "cell_type": "markdown",
   "metadata": {},
   "source": [
    "function_name <- function(param1, param2...){\n",
    "      ...\n",
    "return(a)\n",
    "}\n",
    "\n",
    "function_name(a, b)"
   ]
  },
  {
   "cell_type": "code",
   "execution_count": 13,
   "metadata": {},
   "outputs": [],
   "source": [
    "my_func <- function(a=2){\n",
    "    return(a)\n",
    "}"
   ]
  },
  {
   "cell_type": "code",
   "execution_count": 14,
   "metadata": {},
   "outputs": [],
   "source": [
    "my_new_func <- my_func"
   ]
  }
 ],
 "metadata": {
  "kernelspec": {
   "display_name": "R",
   "language": "R",
   "name": "ir"
  },
  "language_info": {
   "codemirror_mode": "r",
   "file_extension": ".r",
   "mimetype": "text/x-r-source",
   "name": "R",
   "pygments_lexer": "r",
   "version": "3.6.1"
  }
 },
 "nbformat": 4,
 "nbformat_minor": 2
}
