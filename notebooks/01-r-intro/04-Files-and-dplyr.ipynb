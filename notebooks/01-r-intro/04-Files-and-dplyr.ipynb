{
 "cells": [
  {
   "attachments": {},
   "cell_type": "markdown",
   "metadata": {},
   "source": [
    "# PART 04 - Handling CSV and XLSX and dplyr\n",
    "\n",
    "In this part, you will learn:\n",
    "* Handling CSV and XLSX files\n",
    "* Managing data.frame with dplyr\n"
   ]
  },
  {
   "cell_type": "markdown",
   "metadata": {},
   "source": [
    "## CSV files\n",
    "\n",
    "read.table(file, ...)\n",
    "\n",
    "Params: \n",
    "- header = TRUE  / FALSE\n",
    "- sep = ”,”\n",
    "- row.names=”...”\n",
    "- stringsAsFactors=FALSE\n",
    "\n",
    "There are also aliases dedicated for CSV files, e.g., write.csv, however, they will freeze some of the parameters (e.g., the separator)."
   ]
  },
  {
   "cell_type": "code",
   "execution_count": 18,
   "metadata": {},
   "outputs": [
    {
     "data": {
      "text/html": [
       "<table>\n",
       "<thead><tr><th scope=col>Package</th><th scope=col>Class</th><th scope=col>LOC</th><th scope=col>CodeQuality</th><th scope=col>NoBugs</th></tr></thead>\n",
       "<tbody>\n",
       "\t<tr><td>pl.put.qmese         </td><td>Handler              </td><td> 23                  </td><td>medium               </td><td>3                    </td></tr>\n",
       "\t<tr><td>pl.put.qmese         </td><td>Exception            </td><td> 10                  </td><td>medium               </td><td>2                    </td></tr>\n",
       "\t<tr><td>pl.put.qmese         </td><td>Plugin               </td><td>124                  </td><td>high                 </td><td>5                    </td></tr>\n",
       "\t<tr><td>pl.put.qmese.internal</td><td>Input                </td><td>224                  </td><td>low                  </td><td>8                    </td></tr>\n",
       "\t<tr><td>pl.put.qmese         </td><td>Info                 </td><td>111                  </td><td>high                 </td><td>5                    </td></tr>\n",
       "\t<tr><td>pl.put.qmese         </td><td>Log                  </td><td> 23                  </td><td>medium               </td><td>3                    </td></tr>\n",
       "\t<tr><td>pl.put.qmese.internal</td><td>Error                </td><td> 10                  </td><td>low                  </td><td>1                    </td></tr>\n",
       "\t<tr><td>pl.put.qmese.data    </td><td>Experiment           </td><td>125                  </td><td>high                 </td><td>5                    </td></tr>\n",
       "\t<tr><td>pl.put.qmese.data    </td><td>CaseStudy            </td><td>150                  </td><td>low                  </td><td>6                    </td></tr>\n",
       "\t<tr><td>pl.put.qmese.data    </td><td>Survey               </td><td>111                  </td><td>high                 </td><td>5                    </td></tr>\n",
       "</tbody>\n",
       "</table>\n"
      ],
      "text/latex": [
       "\\begin{tabular}{r|lllll}\n",
       " Package & Class & LOC & CodeQuality & NoBugs\\\\\n",
       "\\hline\n",
       "\t pl.put.qmese          & Handler               &  23                   & medium                & 3                    \\\\\n",
       "\t pl.put.qmese          & Exception             &  10                   & medium                & 2                    \\\\\n",
       "\t pl.put.qmese          & Plugin                & 124                   & high                  & 5                    \\\\\n",
       "\t pl.put.qmese.internal & Input                 & 224                   & low                   & 8                    \\\\\n",
       "\t pl.put.qmese          & Info                  & 111                   & high                  & 5                    \\\\\n",
       "\t pl.put.qmese          & Log                   &  23                   & medium                & 3                    \\\\\n",
       "\t pl.put.qmese.internal & Error                 &  10                   & low                   & 1                    \\\\\n",
       "\t pl.put.qmese.data     & Experiment            & 125                   & high                  & 5                    \\\\\n",
       "\t pl.put.qmese.data     & CaseStudy             & 150                   & low                   & 6                    \\\\\n",
       "\t pl.put.qmese.data     & Survey                & 111                   & high                  & 5                    \\\\\n",
       "\\end{tabular}\n"
      ],
      "text/markdown": [
       "\n",
       "| Package | Class | LOC | CodeQuality | NoBugs |\n",
       "|---|---|---|---|---|\n",
       "| pl.put.qmese          | Handler               |  23                   | medium                | 3                     |\n",
       "| pl.put.qmese          | Exception             |  10                   | medium                | 2                     |\n",
       "| pl.put.qmese          | Plugin                | 124                   | high                  | 5                     |\n",
       "| pl.put.qmese.internal | Input                 | 224                   | low                   | 8                     |\n",
       "| pl.put.qmese          | Info                  | 111                   | high                  | 5                     |\n",
       "| pl.put.qmese          | Log                   |  23                   | medium                | 3                     |\n",
       "| pl.put.qmese.internal | Error                 |  10                   | low                   | 1                     |\n",
       "| pl.put.qmese.data     | Experiment            | 125                   | high                  | 5                     |\n",
       "| pl.put.qmese.data     | CaseStudy             | 150                   | low                   | 6                     |\n",
       "| pl.put.qmese.data     | Survey                | 111                   | high                  | 5                     |\n",
       "\n"
      ],
      "text/plain": [
       "   Package               Class      LOC CodeQuality NoBugs\n",
       "1  pl.put.qmese          Handler     23 medium      3     \n",
       "2  pl.put.qmese          Exception   10 medium      2     \n",
       "3  pl.put.qmese          Plugin     124 high        5     \n",
       "4  pl.put.qmese.internal Input      224 low         8     \n",
       "5  pl.put.qmese          Info       111 high        5     \n",
       "6  pl.put.qmese          Log         23 medium      3     \n",
       "7  pl.put.qmese.internal Error       10 low         1     \n",
       "8  pl.put.qmese.data     Experiment 125 high        5     \n",
       "9  pl.put.qmese.data     CaseStudy  150 low         6     \n",
       "10 pl.put.qmese.data     Survey     111 high        5     "
      ]
     },
     "metadata": {},
     "output_type": "display_data"
    },
    {
     "name": "stdout",
     "output_type": "stream",
     "text": [
      "'data.frame':\t10 obs. of  5 variables:\n",
      " $ Package    : chr  \"pl.put.qmese\" \"pl.put.qmese\" \"pl.put.qmese\" \"pl.put.qmese.internal\" ...\n",
      " $ Class      : chr  \"Handler\" \"Exception\" \"Plugin\" \"Input\" ...\n",
      " $ LOC        : int  23 10 124 224 111 23 10 125 150 111\n",
      " $ CodeQuality: Ord.factor w/ 3 levels \"low\"<\"medium\"<..: 2 2 3 1 3 2 1 3 1 3\n",
      " $ NoBugs     : int  3 2 5 8 5 3 1 5 6 5\n"
     ]
    }
   ],
   "source": [
    "code_data <- read.table(\"example.csv\", header=TRUE, sep=\";\", stringsAsFactors=FALSE)\n",
    "code_data\n",
    "code_data$CodeQuality <- factor(code_data$CodeQuality, \n",
    "                                levels=c(\"low\", \"medium\", \"high\"),\n",
    "                                ordered=T)\n",
    "str(code_data)"
   ]
  },
  {
   "cell_type": "code",
   "execution_count": 19,
   "metadata": {},
   "outputs": [],
   "source": [
    "write.table(code_data, \"example.csv\", sep=\";\", row.names = FALSE, quote=FALSE)"
   ]
  },
  {
   "cell_type": "markdown",
   "metadata": {},
   "source": [
    "## XLSX files"
   ]
  },
  {
   "cell_type": "code",
   "execution_count": 20,
   "metadata": {},
   "outputs": [],
   "source": [
    "require(readxl)"
   ]
  },
  {
   "cell_type": "code",
   "execution_count": 21,
   "metadata": {},
   "outputs": [
    {
     "data": {
      "text/html": [
       "<table>\n",
       "<thead><tr><th scope=col>Package</th><th scope=col>Class</th><th scope=col>LOC</th><th scope=col>CodeQuality</th><th scope=col>NoBugs</th></tr></thead>\n",
       "<tbody>\n",
       "\t<tr><td>pl.put.qmese         </td><td>Handler              </td><td> 23                  </td><td>medium               </td><td>3                    </td></tr>\n",
       "\t<tr><td>pl.put.qmese         </td><td>Exception            </td><td> 10                  </td><td>medium               </td><td>2                    </td></tr>\n",
       "\t<tr><td>pl.put.qmese         </td><td>Plugin               </td><td>124                  </td><td>high                 </td><td>5                    </td></tr>\n",
       "\t<tr><td>pl.put.qmese.internal</td><td>Input                </td><td>224                  </td><td>low                  </td><td>8                    </td></tr>\n",
       "\t<tr><td>pl.put.qmese         </td><td>Info                 </td><td>111                  </td><td>high                 </td><td>5                    </td></tr>\n",
       "\t<tr><td>pl.put.qmese         </td><td>Log                  </td><td> 23                  </td><td>medium               </td><td>3                    </td></tr>\n",
       "\t<tr><td>pl.put.qmese.internal</td><td>Error                </td><td> 10                  </td><td>low                  </td><td>1                    </td></tr>\n",
       "\t<tr><td>pl.put.qmese.data    </td><td>Experiment           </td><td>125                  </td><td>high                 </td><td>5                    </td></tr>\n",
       "\t<tr><td>pl.put.qmese.data    </td><td>CaseStudy            </td><td>150                  </td><td>low                  </td><td>6                    </td></tr>\n",
       "\t<tr><td>pl.put.qmese.data    </td><td>Survey               </td><td>111                  </td><td>high                 </td><td>5                    </td></tr>\n",
       "</tbody>\n",
       "</table>\n"
      ],
      "text/latex": [
       "\\begin{tabular}{r|lllll}\n",
       " Package & Class & LOC & CodeQuality & NoBugs\\\\\n",
       "\\hline\n",
       "\t pl.put.qmese          & Handler               &  23                   & medium                & 3                    \\\\\n",
       "\t pl.put.qmese          & Exception             &  10                   & medium                & 2                    \\\\\n",
       "\t pl.put.qmese          & Plugin                & 124                   & high                  & 5                    \\\\\n",
       "\t pl.put.qmese.internal & Input                 & 224                   & low                   & 8                    \\\\\n",
       "\t pl.put.qmese          & Info                  & 111                   & high                  & 5                    \\\\\n",
       "\t pl.put.qmese          & Log                   &  23                   & medium                & 3                    \\\\\n",
       "\t pl.put.qmese.internal & Error                 &  10                   & low                   & 1                    \\\\\n",
       "\t pl.put.qmese.data     & Experiment            & 125                   & high                  & 5                    \\\\\n",
       "\t pl.put.qmese.data     & CaseStudy             & 150                   & low                   & 6                    \\\\\n",
       "\t pl.put.qmese.data     & Survey                & 111                   & high                  & 5                    \\\\\n",
       "\\end{tabular}\n"
      ],
      "text/markdown": [
       "\n",
       "| Package | Class | LOC | CodeQuality | NoBugs |\n",
       "|---|---|---|---|---|\n",
       "| pl.put.qmese          | Handler               |  23                   | medium                | 3                     |\n",
       "| pl.put.qmese          | Exception             |  10                   | medium                | 2                     |\n",
       "| pl.put.qmese          | Plugin                | 124                   | high                  | 5                     |\n",
       "| pl.put.qmese.internal | Input                 | 224                   | low                   | 8                     |\n",
       "| pl.put.qmese          | Info                  | 111                   | high                  | 5                     |\n",
       "| pl.put.qmese          | Log                   |  23                   | medium                | 3                     |\n",
       "| pl.put.qmese.internal | Error                 |  10                   | low                   | 1                     |\n",
       "| pl.put.qmese.data     | Experiment            | 125                   | high                  | 5                     |\n",
       "| pl.put.qmese.data     | CaseStudy             | 150                   | low                   | 6                     |\n",
       "| pl.put.qmese.data     | Survey                | 111                   | high                  | 5                     |\n",
       "\n"
      ],
      "text/plain": [
       "   Package               Class      LOC CodeQuality NoBugs\n",
       "1  pl.put.qmese          Handler     23 medium      3     \n",
       "2  pl.put.qmese          Exception   10 medium      2     \n",
       "3  pl.put.qmese          Plugin     124 high        5     \n",
       "4  pl.put.qmese.internal Input      224 low         8     \n",
       "5  pl.put.qmese          Info       111 high        5     \n",
       "6  pl.put.qmese          Log         23 medium      3     \n",
       "7  pl.put.qmese.internal Error       10 low         1     \n",
       "8  pl.put.qmese.data     Experiment 125 high        5     \n",
       "9  pl.put.qmese.data     CaseStudy  150 low         6     \n",
       "10 pl.put.qmese.data     Survey     111 high        5     "
      ]
     },
     "metadata": {},
     "output_type": "display_data"
    }
   ],
   "source": [
    "read_excel(\"example.xlsx\", sheet=1)"
   ]
  },
  {
   "cell_type": "markdown",
   "metadata": {},
   "source": [
    "## dplyr\n",
    "\n",
    "dplyr package – operations on data.frames\n",
    "\n",
    "Install dplyr"
   ]
  },
  {
   "cell_type": "code",
   "execution_count": 22,
   "metadata": {},
   "outputs": [
    {
     "name": "stderr",
     "output_type": "stream",
     "text": [
      "Loading required package: dplyr\n",
      "\n",
      "Attaching package: ‘dplyr’\n",
      "\n",
      "The following objects are masked from ‘package:stats’:\n",
      "\n",
      "    filter, lag\n",
      "\n",
      "The following objects are masked from ‘package:base’:\n",
      "\n",
      "    intersect, setdiff, setequal, union\n",
      "\n"
     ]
    }
   ],
   "source": [
    "require(dplyr)"
   ]
  },
  {
   "cell_type": "markdown",
   "metadata": {},
   "source": [
    "Chaining commands %.% or %>% (ver. dep.)"
   ]
  },
  {
   "cell_type": "markdown",
   "metadata": {},
   "source": [
    "Filter – filters data by value (and = &, or = |)"
   ]
  },
  {
   "cell_type": "code",
   "execution_count": 23,
   "metadata": {},
   "outputs": [
    {
     "data": {
      "text/html": [
       "<table>\n",
       "<thead><tr><th scope=col>Package</th><th scope=col>Class</th><th scope=col>LOC</th><th scope=col>CodeQuality</th><th scope=col>NoBugs</th></tr></thead>\n",
       "<tbody>\n",
       "\t<tr><td>pl.put.qmese         </td><td>Handler              </td><td> 23                  </td><td>medium               </td><td>3                    </td></tr>\n",
       "\t<tr><td>pl.put.qmese         </td><td>Exception            </td><td> 10                  </td><td>medium               </td><td>2                    </td></tr>\n",
       "\t<tr><td>pl.put.qmese         </td><td>Plugin               </td><td>124                  </td><td>high                 </td><td>5                    </td></tr>\n",
       "\t<tr><td>pl.put.qmese.internal</td><td>Input                </td><td>224                  </td><td>low                  </td><td>8                    </td></tr>\n",
       "\t<tr><td>pl.put.qmese         </td><td>Info                 </td><td>111                  </td><td>high                 </td><td>5                    </td></tr>\n",
       "\t<tr><td>pl.put.qmese         </td><td>Log                  </td><td> 23                  </td><td>medium               </td><td>3                    </td></tr>\n",
       "\t<tr><td>pl.put.qmese.data    </td><td>Experiment           </td><td>125                  </td><td>high                 </td><td>5                    </td></tr>\n",
       "\t<tr><td>pl.put.qmese.data    </td><td>CaseStudy            </td><td>150                  </td><td>low                  </td><td>6                    </td></tr>\n",
       "\t<tr><td>pl.put.qmese.data    </td><td>Survey               </td><td>111                  </td><td>high                 </td><td>5                    </td></tr>\n",
       "</tbody>\n",
       "</table>\n"
      ],
      "text/latex": [
       "\\begin{tabular}{r|lllll}\n",
       " Package & Class & LOC & CodeQuality & NoBugs\\\\\n",
       "\\hline\n",
       "\t pl.put.qmese          & Handler               &  23                   & medium                & 3                    \\\\\n",
       "\t pl.put.qmese          & Exception             &  10                   & medium                & 2                    \\\\\n",
       "\t pl.put.qmese          & Plugin                & 124                   & high                  & 5                    \\\\\n",
       "\t pl.put.qmese.internal & Input                 & 224                   & low                   & 8                    \\\\\n",
       "\t pl.put.qmese          & Info                  & 111                   & high                  & 5                    \\\\\n",
       "\t pl.put.qmese          & Log                   &  23                   & medium                & 3                    \\\\\n",
       "\t pl.put.qmese.data     & Experiment            & 125                   & high                  & 5                    \\\\\n",
       "\t pl.put.qmese.data     & CaseStudy             & 150                   & low                   & 6                    \\\\\n",
       "\t pl.put.qmese.data     & Survey                & 111                   & high                  & 5                    \\\\\n",
       "\\end{tabular}\n"
      ],
      "text/markdown": [
       "\n",
       "| Package | Class | LOC | CodeQuality | NoBugs |\n",
       "|---|---|---|---|---|\n",
       "| pl.put.qmese          | Handler               |  23                   | medium                | 3                     |\n",
       "| pl.put.qmese          | Exception             |  10                   | medium                | 2                     |\n",
       "| pl.put.qmese          | Plugin                | 124                   | high                  | 5                     |\n",
       "| pl.put.qmese.internal | Input                 | 224                   | low                   | 8                     |\n",
       "| pl.put.qmese          | Info                  | 111                   | high                  | 5                     |\n",
       "| pl.put.qmese          | Log                   |  23                   | medium                | 3                     |\n",
       "| pl.put.qmese.data     | Experiment            | 125                   | high                  | 5                     |\n",
       "| pl.put.qmese.data     | CaseStudy             | 150                   | low                   | 6                     |\n",
       "| pl.put.qmese.data     | Survey                | 111                   | high                  | 5                     |\n",
       "\n"
      ],
      "text/plain": [
       "  Package               Class      LOC CodeQuality NoBugs\n",
       "1 pl.put.qmese          Handler     23 medium      3     \n",
       "2 pl.put.qmese          Exception   10 medium      2     \n",
       "3 pl.put.qmese          Plugin     124 high        5     \n",
       "4 pl.put.qmese.internal Input      224 low         8     \n",
       "5 pl.put.qmese          Info       111 high        5     \n",
       "6 pl.put.qmese          Log         23 medium      3     \n",
       "7 pl.put.qmese.data     Experiment 125 high        5     \n",
       "8 pl.put.qmese.data     CaseStudy  150 low         6     \n",
       "9 pl.put.qmese.data     Survey     111 high        5     "
      ]
     },
     "metadata": {},
     "output_type": "display_data"
    }
   ],
   "source": [
    "code_data %>% filter(CodeQuality==\"medium\" |  LOC > 10)"
   ]
  },
  {
   "cell_type": "markdown",
   "metadata": {},
   "source": [
    "Arrange - sorting rows (desc to revert order)"
   ]
  },
  {
   "cell_type": "code",
   "execution_count": 24,
   "metadata": {},
   "outputs": [
    {
     "data": {
      "text/html": [
       "<table>\n",
       "<thead><tr><th scope=col>Package</th><th scope=col>Class</th><th scope=col>LOC</th><th scope=col>CodeQuality</th><th scope=col>NoBugs</th></tr></thead>\n",
       "<tbody>\n",
       "\t<tr><td>pl.put.qmese.internal</td><td>Input                </td><td>224                  </td><td>low                  </td><td>8                    </td></tr>\n",
       "\t<tr><td>pl.put.qmese.internal</td><td>Error                </td><td> 10                  </td><td>low                  </td><td>1                    </td></tr>\n",
       "\t<tr><td>pl.put.qmese.data    </td><td>CaseStudy            </td><td>150                  </td><td>low                  </td><td>6                    </td></tr>\n",
       "\t<tr><td>pl.put.qmese         </td><td>Handler              </td><td> 23                  </td><td>medium               </td><td>3                    </td></tr>\n",
       "\t<tr><td>pl.put.qmese         </td><td>Exception            </td><td> 10                  </td><td>medium               </td><td>2                    </td></tr>\n",
       "\t<tr><td>pl.put.qmese         </td><td>Log                  </td><td> 23                  </td><td>medium               </td><td>3                    </td></tr>\n",
       "\t<tr><td>pl.put.qmese         </td><td>Plugin               </td><td>124                  </td><td>high                 </td><td>5                    </td></tr>\n",
       "\t<tr><td>pl.put.qmese         </td><td>Info                 </td><td>111                  </td><td>high                 </td><td>5                    </td></tr>\n",
       "\t<tr><td>pl.put.qmese.data    </td><td>Experiment           </td><td>125                  </td><td>high                 </td><td>5                    </td></tr>\n",
       "\t<tr><td>pl.put.qmese.data    </td><td>Survey               </td><td>111                  </td><td>high                 </td><td>5                    </td></tr>\n",
       "</tbody>\n",
       "</table>\n"
      ],
      "text/latex": [
       "\\begin{tabular}{r|lllll}\n",
       " Package & Class & LOC & CodeQuality & NoBugs\\\\\n",
       "\\hline\n",
       "\t pl.put.qmese.internal & Input                 & 224                   & low                   & 8                    \\\\\n",
       "\t pl.put.qmese.internal & Error                 &  10                   & low                   & 1                    \\\\\n",
       "\t pl.put.qmese.data     & CaseStudy             & 150                   & low                   & 6                    \\\\\n",
       "\t pl.put.qmese          & Handler               &  23                   & medium                & 3                    \\\\\n",
       "\t pl.put.qmese          & Exception             &  10                   & medium                & 2                    \\\\\n",
       "\t pl.put.qmese          & Log                   &  23                   & medium                & 3                    \\\\\n",
       "\t pl.put.qmese          & Plugin                & 124                   & high                  & 5                    \\\\\n",
       "\t pl.put.qmese          & Info                  & 111                   & high                  & 5                    \\\\\n",
       "\t pl.put.qmese.data     & Experiment            & 125                   & high                  & 5                    \\\\\n",
       "\t pl.put.qmese.data     & Survey                & 111                   & high                  & 5                    \\\\\n",
       "\\end{tabular}\n"
      ],
      "text/markdown": [
       "\n",
       "| Package | Class | LOC | CodeQuality | NoBugs |\n",
       "|---|---|---|---|---|\n",
       "| pl.put.qmese.internal | Input                 | 224                   | low                   | 8                     |\n",
       "| pl.put.qmese.internal | Error                 |  10                   | low                   | 1                     |\n",
       "| pl.put.qmese.data     | CaseStudy             | 150                   | low                   | 6                     |\n",
       "| pl.put.qmese          | Handler               |  23                   | medium                | 3                     |\n",
       "| pl.put.qmese          | Exception             |  10                   | medium                | 2                     |\n",
       "| pl.put.qmese          | Log                   |  23                   | medium                | 3                     |\n",
       "| pl.put.qmese          | Plugin                | 124                   | high                  | 5                     |\n",
       "| pl.put.qmese          | Info                  | 111                   | high                  | 5                     |\n",
       "| pl.put.qmese.data     | Experiment            | 125                   | high                  | 5                     |\n",
       "| pl.put.qmese.data     | Survey                | 111                   | high                  | 5                     |\n",
       "\n"
      ],
      "text/plain": [
       "   Package               Class      LOC CodeQuality NoBugs\n",
       "1  pl.put.qmese.internal Input      224 low         8     \n",
       "2  pl.put.qmese.internal Error       10 low         1     \n",
       "3  pl.put.qmese.data     CaseStudy  150 low         6     \n",
       "4  pl.put.qmese          Handler     23 medium      3     \n",
       "5  pl.put.qmese          Exception   10 medium      2     \n",
       "6  pl.put.qmese          Log         23 medium      3     \n",
       "7  pl.put.qmese          Plugin     124 high        5     \n",
       "8  pl.put.qmese          Info       111 high        5     \n",
       "9  pl.put.qmese.data     Experiment 125 high        5     \n",
       "10 pl.put.qmese.data     Survey     111 high        5     "
      ]
     },
     "metadata": {},
     "output_type": "display_data"
    }
   ],
   "source": [
    "code_data %>% arrange(CodeQuality)"
   ]
  },
  {
   "cell_type": "code",
   "execution_count": 25,
   "metadata": {},
   "outputs": [
    {
     "data": {
      "text/html": [
       "<table>\n",
       "<thead><tr><th scope=col>Package</th><th scope=col>Class</th><th scope=col>LOC</th><th scope=col>CodeQuality</th><th scope=col>NoBugs</th></tr></thead>\n",
       "<tbody>\n",
       "\t<tr><td>pl.put.qmese         </td><td>Plugin               </td><td>124                  </td><td>high                 </td><td>5                    </td></tr>\n",
       "\t<tr><td>pl.put.qmese         </td><td>Info                 </td><td>111                  </td><td>high                 </td><td>5                    </td></tr>\n",
       "\t<tr><td>pl.put.qmese.data    </td><td>Experiment           </td><td>125                  </td><td>high                 </td><td>5                    </td></tr>\n",
       "\t<tr><td>pl.put.qmese.data    </td><td>Survey               </td><td>111                  </td><td>high                 </td><td>5                    </td></tr>\n",
       "\t<tr><td>pl.put.qmese         </td><td>Handler              </td><td> 23                  </td><td>medium               </td><td>3                    </td></tr>\n",
       "\t<tr><td>pl.put.qmese         </td><td>Exception            </td><td> 10                  </td><td>medium               </td><td>2                    </td></tr>\n",
       "\t<tr><td>pl.put.qmese         </td><td>Log                  </td><td> 23                  </td><td>medium               </td><td>3                    </td></tr>\n",
       "\t<tr><td>pl.put.qmese.internal</td><td>Input                </td><td>224                  </td><td>low                  </td><td>8                    </td></tr>\n",
       "\t<tr><td>pl.put.qmese.internal</td><td>Error                </td><td> 10                  </td><td>low                  </td><td>1                    </td></tr>\n",
       "\t<tr><td>pl.put.qmese.data    </td><td>CaseStudy            </td><td>150                  </td><td>low                  </td><td>6                    </td></tr>\n",
       "</tbody>\n",
       "</table>\n"
      ],
      "text/latex": [
       "\\begin{tabular}{r|lllll}\n",
       " Package & Class & LOC & CodeQuality & NoBugs\\\\\n",
       "\\hline\n",
       "\t pl.put.qmese          & Plugin                & 124                   & high                  & 5                    \\\\\n",
       "\t pl.put.qmese          & Info                  & 111                   & high                  & 5                    \\\\\n",
       "\t pl.put.qmese.data     & Experiment            & 125                   & high                  & 5                    \\\\\n",
       "\t pl.put.qmese.data     & Survey                & 111                   & high                  & 5                    \\\\\n",
       "\t pl.put.qmese          & Handler               &  23                   & medium                & 3                    \\\\\n",
       "\t pl.put.qmese          & Exception             &  10                   & medium                & 2                    \\\\\n",
       "\t pl.put.qmese          & Log                   &  23                   & medium                & 3                    \\\\\n",
       "\t pl.put.qmese.internal & Input                 & 224                   & low                   & 8                    \\\\\n",
       "\t pl.put.qmese.internal & Error                 &  10                   & low                   & 1                    \\\\\n",
       "\t pl.put.qmese.data     & CaseStudy             & 150                   & low                   & 6                    \\\\\n",
       "\\end{tabular}\n"
      ],
      "text/markdown": [
       "\n",
       "| Package | Class | LOC | CodeQuality | NoBugs |\n",
       "|---|---|---|---|---|\n",
       "| pl.put.qmese          | Plugin                | 124                   | high                  | 5                     |\n",
       "| pl.put.qmese          | Info                  | 111                   | high                  | 5                     |\n",
       "| pl.put.qmese.data     | Experiment            | 125                   | high                  | 5                     |\n",
       "| pl.put.qmese.data     | Survey                | 111                   | high                  | 5                     |\n",
       "| pl.put.qmese          | Handler               |  23                   | medium                | 3                     |\n",
       "| pl.put.qmese          | Exception             |  10                   | medium                | 2                     |\n",
       "| pl.put.qmese          | Log                   |  23                   | medium                | 3                     |\n",
       "| pl.put.qmese.internal | Input                 | 224                   | low                   | 8                     |\n",
       "| pl.put.qmese.internal | Error                 |  10                   | low                   | 1                     |\n",
       "| pl.put.qmese.data     | CaseStudy             | 150                   | low                   | 6                     |\n",
       "\n"
      ],
      "text/plain": [
       "   Package               Class      LOC CodeQuality NoBugs\n",
       "1  pl.put.qmese          Plugin     124 high        5     \n",
       "2  pl.put.qmese          Info       111 high        5     \n",
       "3  pl.put.qmese.data     Experiment 125 high        5     \n",
       "4  pl.put.qmese.data     Survey     111 high        5     \n",
       "5  pl.put.qmese          Handler     23 medium      3     \n",
       "6  pl.put.qmese          Exception   10 medium      2     \n",
       "7  pl.put.qmese          Log         23 medium      3     \n",
       "8  pl.put.qmese.internal Input      224 low         8     \n",
       "9  pl.put.qmese.internal Error       10 low         1     \n",
       "10 pl.put.qmese.data     CaseStudy  150 low         6     "
      ]
     },
     "metadata": {},
     "output_type": "display_data"
    }
   ],
   "source": [
    "code_data %>% arrange(desc(CodeQuality))"
   ]
  },
  {
   "cell_type": "markdown",
   "metadata": {},
   "source": [
    "Select – selects columns"
   ]
  },
  {
   "cell_type": "code",
   "execution_count": 26,
   "metadata": {},
   "outputs": [
    {
     "data": {
      "text/html": [
       "<table>\n",
       "<thead><tr><th scope=col>Package</th><th scope=col>Class</th><th scope=col>CodeQuality</th></tr></thead>\n",
       "<tbody>\n",
       "\t<tr><td>pl.put.qmese         </td><td>Handler              </td><td>medium               </td></tr>\n",
       "\t<tr><td>pl.put.qmese         </td><td>Exception            </td><td>medium               </td></tr>\n",
       "\t<tr><td>pl.put.qmese         </td><td>Plugin               </td><td>high                 </td></tr>\n",
       "\t<tr><td>pl.put.qmese.internal</td><td>Input                </td><td>low                  </td></tr>\n",
       "\t<tr><td>pl.put.qmese         </td><td>Info                 </td><td>high                 </td></tr>\n",
       "\t<tr><td>pl.put.qmese         </td><td>Log                  </td><td>medium               </td></tr>\n",
       "\t<tr><td>pl.put.qmese.internal</td><td>Error                </td><td>low                  </td></tr>\n",
       "\t<tr><td>pl.put.qmese.data    </td><td>Experiment           </td><td>high                 </td></tr>\n",
       "\t<tr><td>pl.put.qmese.data    </td><td>CaseStudy            </td><td>low                  </td></tr>\n",
       "\t<tr><td>pl.put.qmese.data    </td><td>Survey               </td><td>high                 </td></tr>\n",
       "</tbody>\n",
       "</table>\n"
      ],
      "text/latex": [
       "\\begin{tabular}{r|lll}\n",
       " Package & Class & CodeQuality\\\\\n",
       "\\hline\n",
       "\t pl.put.qmese          & Handler               & medium               \\\\\n",
       "\t pl.put.qmese          & Exception             & medium               \\\\\n",
       "\t pl.put.qmese          & Plugin                & high                 \\\\\n",
       "\t pl.put.qmese.internal & Input                 & low                  \\\\\n",
       "\t pl.put.qmese          & Info                  & high                 \\\\\n",
       "\t pl.put.qmese          & Log                   & medium               \\\\\n",
       "\t pl.put.qmese.internal & Error                 & low                  \\\\\n",
       "\t pl.put.qmese.data     & Experiment            & high                 \\\\\n",
       "\t pl.put.qmese.data     & CaseStudy             & low                  \\\\\n",
       "\t pl.put.qmese.data     & Survey                & high                 \\\\\n",
       "\\end{tabular}\n"
      ],
      "text/markdown": [
       "\n",
       "| Package | Class | CodeQuality |\n",
       "|---|---|---|\n",
       "| pl.put.qmese          | Handler               | medium                |\n",
       "| pl.put.qmese          | Exception             | medium                |\n",
       "| pl.put.qmese          | Plugin                | high                  |\n",
       "| pl.put.qmese.internal | Input                 | low                   |\n",
       "| pl.put.qmese          | Info                  | high                  |\n",
       "| pl.put.qmese          | Log                   | medium                |\n",
       "| pl.put.qmese.internal | Error                 | low                   |\n",
       "| pl.put.qmese.data     | Experiment            | high                  |\n",
       "| pl.put.qmese.data     | CaseStudy             | low                   |\n",
       "| pl.put.qmese.data     | Survey                | high                  |\n",
       "\n"
      ],
      "text/plain": [
       "   Package               Class      CodeQuality\n",
       "1  pl.put.qmese          Handler    medium     \n",
       "2  pl.put.qmese          Exception  medium     \n",
       "3  pl.put.qmese          Plugin     high       \n",
       "4  pl.put.qmese.internal Input      low        \n",
       "5  pl.put.qmese          Info       high       \n",
       "6  pl.put.qmese          Log        medium     \n",
       "7  pl.put.qmese.internal Error      low        \n",
       "8  pl.put.qmese.data     Experiment high       \n",
       "9  pl.put.qmese.data     CaseStudy  low        \n",
       "10 pl.put.qmese.data     Survey     high       "
      ]
     },
     "metadata": {},
     "output_type": "display_data"
    }
   ],
   "source": [
    "code_data[,c(\"Package\", \"Class\", \"CodeQuality\")]"
   ]
  },
  {
   "cell_type": "code",
   "execution_count": 27,
   "metadata": {},
   "outputs": [
    {
     "data": {
      "text/html": [
       "<table>\n",
       "<thead><tr><th scope=col>Package</th><th scope=col>Class</th><th scope=col>CodeQuality</th></tr></thead>\n",
       "<tbody>\n",
       "\t<tr><td>pl.put.qmese         </td><td>Handler              </td><td>medium               </td></tr>\n",
       "\t<tr><td>pl.put.qmese         </td><td>Exception            </td><td>medium               </td></tr>\n",
       "\t<tr><td>pl.put.qmese         </td><td>Plugin               </td><td>high                 </td></tr>\n",
       "\t<tr><td>pl.put.qmese.internal</td><td>Input                </td><td>low                  </td></tr>\n",
       "\t<tr><td>pl.put.qmese         </td><td>Info                 </td><td>high                 </td></tr>\n",
       "\t<tr><td>pl.put.qmese         </td><td>Log                  </td><td>medium               </td></tr>\n",
       "\t<tr><td>pl.put.qmese.internal</td><td>Error                </td><td>low                  </td></tr>\n",
       "\t<tr><td>pl.put.qmese.data    </td><td>Experiment           </td><td>high                 </td></tr>\n",
       "\t<tr><td>pl.put.qmese.data    </td><td>CaseStudy            </td><td>low                  </td></tr>\n",
       "\t<tr><td>pl.put.qmese.data    </td><td>Survey               </td><td>high                 </td></tr>\n",
       "</tbody>\n",
       "</table>\n"
      ],
      "text/latex": [
       "\\begin{tabular}{r|lll}\n",
       " Package & Class & CodeQuality\\\\\n",
       "\\hline\n",
       "\t pl.put.qmese          & Handler               & medium               \\\\\n",
       "\t pl.put.qmese          & Exception             & medium               \\\\\n",
       "\t pl.put.qmese          & Plugin                & high                 \\\\\n",
       "\t pl.put.qmese.internal & Input                 & low                  \\\\\n",
       "\t pl.put.qmese          & Info                  & high                 \\\\\n",
       "\t pl.put.qmese          & Log                   & medium               \\\\\n",
       "\t pl.put.qmese.internal & Error                 & low                  \\\\\n",
       "\t pl.put.qmese.data     & Experiment            & high                 \\\\\n",
       "\t pl.put.qmese.data     & CaseStudy             & low                  \\\\\n",
       "\t pl.put.qmese.data     & Survey                & high                 \\\\\n",
       "\\end{tabular}\n"
      ],
      "text/markdown": [
       "\n",
       "| Package | Class | CodeQuality |\n",
       "|---|---|---|\n",
       "| pl.put.qmese          | Handler               | medium                |\n",
       "| pl.put.qmese          | Exception             | medium                |\n",
       "| pl.put.qmese          | Plugin                | high                  |\n",
       "| pl.put.qmese.internal | Input                 | low                   |\n",
       "| pl.put.qmese          | Info                  | high                  |\n",
       "| pl.put.qmese          | Log                   | medium                |\n",
       "| pl.put.qmese.internal | Error                 | low                   |\n",
       "| pl.put.qmese.data     | Experiment            | high                  |\n",
       "| pl.put.qmese.data     | CaseStudy             | low                   |\n",
       "| pl.put.qmese.data     | Survey                | high                  |\n",
       "\n"
      ],
      "text/plain": [
       "   Package               Class      CodeQuality\n",
       "1  pl.put.qmese          Handler    medium     \n",
       "2  pl.put.qmese          Exception  medium     \n",
       "3  pl.put.qmese          Plugin     high       \n",
       "4  pl.put.qmese.internal Input      low        \n",
       "5  pl.put.qmese          Info       high       \n",
       "6  pl.put.qmese          Log        medium     \n",
       "7  pl.put.qmese.internal Error      low        \n",
       "8  pl.put.qmese.data     Experiment high       \n",
       "9  pl.put.qmese.data     CaseStudy  low        \n",
       "10 pl.put.qmese.data     Survey     high       "
      ]
     },
     "metadata": {},
     "output_type": "display_data"
    }
   ],
   "source": [
    "code_data %>% select(Package, Class, CodeQuality)"
   ]
  },
  {
   "cell_type": "markdown",
   "metadata": {},
   "source": [
    "Mutate – calculate new values "
   ]
  },
  {
   "cell_type": "code",
   "execution_count": 28,
   "metadata": {},
   "outputs": [
    {
     "data": {
      "text/html": [
       "<table>\n",
       "<thead><tr><th scope=col>Package</th><th scope=col>Class</th><th scope=col>LOC</th><th scope=col>CodeQuality</th><th scope=col>NoBugs</th><th scope=col>KLOC</th></tr></thead>\n",
       "<tbody>\n",
       "\t<tr><td>pl.put.qmese         </td><td>Handler              </td><td> 23                  </td><td>medium               </td><td>3                    </td><td>0.023                </td></tr>\n",
       "\t<tr><td>pl.put.qmese         </td><td>Exception            </td><td> 10                  </td><td>medium               </td><td>2                    </td><td>0.010                </td></tr>\n",
       "\t<tr><td>pl.put.qmese         </td><td>Plugin               </td><td>124                  </td><td>high                 </td><td>5                    </td><td>0.124                </td></tr>\n",
       "\t<tr><td>pl.put.qmese.internal</td><td>Input                </td><td>224                  </td><td>low                  </td><td>8                    </td><td>0.224                </td></tr>\n",
       "\t<tr><td>pl.put.qmese         </td><td>Info                 </td><td>111                  </td><td>high                 </td><td>5                    </td><td>0.111                </td></tr>\n",
       "\t<tr><td>pl.put.qmese         </td><td>Log                  </td><td> 23                  </td><td>medium               </td><td>3                    </td><td>0.023                </td></tr>\n",
       "\t<tr><td>pl.put.qmese.internal</td><td>Error                </td><td> 10                  </td><td>low                  </td><td>1                    </td><td>0.010                </td></tr>\n",
       "\t<tr><td>pl.put.qmese.data    </td><td>Experiment           </td><td>125                  </td><td>high                 </td><td>5                    </td><td>0.125                </td></tr>\n",
       "\t<tr><td>pl.put.qmese.data    </td><td>CaseStudy            </td><td>150                  </td><td>low                  </td><td>6                    </td><td>0.150                </td></tr>\n",
       "\t<tr><td>pl.put.qmese.data    </td><td>Survey               </td><td>111                  </td><td>high                 </td><td>5                    </td><td>0.111                </td></tr>\n",
       "</tbody>\n",
       "</table>\n"
      ],
      "text/latex": [
       "\\begin{tabular}{r|llllll}\n",
       " Package & Class & LOC & CodeQuality & NoBugs & KLOC\\\\\n",
       "\\hline\n",
       "\t pl.put.qmese          & Handler               &  23                   & medium                & 3                     & 0.023                \\\\\n",
       "\t pl.put.qmese          & Exception             &  10                   & medium                & 2                     & 0.010                \\\\\n",
       "\t pl.put.qmese          & Plugin                & 124                   & high                  & 5                     & 0.124                \\\\\n",
       "\t pl.put.qmese.internal & Input                 & 224                   & low                   & 8                     & 0.224                \\\\\n",
       "\t pl.put.qmese          & Info                  & 111                   & high                  & 5                     & 0.111                \\\\\n",
       "\t pl.put.qmese          & Log                   &  23                   & medium                & 3                     & 0.023                \\\\\n",
       "\t pl.put.qmese.internal & Error                 &  10                   & low                   & 1                     & 0.010                \\\\\n",
       "\t pl.put.qmese.data     & Experiment            & 125                   & high                  & 5                     & 0.125                \\\\\n",
       "\t pl.put.qmese.data     & CaseStudy             & 150                   & low                   & 6                     & 0.150                \\\\\n",
       "\t pl.put.qmese.data     & Survey                & 111                   & high                  & 5                     & 0.111                \\\\\n",
       "\\end{tabular}\n"
      ],
      "text/markdown": [
       "\n",
       "| Package | Class | LOC | CodeQuality | NoBugs | KLOC |\n",
       "|---|---|---|---|---|---|\n",
       "| pl.put.qmese          | Handler               |  23                   | medium                | 3                     | 0.023                 |\n",
       "| pl.put.qmese          | Exception             |  10                   | medium                | 2                     | 0.010                 |\n",
       "| pl.put.qmese          | Plugin                | 124                   | high                  | 5                     | 0.124                 |\n",
       "| pl.put.qmese.internal | Input                 | 224                   | low                   | 8                     | 0.224                 |\n",
       "| pl.put.qmese          | Info                  | 111                   | high                  | 5                     | 0.111                 |\n",
       "| pl.put.qmese          | Log                   |  23                   | medium                | 3                     | 0.023                 |\n",
       "| pl.put.qmese.internal | Error                 |  10                   | low                   | 1                     | 0.010                 |\n",
       "| pl.put.qmese.data     | Experiment            | 125                   | high                  | 5                     | 0.125                 |\n",
       "| pl.put.qmese.data     | CaseStudy             | 150                   | low                   | 6                     | 0.150                 |\n",
       "| pl.put.qmese.data     | Survey                | 111                   | high                  | 5                     | 0.111                 |\n",
       "\n"
      ],
      "text/plain": [
       "   Package               Class      LOC CodeQuality NoBugs KLOC \n",
       "1  pl.put.qmese          Handler     23 medium      3      0.023\n",
       "2  pl.put.qmese          Exception   10 medium      2      0.010\n",
       "3  pl.put.qmese          Plugin     124 high        5      0.124\n",
       "4  pl.put.qmese.internal Input      224 low         8      0.224\n",
       "5  pl.put.qmese          Info       111 high        5      0.111\n",
       "6  pl.put.qmese          Log         23 medium      3      0.023\n",
       "7  pl.put.qmese.internal Error       10 low         1      0.010\n",
       "8  pl.put.qmese.data     Experiment 125 high        5      0.125\n",
       "9  pl.put.qmese.data     CaseStudy  150 low         6      0.150\n",
       "10 pl.put.qmese.data     Survey     111 high        5      0.111"
      ]
     },
     "metadata": {},
     "output_type": "display_data"
    }
   ],
   "source": [
    "data.frame(code_data, KLOC=code_data$LOC / 1000)"
   ]
  },
  {
   "cell_type": "code",
   "execution_count": 29,
   "metadata": {},
   "outputs": [
    {
     "data": {
      "text/html": [
       "<table>\n",
       "<thead><tr><th scope=col>Package</th><th scope=col>Class</th><th scope=col>LOC</th><th scope=col>CodeQuality</th><th scope=col>NoBugs</th><th scope=col>KLOC</th></tr></thead>\n",
       "<tbody>\n",
       "\t<tr><td>pl.put.qmese         </td><td>Handler              </td><td> 23                  </td><td>medium               </td><td>3                    </td><td>0.023                </td></tr>\n",
       "\t<tr><td>pl.put.qmese         </td><td>Exception            </td><td> 10                  </td><td>medium               </td><td>2                    </td><td>0.010                </td></tr>\n",
       "\t<tr><td>pl.put.qmese         </td><td>Plugin               </td><td>124                  </td><td>high                 </td><td>5                    </td><td>0.124                </td></tr>\n",
       "\t<tr><td>pl.put.qmese.internal</td><td>Input                </td><td>224                  </td><td>low                  </td><td>8                    </td><td>0.224                </td></tr>\n",
       "\t<tr><td>pl.put.qmese         </td><td>Info                 </td><td>111                  </td><td>high                 </td><td>5                    </td><td>0.111                </td></tr>\n",
       "\t<tr><td>pl.put.qmese         </td><td>Log                  </td><td> 23                  </td><td>medium               </td><td>3                    </td><td>0.023                </td></tr>\n",
       "\t<tr><td>pl.put.qmese.internal</td><td>Error                </td><td> 10                  </td><td>low                  </td><td>1                    </td><td>0.010                </td></tr>\n",
       "\t<tr><td>pl.put.qmese.data    </td><td>Experiment           </td><td>125                  </td><td>high                 </td><td>5                    </td><td>0.125                </td></tr>\n",
       "\t<tr><td>pl.put.qmese.data    </td><td>CaseStudy            </td><td>150                  </td><td>low                  </td><td>6                    </td><td>0.150                </td></tr>\n",
       "\t<tr><td>pl.put.qmese.data    </td><td>Survey               </td><td>111                  </td><td>high                 </td><td>5                    </td><td>0.111                </td></tr>\n",
       "</tbody>\n",
       "</table>\n"
      ],
      "text/latex": [
       "\\begin{tabular}{r|llllll}\n",
       " Package & Class & LOC & CodeQuality & NoBugs & KLOC\\\\\n",
       "\\hline\n",
       "\t pl.put.qmese          & Handler               &  23                   & medium                & 3                     & 0.023                \\\\\n",
       "\t pl.put.qmese          & Exception             &  10                   & medium                & 2                     & 0.010                \\\\\n",
       "\t pl.put.qmese          & Plugin                & 124                   & high                  & 5                     & 0.124                \\\\\n",
       "\t pl.put.qmese.internal & Input                 & 224                   & low                   & 8                     & 0.224                \\\\\n",
       "\t pl.put.qmese          & Info                  & 111                   & high                  & 5                     & 0.111                \\\\\n",
       "\t pl.put.qmese          & Log                   &  23                   & medium                & 3                     & 0.023                \\\\\n",
       "\t pl.put.qmese.internal & Error                 &  10                   & low                   & 1                     & 0.010                \\\\\n",
       "\t pl.put.qmese.data     & Experiment            & 125                   & high                  & 5                     & 0.125                \\\\\n",
       "\t pl.put.qmese.data     & CaseStudy             & 150                   & low                   & 6                     & 0.150                \\\\\n",
       "\t pl.put.qmese.data     & Survey                & 111                   & high                  & 5                     & 0.111                \\\\\n",
       "\\end{tabular}\n"
      ],
      "text/markdown": [
       "\n",
       "| Package | Class | LOC | CodeQuality | NoBugs | KLOC |\n",
       "|---|---|---|---|---|---|\n",
       "| pl.put.qmese          | Handler               |  23                   | medium                | 3                     | 0.023                 |\n",
       "| pl.put.qmese          | Exception             |  10                   | medium                | 2                     | 0.010                 |\n",
       "| pl.put.qmese          | Plugin                | 124                   | high                  | 5                     | 0.124                 |\n",
       "| pl.put.qmese.internal | Input                 | 224                   | low                   | 8                     | 0.224                 |\n",
       "| pl.put.qmese          | Info                  | 111                   | high                  | 5                     | 0.111                 |\n",
       "| pl.put.qmese          | Log                   |  23                   | medium                | 3                     | 0.023                 |\n",
       "| pl.put.qmese.internal | Error                 |  10                   | low                   | 1                     | 0.010                 |\n",
       "| pl.put.qmese.data     | Experiment            | 125                   | high                  | 5                     | 0.125                 |\n",
       "| pl.put.qmese.data     | CaseStudy             | 150                   | low                   | 6                     | 0.150                 |\n",
       "| pl.put.qmese.data     | Survey                | 111                   | high                  | 5                     | 0.111                 |\n",
       "\n"
      ],
      "text/plain": [
       "   Package               Class      LOC CodeQuality NoBugs KLOC \n",
       "1  pl.put.qmese          Handler     23 medium      3      0.023\n",
       "2  pl.put.qmese          Exception   10 medium      2      0.010\n",
       "3  pl.put.qmese          Plugin     124 high        5      0.124\n",
       "4  pl.put.qmese.internal Input      224 low         8      0.224\n",
       "5  pl.put.qmese          Info       111 high        5      0.111\n",
       "6  pl.put.qmese          Log         23 medium      3      0.023\n",
       "7  pl.put.qmese.internal Error       10 low         1      0.010\n",
       "8  pl.put.qmese.data     Experiment 125 high        5      0.125\n",
       "9  pl.put.qmese.data     CaseStudy  150 low         6      0.150\n",
       "10 pl.put.qmese.data     Survey     111 high        5      0.111"
      ]
     },
     "metadata": {},
     "output_type": "display_data"
    }
   ],
   "source": [
    "code_data %>% mutate(KLOC=LOC/1000)"
   ]
  },
  {
   "cell_type": "markdown",
   "metadata": {},
   "source": [
    "group_by – groups values (adds meta-data)"
   ]
  },
  {
   "cell_type": "code",
   "execution_count": 30,
   "metadata": {},
   "outputs": [
    {
     "data": {
      "text/html": [
       "<table>\n",
       "<thead><tr><th scope=col>Package</th><th scope=col>Class</th><th scope=col>LOC</th><th scope=col>CodeQuality</th><th scope=col>NoBugs</th></tr></thead>\n",
       "<tbody>\n",
       "\t<tr><td>pl.put.qmese         </td><td>Handler              </td><td> 23                  </td><td>medium               </td><td>3                    </td></tr>\n",
       "\t<tr><td>pl.put.qmese         </td><td>Exception            </td><td> 10                  </td><td>medium               </td><td>2                    </td></tr>\n",
       "\t<tr><td>pl.put.qmese         </td><td>Plugin               </td><td>124                  </td><td>high                 </td><td>5                    </td></tr>\n",
       "\t<tr><td>pl.put.qmese.internal</td><td>Input                </td><td>224                  </td><td>low                  </td><td>8                    </td></tr>\n",
       "\t<tr><td>pl.put.qmese         </td><td>Info                 </td><td>111                  </td><td>high                 </td><td>5                    </td></tr>\n",
       "\t<tr><td>pl.put.qmese         </td><td>Log                  </td><td> 23                  </td><td>medium               </td><td>3                    </td></tr>\n",
       "\t<tr><td>pl.put.qmese.internal</td><td>Error                </td><td> 10                  </td><td>low                  </td><td>1                    </td></tr>\n",
       "\t<tr><td>pl.put.qmese.data    </td><td>Experiment           </td><td>125                  </td><td>high                 </td><td>5                    </td></tr>\n",
       "\t<tr><td>pl.put.qmese.data    </td><td>CaseStudy            </td><td>150                  </td><td>low                  </td><td>6                    </td></tr>\n",
       "\t<tr><td>pl.put.qmese.data    </td><td>Survey               </td><td>111                  </td><td>high                 </td><td>5                    </td></tr>\n",
       "</tbody>\n",
       "</table>\n"
      ],
      "text/latex": [
       "\\begin{tabular}{r|lllll}\n",
       " Package & Class & LOC & CodeQuality & NoBugs\\\\\n",
       "\\hline\n",
       "\t pl.put.qmese          & Handler               &  23                   & medium                & 3                    \\\\\n",
       "\t pl.put.qmese          & Exception             &  10                   & medium                & 2                    \\\\\n",
       "\t pl.put.qmese          & Plugin                & 124                   & high                  & 5                    \\\\\n",
       "\t pl.put.qmese.internal & Input                 & 224                   & low                   & 8                    \\\\\n",
       "\t pl.put.qmese          & Info                  & 111                   & high                  & 5                    \\\\\n",
       "\t pl.put.qmese          & Log                   &  23                   & medium                & 3                    \\\\\n",
       "\t pl.put.qmese.internal & Error                 &  10                   & low                   & 1                    \\\\\n",
       "\t pl.put.qmese.data     & Experiment            & 125                   & high                  & 5                    \\\\\n",
       "\t pl.put.qmese.data     & CaseStudy             & 150                   & low                   & 6                    \\\\\n",
       "\t pl.put.qmese.data     & Survey                & 111                   & high                  & 5                    \\\\\n",
       "\\end{tabular}\n"
      ],
      "text/markdown": [
       "\n",
       "| Package | Class | LOC | CodeQuality | NoBugs |\n",
       "|---|---|---|---|---|\n",
       "| pl.put.qmese          | Handler               |  23                   | medium                | 3                     |\n",
       "| pl.put.qmese          | Exception             |  10                   | medium                | 2                     |\n",
       "| pl.put.qmese          | Plugin                | 124                   | high                  | 5                     |\n",
       "| pl.put.qmese.internal | Input                 | 224                   | low                   | 8                     |\n",
       "| pl.put.qmese          | Info                  | 111                   | high                  | 5                     |\n",
       "| pl.put.qmese          | Log                   |  23                   | medium                | 3                     |\n",
       "| pl.put.qmese.internal | Error                 |  10                   | low                   | 1                     |\n",
       "| pl.put.qmese.data     | Experiment            | 125                   | high                  | 5                     |\n",
       "| pl.put.qmese.data     | CaseStudy             | 150                   | low                   | 6                     |\n",
       "| pl.put.qmese.data     | Survey                | 111                   | high                  | 5                     |\n",
       "\n"
      ],
      "text/plain": [
       "   Package               Class      LOC CodeQuality NoBugs\n",
       "1  pl.put.qmese          Handler     23 medium      3     \n",
       "2  pl.put.qmese          Exception   10 medium      2     \n",
       "3  pl.put.qmese          Plugin     124 high        5     \n",
       "4  pl.put.qmese.internal Input      224 low         8     \n",
       "5  pl.put.qmese          Info       111 high        5     \n",
       "6  pl.put.qmese          Log         23 medium      3     \n",
       "7  pl.put.qmese.internal Error       10 low         1     \n",
       "8  pl.put.qmese.data     Experiment 125 high        5     \n",
       "9  pl.put.qmese.data     CaseStudy  150 low         6     \n",
       "10 pl.put.qmese.data     Survey     111 high        5     "
      ]
     },
     "metadata": {},
     "output_type": "display_data"
    }
   ],
   "source": [
    "code_data %>% group_by(Package)"
   ]
  },
  {
   "cell_type": "markdown",
   "metadata": {},
   "source": [
    "Summarise – aggregates after grouped"
   ]
  },
  {
   "cell_type": "code",
   "execution_count": 31,
   "metadata": {},
   "outputs": [
    {
     "data": {
      "text/html": [
       "<table>\n",
       "<thead><tr><th scope=col>Package</th><th scope=col>meanLOC</th><th scope=col>N</th></tr></thead>\n",
       "<tbody>\n",
       "\t<tr><td>pl.put.qmese         </td><td> 58.2000             </td><td>5                    </td></tr>\n",
       "\t<tr><td>pl.put.qmese.data    </td><td>128.6667             </td><td>3                    </td></tr>\n",
       "\t<tr><td>pl.put.qmese.internal</td><td>117.0000             </td><td>2                    </td></tr>\n",
       "</tbody>\n",
       "</table>\n"
      ],
      "text/latex": [
       "\\begin{tabular}{r|lll}\n",
       " Package & meanLOC & N\\\\\n",
       "\\hline\n",
       "\t pl.put.qmese          &  58.2000              & 5                    \\\\\n",
       "\t pl.put.qmese.data     & 128.6667              & 3                    \\\\\n",
       "\t pl.put.qmese.internal & 117.0000              & 2                    \\\\\n",
       "\\end{tabular}\n"
      ],
      "text/markdown": [
       "\n",
       "| Package | meanLOC | N |\n",
       "|---|---|---|\n",
       "| pl.put.qmese          |  58.2000              | 5                     |\n",
       "| pl.put.qmese.data     | 128.6667              | 3                     |\n",
       "| pl.put.qmese.internal | 117.0000              | 2                     |\n",
       "\n"
      ],
      "text/plain": [
       "  Package               meanLOC  N\n",
       "1 pl.put.qmese           58.2000 5\n",
       "2 pl.put.qmese.data     128.6667 3\n",
       "3 pl.put.qmese.internal 117.0000 2"
      ]
     },
     "metadata": {},
     "output_type": "display_data"
    }
   ],
   "source": [
    "code_data %>% group_by(Package) %>% summarise(meanLOC=mean(LOC), N=n())"
   ]
  }
 ],
 "metadata": {
  "kernelspec": {
   "display_name": "R",
   "language": "R",
   "name": "ir"
  },
  "language_info": {
   "codemirror_mode": "r",
   "file_extension": ".r",
   "mimetype": "text/x-r-source",
   "name": "R",
   "pygments_lexer": "r",
   "version": "3.6.1"
  }
 },
 "nbformat": 4,
 "nbformat_minor": 2
}
