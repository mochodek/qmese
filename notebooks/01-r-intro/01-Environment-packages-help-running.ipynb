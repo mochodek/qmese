{
 "cells": [
  {
   "attachments": {},
   "cell_type": "markdown",
   "metadata": {},
   "source": [
    "# PART 01 - Environment, packages, help system, and running scripts\n",
    "\n",
    "In this part, you will learn:\n",
    "* What is the R session, workspace, working directory?\n",
    "* How does the R help system work?\n",
    "* How to manage packages?\n",
    "* How to run scripts?\n"
   ]
  },
  {
   "cell_type": "markdown",
   "metadata": {},
   "source": [
    "## R Session\n",
    "\n",
    "Once you run R it is going to start a new ***session***. \n",
    "\n",
    "Each session has its workspace. ***A workspace stores all objects that have been created and maintained within the session***. You can list ls(), remove rm(object) objects from the workspace. If you want to store the state of workspace you do it by calling the function save.image(filepath). Finally, you can also load previously stored session by calling load(filepath). \n",
    "\n",
    "Another term you will use is ***working directory***. It is a default directory from which all relative paths will be determined. "
   ]
  },
  {
   "cell_type": "markdown",
   "metadata": {},
   "source": [
    "We have already started an R session. Let's see how the workspace works by defining a few variables."
   ]
  },
  {
   "cell_type": "code",
   "execution_count": null,
   "metadata": {},
   "outputs": [],
   "source": [
    "a <- 20"
   ]
  },
  {
   "cell_type": "code",
   "execution_count": null,
   "metadata": {},
   "outputs": [],
   "source": [
    "b <- \"A message\""
   ]
  },
  {
   "cell_type": "markdown",
   "metadata": {},
   "source": [
    "Let's see if those variables are in the workspace:"
   ]
  },
  {
   "cell_type": "code",
   "execution_count": null,
   "metadata": {},
   "outputs": [],
   "source": [
    "ls()"
   ]
  },
  {
   "cell_type": "markdown",
   "metadata": {},
   "source": [
    "Let's see how can we remove variables. You probably ask why you would ever do so? When you analyze big datasets, you may produce some intermediete data structures that take lots of memory and you might want to remove them."
   ]
  },
  {
   "cell_type": "code",
   "execution_count": null,
   "metadata": {},
   "outputs": [],
   "source": [
    "# Remove a by reference\n",
    "rm(a)\n",
    "ls()"
   ]
  },
  {
   "cell_type": "code",
   "execution_count": null,
   "metadata": {},
   "outputs": [],
   "source": [
    "# Remove b by its name\n",
    "rm('b')\n",
    "ls()"
   ]
  },
  {
   "cell_type": "markdown",
   "metadata": {},
   "source": [
    "Let's see where do we have our working directory"
   ]
  },
  {
   "cell_type": "code",
   "execution_count": null,
   "metadata": {},
   "outputs": [],
   "source": [
    "getwd()"
   ]
  },
  {
   "cell_type": "markdown",
   "metadata": {},
   "source": [
    "You can set the working directory using setwd() function."
   ]
  },
  {
   "cell_type": "code",
   "execution_count": null,
   "metadata": {},
   "outputs": [],
   "source": [
    "setwd(getwd())"
   ]
  },
  {
   "cell_type": "markdown",
   "metadata": {},
   "source": [
    "Saving workspace"
   ]
  },
  {
   "cell_type": "code",
   "execution_count": null,
   "metadata": {},
   "outputs": [],
   "source": [
    "a <- 10\n",
    "save.image('workspace')\n",
    "rm(a)\n",
    "ls()"
   ]
  },
  {
   "cell_type": "markdown",
   "metadata": {},
   "source": [
    "Load data"
   ]
  },
  {
   "cell_type": "code",
   "execution_count": null,
   "metadata": {},
   "outputs": [],
   "source": [
    "load('workspace')\n",
    "ls()"
   ]
  },
  {
   "cell_type": "markdown",
   "metadata": {},
   "source": [
    "## Managing packages\n",
    "R has a modular architecture. The base functionality is extended by packages. You can install a package by calling install.package(name) or using the packages view in RStudio. Remember that packages have to be loaded within a session. To do that you can use either library(name) or require(name). The former will throw an error if the package is not available. "
   ]
  },
  {
   "cell_type": "code",
   "execution_count": null,
   "metadata": {},
   "outputs": [],
   "source": [
    "# It's better not to run in the Jupyter notebook since it sometimes causes problems\n",
    "# Preferably, open terminal, run R, and install packages there\n",
    "\n",
    "#remove.packages(\"dplyr\")\n",
    "#install.packages(\"dplyr\", repos='http://cran.us.r-project.org')"
   ]
  },
  {
   "cell_type": "code",
   "execution_count": null,
   "metadata": {},
   "outputs": [],
   "source": [
    "library(dplyr)"
   ]
  },
  {
   "cell_type": "code",
   "execution_count": null,
   "metadata": {},
   "outputs": [],
   "source": [
    "require(dplyr)\n",
    "print(require(dplyr))"
   ]
  },
  {
   "cell_type": "markdown",
   "metadata": {},
   "source": [
    "require() can be used to install packages if they are not available and load them:"
   ]
  },
  {
   "cell_type": "code",
   "execution_count": null,
   "metadata": {},
   "outputs": [],
   "source": [
    "if (!require(dplyr)){\n",
    "    install.packages(\"dplyr\", dependencies = TRUE)\n",
    "}"
   ]
  },
  {
   "cell_type": "markdown",
   "metadata": {},
   "source": [
    "## Help system\n",
    "Each package comes with a built-in help. You can check the documentation for a function by preceding its name with \"?\", e.g., ?median. If you don't remember the name you can use double question marks \"??\" to search for it, e.g., ??median."
   ]
  },
  {
   "cell_type": "code",
   "execution_count": null,
   "metadata": {},
   "outputs": [],
   "source": [
    "options(browser=\"chrome\")\n",
    "help.start()"
   ]
  },
  {
   "cell_type": "code",
   "execution_count": null,
   "metadata": {},
   "outputs": [],
   "source": [
    "help(median)\n",
    "?median"
   ]
  },
  {
   "cell_type": "code",
   "execution_count": null,
   "metadata": {},
   "outputs": [],
   "source": [
    "example(median)"
   ]
  },
  {
   "cell_type": "code",
   "execution_count": null,
   "metadata": {},
   "outputs": [],
   "source": [
    "require(dplyr)\n",
    "vignette(\"dplyr\") # this might not work in the notebook"
   ]
  },
  {
   "cell_type": "markdown",
   "metadata": {},
   "source": [
    "## Running scripts\n",
    "Although you can write your programs using an interactive console, it is usually more convenient to store your code as scripts. A script is a file with the .R extension. You can run a script by calling source(path)."
   ]
  },
  {
   "cell_type": "code",
   "execution_count": null,
   "metadata": {},
   "outputs": [],
   "source": [
    "source(\"./script.R\")"
   ]
  }
 ],
 "metadata": {
  "kernelspec": {
   "display_name": "R",
   "language": "R",
   "name": "ir"
  },
  "language_info": {
   "codemirror_mode": "r",
   "file_extension": ".r",
   "mimetype": "text/x-r-source",
   "name": "R",
   "pygments_lexer": "r",
   "version": "3.6.1"
  }
 },
 "nbformat": 4,
 "nbformat_minor": 2
}
